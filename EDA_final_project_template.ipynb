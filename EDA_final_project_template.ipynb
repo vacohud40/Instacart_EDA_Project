{
 "cells": [
  {
   "cell_type": "markdown",
   "id": "9f6397a7",
   "metadata": {},
   "source": [
    "**Instacart Exploratory Data Analysis (EDA) Project**\n",
    "\n",
    "**Project Description**\n",
    "This project conducts an Exploratory Data Analysis (EDA) on a dataset provided by Instacart, an online grocery delivery service. The dataset contains a sample of anonymized order, product, aisle, and department information from real Instacart orders. The goal is to uncover insights into customer shopping behavior, product popularity, and order patterns to inform potential business strategies.\n",
    "\n",
    "**Analysis Goal**\n",
    "The primary objective of this EDA is to gain a comprehensive understanding of the Instacart dataset. This includes:\n",
    "* **Understanding Customer Behavior:** Analyzing how customers place orders (e.g., reorder rates, order frequency, time of day/week preferences).\n",
    "* **Identifying Popular Products & Categories:** Determining which products, aisles, and departments are most frequently purchased or reordered.\n",
    "* **Exploring Order Patterns:** Investigating relationships between different aspects of orders, such as order size, timing, and product mix.\n",
    "* **Deriving Actionable Insights:** Using visualizations and statistical summaries to identify trends and anomalies that could help Instacart optimize operations, marketing, or inventory management."
   ]
  },
  {
   "cell_type": "code",
   "execution_count": 1,
   "id": "fbf1adab",
   "metadata": {
    "trusted": false
   },
   "outputs": [],
   "source": [
    "# Data Loading and Exploration\n",
    "# Mission is to clean up the data and prepare a report that gives insight into the shopping habits of Instacart customers\n",
    "\n",
    "import pandas as pd\n",
    "import seaborn as sns\n",
    "import matplotlib.pyplot as plt\n",
    "\n",
    "instacart_data = pd.read_csv('instacart_orders.csv', sep=';')\n",
    "products_data = pd.read_csv('products.csv', sep=';')\n",
    "aisles_data = pd.read_csv('aisles.csv', sep=';')\n",
    "departments_data = pd.read_csv('departments.csv', sep=';')\n",
    "orders_data = pd.read_csv('order_products.csv', sep=';')\n",
    "\n",
    "def analyze_data(df):\n",
    "    # Info\n",
    "    print(df.info())\n",
    "\n",
    "    # First few rows\n",
    "    print(df.head())\n",
    "\n",
    "    # Missing values\n",
    "    print(df.isna().sum())\n",
    "\n",
    "    # Duplicates\n",
    "    print(df.duplicated().sum())"
   ]
  },
  {
   "cell_type": "code",
   "execution_count": 2,
   "id": "ad6a1efa",
   "metadata": {
    "trusted": false
   },
   "outputs": [
    {
     "name": "stdout",
     "output_type": "stream",
     "text": [
      "<class 'pandas.core.frame.DataFrame'>\n",
      "RangeIndex: 478967 entries, 0 to 478966\n",
      "Data columns (total 6 columns):\n",
      " #   Column                  Non-Null Count   Dtype  \n",
      "---  ------                  --------------   -----  \n",
      " 0   order_id                478967 non-null  int64  \n",
      " 1   user_id                 478967 non-null  int64  \n",
      " 2   order_number            478967 non-null  int64  \n",
      " 3   order_dow               478967 non-null  int64  \n",
      " 4   order_hour_of_day       478967 non-null  int64  \n",
      " 5   days_since_prior_order  450148 non-null  float64\n",
      "dtypes: float64(1), int64(5)\n",
      "memory usage: 21.9 MB\n",
      "None\n",
      "   order_id  user_id  order_number  order_dow  order_hour_of_day  \\\n",
      "0   1515936   183418            11          6                 13   \n",
      "1   1690866   163593             5          5                 12   \n",
      "2   1454967    39980             4          5                 19   \n",
      "3   1768857    82516            56          0                 20   \n",
      "4   3007858   196724             2          4                 12   \n",
      "\n",
      "   days_since_prior_order  \n",
      "0                    30.0  \n",
      "1                     9.0  \n",
      "2                     2.0  \n",
      "3                    10.0  \n",
      "4                    17.0  \n",
      "order_id                      0\n",
      "user_id                       0\n",
      "order_number                  0\n",
      "order_dow                     0\n",
      "order_hour_of_day             0\n",
      "days_since_prior_order    28819\n",
      "dtype: int64\n",
      "15\n"
     ]
    }
   ],
   "source": [
    "# Initial exploration for the instacart df\n",
    "analyze_data(instacart_data)"
   ]
  },
  {
   "cell_type": "code",
   "execution_count": 3,
   "id": "5130e05e",
   "metadata": {
    "trusted": false
   },
   "outputs": [
    {
     "name": "stdout",
     "output_type": "stream",
     "text": [
      "<class 'pandas.core.frame.DataFrame'>\n",
      "RangeIndex: 49694 entries, 0 to 49693\n",
      "Data columns (total 4 columns):\n",
      " #   Column         Non-Null Count  Dtype  \n",
      "---  ------         --------------  -----  \n",
      " 0   product_id     49694 non-null  object \n",
      " 1   product_name   48311 non-null  object \n",
      " 2   aisle_id       49569 non-null  float64\n",
      " 3   department_id  49569 non-null  float64\n",
      "dtypes: float64(2), object(2)\n",
      "memory usage: 1.5+ MB\n",
      "None\n",
      "  product_id                                       product_name  aisle_id  \\\n",
      "0          1                         Chocolate Sandwich Cookies      61.0   \n",
      "1          2                                   All-Seasons Salt     104.0   \n",
      "2          3               Robust Golden Unsweetened Oolong Tea      94.0   \n",
      "3          4  Smart Ones Classic Favorites Mini Rigatoni Wit...      38.0   \n",
      "4          5                          Green Chile Anytime Sauce       5.0   \n",
      "\n",
      "   department_id  \n",
      "0           19.0  \n",
      "1           13.0  \n",
      "2            7.0  \n",
      "3            1.0  \n",
      "4           13.0  \n",
      "product_id          0\n",
      "product_name     1383\n",
      "aisle_id          125\n",
      "department_id     125\n",
      "dtype: int64\n",
      "0\n"
     ]
    }
   ],
   "source": [
    "# Initial exploration for the products df\n",
    "analyze_data(products_data)"
   ]
  },
  {
   "cell_type": "code",
   "execution_count": 4,
   "id": "d8370c05",
   "metadata": {
    "trusted": false
   },
   "outputs": [
    {
     "name": "stdout",
     "output_type": "stream",
     "text": [
      "<class 'pandas.core.frame.DataFrame'>\n",
      "RangeIndex: 134 entries, 0 to 133\n",
      "Data columns (total 2 columns):\n",
      " #   Column    Non-Null Count  Dtype \n",
      "---  ------    --------------  ----- \n",
      " 0   aisle_id  134 non-null    int64 \n",
      " 1   aisle     134 non-null    object\n",
      "dtypes: int64(1), object(1)\n",
      "memory usage: 2.2+ KB\n",
      "None\n",
      "   aisle_id                       aisle\n",
      "0         1       prepared soups salads\n",
      "1         2           specialty cheeses\n",
      "2         3         energy granola bars\n",
      "3         4               instant foods\n",
      "4         5  marinades meat preparation\n",
      "aisle_id    0\n",
      "aisle       0\n",
      "dtype: int64\n",
      "0\n"
     ]
    }
   ],
   "source": [
    "# Initial exploration for the aisles df \n",
    "analyze_data(aisles_data)"
   ]
  },
  {
   "cell_type": "code",
   "execution_count": 5,
   "id": "59e2090f",
   "metadata": {
    "trusted": false
   },
   "outputs": [
    {
     "name": "stdout",
     "output_type": "stream",
     "text": [
      "<class 'pandas.core.frame.DataFrame'>\n",
      "RangeIndex: 21 entries, 0 to 20\n",
      "Data columns (total 2 columns):\n",
      " #   Column         Non-Null Count  Dtype \n",
      "---  ------         --------------  ----- \n",
      " 0   department_id  21 non-null     int64 \n",
      " 1   department     21 non-null     object\n",
      "dtypes: int64(1), object(1)\n",
      "memory usage: 468.0+ bytes\n",
      "None\n",
      "   department_id department\n",
      "0              1     frozen\n",
      "1              2      other\n",
      "2              3     bakery\n",
      "3              4    produce\n",
      "4              5    alcohol\n",
      "department_id    0\n",
      "department       0\n",
      "dtype: int64\n",
      "0\n"
     ]
    }
   ],
   "source": [
    "# Initial exploration for the departments df \n",
    "analyze_data(departments_data)"
   ]
  },
  {
   "cell_type": "code",
   "execution_count": 6,
   "id": "6fc81694",
   "metadata": {
    "trusted": false
   },
   "outputs": [
    {
     "name": "stdout",
     "output_type": "stream",
     "text": [
      "<class 'pandas.core.frame.DataFrame'>\n",
      "RangeIndex: 1048575 entries, 0 to 1048574\n",
      "Data columns (total 4 columns):\n",
      " #   Column             Non-Null Count    Dtype  \n",
      "---  ------             --------------    -----  \n",
      " 0   order_id           1048575 non-null  int64  \n",
      " 1   product_id         1048575 non-null  int64  \n",
      " 2   add_to_cart_order  1048380 non-null  float64\n",
      " 3   reordered          1048575 non-null  int64  \n",
      "dtypes: float64(1), int64(3)\n",
      "memory usage: 32.0 MB\n",
      "None\n",
      "   order_id  product_id  add_to_cart_order  reordered\n",
      "0   2141543       11440               17.0          0\n",
      "1    567889        1560                1.0          1\n",
      "2   2261212       26683                1.0          1\n",
      "3    491251        8670               35.0          1\n",
      "4   2571142        1940                5.0          1\n",
      "order_id               0\n",
      "product_id             0\n",
      "add_to_cart_order    195\n",
      "reordered              0\n",
      "dtype: int64\n",
      "0\n"
     ]
    }
   ],
   "source": [
    "# Initial exploration for the orders df \n",
    "analyze_data(orders_data)"
   ]
  },
  {
   "cell_type": "markdown",
   "id": "f179f0a9",
   "metadata": {},
   "source": [
    "### `orders` data frame"
   ]
  },
  {
   "cell_type": "code",
   "execution_count": 7,
   "id": "0d44de5d",
   "metadata": {
    "trusted": false
   },
   "outputs": [
    {
     "data": {
      "text/html": [
       "<div>\n",
       "<style scoped>\n",
       "    .dataframe tbody tr th:only-of-type {\n",
       "        vertical-align: middle;\n",
       "    }\n",
       "\n",
       "    .dataframe tbody tr th {\n",
       "        vertical-align: top;\n",
       "    }\n",
       "\n",
       "    .dataframe thead th {\n",
       "        text-align: right;\n",
       "    }\n",
       "</style>\n",
       "<table border=\"1\" class=\"dataframe\">\n",
       "  <thead>\n",
       "    <tr style=\"text-align: right;\">\n",
       "      <th></th>\n",
       "      <th>order_id</th>\n",
       "      <th>user_id</th>\n",
       "      <th>order_number</th>\n",
       "      <th>order_dow</th>\n",
       "      <th>order_hour_of_day</th>\n",
       "      <th>days_since_prior_order</th>\n",
       "    </tr>\n",
       "  </thead>\n",
       "  <tbody>\n",
       "    <tr>\n",
       "      <th>1295</th>\n",
       "      <td>1474941</td>\n",
       "      <td>115569</td>\n",
       "      <td>5</td>\n",
       "      <td>2</td>\n",
       "      <td>2</td>\n",
       "      <td>28.0</td>\n",
       "    </tr>\n",
       "    <tr>\n",
       "      <th>2391</th>\n",
       "      <td>1640269</td>\n",
       "      <td>173965</td>\n",
       "      <td>15</td>\n",
       "      <td>2</td>\n",
       "      <td>2</td>\n",
       "      <td>2.0</td>\n",
       "    </tr>\n",
       "    <tr>\n",
       "      <th>2550</th>\n",
       "      <td>1223696</td>\n",
       "      <td>55276</td>\n",
       "      <td>11</td>\n",
       "      <td>2</td>\n",
       "      <td>2</td>\n",
       "      <td>30.0</td>\n",
       "    </tr>\n",
       "    <tr>\n",
       "      <th>5965</th>\n",
       "      <td>579194</td>\n",
       "      <td>85018</td>\n",
       "      <td>14</td>\n",
       "      <td>2</td>\n",
       "      <td>2</td>\n",
       "      <td>11.0</td>\n",
       "    </tr>\n",
       "    <tr>\n",
       "      <th>17680</th>\n",
       "      <td>2004230</td>\n",
       "      <td>203121</td>\n",
       "      <td>4</td>\n",
       "      <td>2</td>\n",
       "      <td>2</td>\n",
       "      <td>8.0</td>\n",
       "    </tr>\n",
       "    <tr>\n",
       "      <th>...</th>\n",
       "      <td>...</td>\n",
       "      <td>...</td>\n",
       "      <td>...</td>\n",
       "      <td>...</td>\n",
       "      <td>...</td>\n",
       "      <td>...</td>\n",
       "    </tr>\n",
       "    <tr>\n",
       "      <th>457660</th>\n",
       "      <td>1562381</td>\n",
       "      <td>19378</td>\n",
       "      <td>5</td>\n",
       "      <td>2</td>\n",
       "      <td>2</td>\n",
       "      <td>6.0</td>\n",
       "    </tr>\n",
       "    <tr>\n",
       "      <th>460316</th>\n",
       "      <td>1986084</td>\n",
       "      <td>117453</td>\n",
       "      <td>81</td>\n",
       "      <td>2</td>\n",
       "      <td>2</td>\n",
       "      <td>8.0</td>\n",
       "    </tr>\n",
       "    <tr>\n",
       "      <th>462676</th>\n",
       "      <td>1362113</td>\n",
       "      <td>19654</td>\n",
       "      <td>20</td>\n",
       "      <td>2</td>\n",
       "      <td>2</td>\n",
       "      <td>21.0</td>\n",
       "    </tr>\n",
       "    <tr>\n",
       "      <th>472800</th>\n",
       "      <td>1746383</td>\n",
       "      <td>88484</td>\n",
       "      <td>19</td>\n",
       "      <td>2</td>\n",
       "      <td>2</td>\n",
       "      <td>5.0</td>\n",
       "    </tr>\n",
       "    <tr>\n",
       "      <th>472923</th>\n",
       "      <td>1519815</td>\n",
       "      <td>149345</td>\n",
       "      <td>1</td>\n",
       "      <td>2</td>\n",
       "      <td>2</td>\n",
       "      <td>NaN</td>\n",
       "    </tr>\n",
       "  </tbody>\n",
       "</table>\n",
       "<p>136 rows × 6 columns</p>\n",
       "</div>"
      ],
      "text/plain": [
       "        order_id  user_id  order_number  order_dow  order_hour_of_day  \\\n",
       "1295     1474941   115569             5          2                  2   \n",
       "2391     1640269   173965            15          2                  2   \n",
       "2550     1223696    55276            11          2                  2   \n",
       "5965      579194    85018            14          2                  2   \n",
       "17680    2004230   203121             4          2                  2   \n",
       "...          ...      ...           ...        ...                ...   \n",
       "457660   1562381    19378             5          2                  2   \n",
       "460316   1986084   117453            81          2                  2   \n",
       "462676   1362113    19654            20          2                  2   \n",
       "472800   1746383    88484            19          2                  2   \n",
       "472923   1519815   149345             1          2                  2   \n",
       "\n",
       "        days_since_prior_order  \n",
       "1295                      28.0  \n",
       "2391                       2.0  \n",
       "2550                      30.0  \n",
       "5965                      11.0  \n",
       "17680                      8.0  \n",
       "...                        ...  \n",
       "457660                     6.0  \n",
       "460316                     8.0  \n",
       "462676                    21.0  \n",
       "472800                     5.0  \n",
       "472923                     NaN  \n",
       "\n",
       "[136 rows x 6 columns]"
      ]
     },
     "execution_count": 7,
     "metadata": {},
     "output_type": "execute_result"
    }
   ],
   "source": [
    "# Check for all orders placed Wednesday at 2:00 AM\n",
    "orders_wed_twoam = instacart_data[(instacart_data['order_dow'] == 2) & (instacart_data['order_hour_of_day'] == 2)]\n",
    "orders_wed_twoam"
   ]
  },
  {
   "cell_type": "code",
   "execution_count": 8,
   "id": "480563c7",
   "metadata": {
    "trusted": false
   },
   "outputs": [],
   "source": [
    "# Remove duplicate orders & resetting the index \n",
    "orders_data = orders_data.drop_duplicates().reset_index(drop=True)"
   ]
  },
  {
   "cell_type": "markdown",
   "id": "45e6bc46",
   "metadata": {},
   "source": [
    "### `products` data frame"
   ]
  },
  {
   "cell_type": "code",
   "execution_count": 9,
   "id": "5f526b5b-8175-46fa-a0fd-441767d50e64",
   "metadata": {
    "trusted": false
   },
   "outputs": [
    {
     "data": {
      "text/plain": [
       "False"
      ]
     },
     "execution_count": 9,
     "metadata": {},
     "output_type": "execute_result"
    }
   ],
   "source": [
    "# Check for fully duplicate rows\n",
    "products_data.duplicated().any()"
   ]
  },
  {
   "cell_type": "code",
   "execution_count": 10,
   "id": "c773f0bf",
   "metadata": {
    "trusted": false
   },
   "outputs": [
    {
     "data": {
      "text/plain": [
       "0        False\n",
       "1        False\n",
       "2        False\n",
       "3        False\n",
       "4        False\n",
       "         ...  \n",
       "49689     True\n",
       "49690     True\n",
       "49691     True\n",
       "49692     True\n",
       "49693     True\n",
       "Name: product_name, Length: 49694, dtype: bool"
      ]
     },
     "execution_count": 10,
     "metadata": {},
     "output_type": "execute_result"
    }
   ],
   "source": [
    "# Check for just duplicate product names (convert names to lowercase to compare better)\n",
    "products_data['product_name'] = products_data['product_name'].str.lower()\n",
    "products_data['product_name'].duplicated()"
   ]
  },
  {
   "cell_type": "code",
   "execution_count": 11,
   "id": "01efd02e",
   "metadata": {
    "trusted": false
   },
   "outputs": [
    {
     "data": {
      "text/html": [
       "<div>\n",
       "<style scoped>\n",
       "    .dataframe tbody tr th:only-of-type {\n",
       "        vertical-align: middle;\n",
       "    }\n",
       "\n",
       "    .dataframe tbody tr th {\n",
       "        vertical-align: top;\n",
       "    }\n",
       "\n",
       "    .dataframe thead th {\n",
       "        text-align: right;\n",
       "    }\n",
       "</style>\n",
       "<table border=\"1\" class=\"dataframe\">\n",
       "  <thead>\n",
       "    <tr style=\"text-align: right;\">\n",
       "      <th></th>\n",
       "      <th>product_id</th>\n",
       "      <th>product_name</th>\n",
       "      <th>aisle_id</th>\n",
       "      <th>department_id</th>\n",
       "    </tr>\n",
       "  </thead>\n",
       "  <tbody>\n",
       "    <tr>\n",
       "      <th>0</th>\n",
       "      <td>1</td>\n",
       "      <td>chocolate sandwich cookies</td>\n",
       "      <td>61.0</td>\n",
       "      <td>19.0</td>\n",
       "    </tr>\n",
       "    <tr>\n",
       "      <th>1</th>\n",
       "      <td>2</td>\n",
       "      <td>all-seasons salt</td>\n",
       "      <td>104.0</td>\n",
       "      <td>13.0</td>\n",
       "    </tr>\n",
       "    <tr>\n",
       "      <th>2</th>\n",
       "      <td>3</td>\n",
       "      <td>robust golden unsweetened oolong tea</td>\n",
       "      <td>94.0</td>\n",
       "      <td>7.0</td>\n",
       "    </tr>\n",
       "    <tr>\n",
       "      <th>3</th>\n",
       "      <td>4</td>\n",
       "      <td>smart ones classic favorites mini rigatoni wit...</td>\n",
       "      <td>38.0</td>\n",
       "      <td>1.0</td>\n",
       "    </tr>\n",
       "    <tr>\n",
       "      <th>4</th>\n",
       "      <td>5</td>\n",
       "      <td>green chile anytime sauce</td>\n",
       "      <td>5.0</td>\n",
       "      <td>13.0</td>\n",
       "    </tr>\n",
       "    <tr>\n",
       "      <th>...</th>\n",
       "      <td>...</td>\n",
       "      <td>...</td>\n",
       "      <td>...</td>\n",
       "      <td>...</td>\n",
       "    </tr>\n",
       "    <tr>\n",
       "      <th>49689</th>\n",
       "      <td>49690</td>\n",
       "      <td>high performance energy drink</td>\n",
       "      <td>64.0</td>\n",
       "      <td>7.0</td>\n",
       "    </tr>\n",
       "    <tr>\n",
       "      <th>49690</th>\n",
       "      <td>49691</td>\n",
       "      <td>original pancake &amp; waffle mix</td>\n",
       "      <td>130.0</td>\n",
       "      <td>14.0</td>\n",
       "    </tr>\n",
       "    <tr>\n",
       "      <th>49691</th>\n",
       "      <td>49692</td>\n",
       "      <td>organic instant oatmeal light maple brown sugar</td>\n",
       "      <td>130.0</td>\n",
       "      <td>14.0</td>\n",
       "    </tr>\n",
       "    <tr>\n",
       "      <th>49692</th>\n",
       "      <td>49693</td>\n",
       "      <td>spring water body wash</td>\n",
       "      <td>127.0</td>\n",
       "      <td>11.0</td>\n",
       "    </tr>\n",
       "    <tr>\n",
       "      <th>49693</th>\n",
       "      <td>49694</td>\n",
       "      <td>burrito- steak &amp; cheese</td>\n",
       "      <td>38.0</td>\n",
       "      <td>1.0</td>\n",
       "    </tr>\n",
       "  </tbody>\n",
       "</table>\n",
       "<p>48311 rows × 4 columns</p>\n",
       "</div>"
      ],
      "text/plain": [
       "      product_id                                       product_name  aisle_id  \\\n",
       "0              1                         chocolate sandwich cookies      61.0   \n",
       "1              2                                   all-seasons salt     104.0   \n",
       "2              3               robust golden unsweetened oolong tea      94.0   \n",
       "3              4  smart ones classic favorites mini rigatoni wit...      38.0   \n",
       "4              5                          green chile anytime sauce       5.0   \n",
       "...          ...                                                ...       ...   \n",
       "49689      49690                      high performance energy drink      64.0   \n",
       "49690      49691                      original pancake & waffle mix     130.0   \n",
       "49691      49692    organic instant oatmeal light maple brown sugar     130.0   \n",
       "49692      49693                             spring water body wash     127.0   \n",
       "49693      49694                            burrito- steak & cheese      38.0   \n",
       "\n",
       "       department_id  \n",
       "0               19.0  \n",
       "1               13.0  \n",
       "2                7.0  \n",
       "3                1.0  \n",
       "4               13.0  \n",
       "...              ...  \n",
       "49689            7.0  \n",
       "49690           14.0  \n",
       "49691           14.0  \n",
       "49692           11.0  \n",
       "49693            1.0  \n",
       "\n",
       "[48311 rows x 4 columns]"
      ]
     },
     "execution_count": 11,
     "metadata": {},
     "output_type": "execute_result"
    }
   ],
   "source": [
    "# Check for duplicate product names that aren't missing\n",
    "products_data[~products_data['product_name'].isna()]"
   ]
  },
  {
   "cell_type": "markdown",
   "id": "1e46de76",
   "metadata": {},
   "source": [
    "## Find and remove missing values\n"
   ]
  },
  {
   "cell_type": "markdown",
   "id": "c0aebd78",
   "metadata": {},
   "source": [
    "### `products` data frame"
   ]
  },
  {
   "cell_type": "code",
   "execution_count": 12,
   "id": "fe4a8b0f",
   "metadata": {
    "trusted": false
   },
   "outputs": [
    {
     "data": {
      "text/html": [
       "<div>\n",
       "<style scoped>\n",
       "    .dataframe tbody tr th:only-of-type {\n",
       "        vertical-align: middle;\n",
       "    }\n",
       "\n",
       "    .dataframe tbody tr th {\n",
       "        vertical-align: top;\n",
       "    }\n",
       "\n",
       "    .dataframe thead th {\n",
       "        text-align: right;\n",
       "    }\n",
       "</style>\n",
       "<table border=\"1\" class=\"dataframe\">\n",
       "  <thead>\n",
       "    <tr style=\"text-align: right;\">\n",
       "      <th></th>\n",
       "      <th>product_id</th>\n",
       "      <th>product_name</th>\n",
       "      <th>aisle_id</th>\n",
       "      <th>department_id</th>\n",
       "    </tr>\n",
       "  </thead>\n",
       "  <tbody>\n",
       "    <tr>\n",
       "      <th>37</th>\n",
       "      <td>38</td>\n",
       "      <td>NaN</td>\n",
       "      <td>100.0</td>\n",
       "      <td>21.0</td>\n",
       "    </tr>\n",
       "    <tr>\n",
       "      <th>71</th>\n",
       "      <td>72</td>\n",
       "      <td>NaN</td>\n",
       "      <td>100.0</td>\n",
       "      <td>21.0</td>\n",
       "    </tr>\n",
       "    <tr>\n",
       "      <th>104</th>\n",
       "      <td>105;\"Easy Grab 9\\\"\"x13\\\"\" Oblong Glass Bakewar...</td>\n",
       "      <td>NaN</td>\n",
       "      <td>NaN</td>\n",
       "      <td>NaN</td>\n",
       "    </tr>\n",
       "    <tr>\n",
       "      <th>109</th>\n",
       "      <td>110</td>\n",
       "      <td>NaN</td>\n",
       "      <td>100.0</td>\n",
       "      <td>21.0</td>\n",
       "    </tr>\n",
       "    <tr>\n",
       "      <th>217</th>\n",
       "      <td>218;\"6\\\"\" Organic Carrot Cake\";8;3</td>\n",
       "      <td>NaN</td>\n",
       "      <td>NaN</td>\n",
       "      <td>NaN</td>\n",
       "    </tr>\n",
       "    <tr>\n",
       "      <th>...</th>\n",
       "      <td>...</td>\n",
       "      <td>...</td>\n",
       "      <td>...</td>\n",
       "      <td>...</td>\n",
       "    </tr>\n",
       "    <tr>\n",
       "      <th>49552</th>\n",
       "      <td>49553</td>\n",
       "      <td>NaN</td>\n",
       "      <td>100.0</td>\n",
       "      <td>21.0</td>\n",
       "    </tr>\n",
       "    <tr>\n",
       "      <th>49574</th>\n",
       "      <td>49575</td>\n",
       "      <td>NaN</td>\n",
       "      <td>100.0</td>\n",
       "      <td>21.0</td>\n",
       "    </tr>\n",
       "    <tr>\n",
       "      <th>49640</th>\n",
       "      <td>49641</td>\n",
       "      <td>NaN</td>\n",
       "      <td>100.0</td>\n",
       "      <td>21.0</td>\n",
       "    </tr>\n",
       "    <tr>\n",
       "      <th>49663</th>\n",
       "      <td>49664</td>\n",
       "      <td>NaN</td>\n",
       "      <td>100.0</td>\n",
       "      <td>21.0</td>\n",
       "    </tr>\n",
       "    <tr>\n",
       "      <th>49668</th>\n",
       "      <td>49669</td>\n",
       "      <td>NaN</td>\n",
       "      <td>100.0</td>\n",
       "      <td>21.0</td>\n",
       "    </tr>\n",
       "  </tbody>\n",
       "</table>\n",
       "<p>1383 rows × 4 columns</p>\n",
       "</div>"
      ],
      "text/plain": [
       "                                              product_id product_name  \\\n",
       "37                                                    38          NaN   \n",
       "71                                                    72          NaN   \n",
       "104    105;\"Easy Grab 9\\\"\"x13\\\"\" Oblong Glass Bakewar...          NaN   \n",
       "109                                                  110          NaN   \n",
       "217                   218;\"6\\\"\" Organic Carrot Cake\";8;3          NaN   \n",
       "...                                                  ...          ...   \n",
       "49552                                              49553          NaN   \n",
       "49574                                              49575          NaN   \n",
       "49640                                              49641          NaN   \n",
       "49663                                              49664          NaN   \n",
       "49668                                              49669          NaN   \n",
       "\n",
       "       aisle_id  department_id  \n",
       "37        100.0           21.0  \n",
       "71        100.0           21.0  \n",
       "104         NaN            NaN  \n",
       "109       100.0           21.0  \n",
       "217         NaN            NaN  \n",
       "...         ...            ...  \n",
       "49552     100.0           21.0  \n",
       "49574     100.0           21.0  \n",
       "49640     100.0           21.0  \n",
       "49663     100.0           21.0  \n",
       "49668     100.0           21.0  \n",
       "\n",
       "[1383 rows x 4 columns]"
      ]
     },
     "execution_count": 12,
     "metadata": {},
     "output_type": "execute_result"
    }
   ],
   "source": [
    "# Identifying rows with missing product names\n",
    "missing_product_names = products_data[products_data['product_name'].isna()]\n",
    "missing_product_names"
   ]
  },
  {
   "cell_type": "markdown",
   "id": "e75d3b60",
   "metadata": {},
   "source": [
    " Are all of the missing product names associated with aisle ID 100?\n",
    " yes!"
   ]
  },
  {
   "cell_type": "markdown",
   "id": "3c7673f9",
   "metadata": {},
   "source": [
    "Are all of the missing product names associated with department ID 21?\n",
    "yes!"
   ]
  },
  {
   "cell_type": "markdown",
   "id": "224d04fb",
   "metadata": {},
   "source": [
    "What is this ailse and department?\n",
    "aisle_id 100 and department_id 21"
   ]
  },
  {
   "cell_type": "code",
   "execution_count": 13,
   "id": "6b295120",
   "metadata": {
    "trusted": false
   },
   "outputs": [
    {
     "data": {
      "text/plain": [
       "(0                            chocolate sandwich cookies\n",
       " 1                                      all-seasons salt\n",
       " 2                  robust golden unsweetened oolong tea\n",
       " 3     smart ones classic favorites mini rigatoni wit...\n",
       " 4                             green chile anytime sauce\n",
       " 5                                          dry nose oil\n",
       " 6                        pure coconut water with orange\n",
       " 7                     cut russet potatoes steam n' mash\n",
       " 8                     light strawberry blueberry yogurt\n",
       " 9        sparkling orange juice & prickly pear beverage\n",
       " 10                                    peach mango juice\n",
       " 11                           chocolate fudge layer cake\n",
       " Name: product_name, dtype: object,\n",
       " 49682                                     cucumber kirby\n",
       " 49683          vodka- triple distilled- twist of vanilla\n",
       " 49684                 en croute roast hazelnut cranberry\n",
       " 49685                                   artisan baguette\n",
       " 49686         smartblend healthy metabolism dry cat food\n",
       " 49687                             fresh foaming cleanser\n",
       " 49688               fluffly vanilla marshmallow frosting\n",
       " 49689                      high performance energy drink\n",
       " 49690                      original pancake & waffle mix\n",
       " 49691    organic instant oatmeal light maple brown sugar\n",
       " 49692                             spring water body wash\n",
       " 49693                            burrito- steak & cheese\n",
       " Name: product_name, dtype: object,\n",
       " 13695    soup on the go cheesy potato with bacon flavor...\n",
       " 15247                               india pale ale racer 5\n",
       " 30216                              disposable nursing pads\n",
       " 31002                                              unknown\n",
       " 5480                gluten free sweet potato baked nuggets\n",
       " 30163                   cleaning sponges scotch-brite blue\n",
       " 26324                           fizzy probiotics raspberry\n",
       " 14643    cabernet sauvignon- h3 collection- horse heave...\n",
       " 44826        friskies party mix crunch original cat treats\n",
       " 48455                                     fresh bee pollen\n",
       " 42781                          organic medium chunky salsa\n",
       " 13327            original veggie breakfast sausage patties\n",
       " 6426            mini swirls birthday party ice cream cones\n",
       " 425                                      2nd foods bananas\n",
       " 42939                       vegetable dumpling potstickers\n",
       " 14332                                                pluot\n",
       " 34408                   organic quinoa & apple baby cereal\n",
       " 39277                             sea salt chickpea snacks\n",
       " 20332                                     cherry fruit bar\n",
       " 13778    carrot squash & apple 100% vegetable & fruit p...\n",
       " Name: product_name, dtype: object)"
      ]
     },
     "execution_count": 13,
     "metadata": {},
     "output_type": "execute_result"
    }
   ],
   "source": [
    "# Fill missing product names with 'Unknown'\n",
    "products_data['product_name'] = products_data['product_name'].str.lower().fillna('unknown')\n",
    "# checking the results \n",
    "products_data['product_name'].head(12), products_data['product_name'].tail(12), products_data['product_name'].sample(n=20)"
   ]
  },
  {
   "cell_type": "markdown",
   "id": "fc70e5ad",
   "metadata": {},
   "source": []
  },
  {
   "cell_type": "markdown",
   "id": "7eb45c86",
   "metadata": {},
   "source": [
    "### `orders` data frame"
   ]
  },
  {
   "cell_type": "code",
   "execution_count": 14,
   "id": "93e41d96",
   "metadata": {
    "trusted": false
   },
   "outputs": [
    {
     "data": {
      "text/plain": [
       "0           True\n",
       "1           True\n",
       "2           True\n",
       "3           True\n",
       "4           True\n",
       "           ...  \n",
       "1048570     True\n",
       "1048571    False\n",
       "1048572     True\n",
       "1048573     True\n",
       "1048574    False\n",
       "Length: 1048575, dtype: bool"
      ]
     },
     "execution_count": 14,
     "metadata": {},
     "output_type": "execute_result"
    }
   ],
   "source": [
    "#checking missing values where it's not a customer's first order.\n",
    "missing_value_ncus_firstorder = ~(orders_data['reordered'] == 1) | \\\n",
    "                                ~(orders_data['order_id'].isin(orders_data[orders_data['reordered'] < 1]['order_id']))\n",
    "missing_value_ncus_firstorder"
   ]
  },
  {
   "cell_type": "code",
   "execution_count": 15,
   "id": "166e5a86",
   "metadata": {
    "trusted": false
   },
   "outputs": [
    {
     "data": {
      "text/plain": [
       "0           True\n",
       "1           True\n",
       "2           True\n",
       "3           True\n",
       "4           True\n",
       "           ...  \n",
       "1048570     True\n",
       "1048571    False\n",
       "1048572     True\n",
       "1048573     True\n",
       "1048574    False\n",
       "Length: 1048575, dtype: bool"
      ]
     },
     "execution_count": 15,
     "metadata": {},
     "output_type": "execute_result"
    }
   ],
   "source": [
    "# Are there any missing values where it's not a customer's first order?\n",
    "missing_value_ncus_firstorder"
   ]
  },
  {
   "cell_type": "markdown",
   "id": "4e23d089",
   "metadata": {},
   "source": []
  },
  {
   "cell_type": "markdown",
   "id": "69dc9ca4",
   "metadata": {},
   "source": [
    "### `order_products` data frame"
   ]
  },
  {
   "cell_type": "code",
   "execution_count": 16,
   "id": "b8240253",
   "metadata": {
    "trusted": false
   },
   "outputs": [
    {
     "data": {
      "text/html": [
       "<div>\n",
       "<style scoped>\n",
       "    .dataframe tbody tr th:only-of-type {\n",
       "        vertical-align: middle;\n",
       "    }\n",
       "\n",
       "    .dataframe tbody tr th {\n",
       "        vertical-align: top;\n",
       "    }\n",
       "\n",
       "    .dataframe thead th {\n",
       "        text-align: right;\n",
       "    }\n",
       "</style>\n",
       "<table border=\"1\" class=\"dataframe\">\n",
       "  <thead>\n",
       "    <tr style=\"text-align: right;\">\n",
       "      <th></th>\n",
       "      <th>order_id</th>\n",
       "      <th>product_id</th>\n",
       "      <th>add_to_cart_order</th>\n",
       "      <th>reordered</th>\n",
       "    </tr>\n",
       "  </thead>\n",
       "  <tbody>\n",
       "    <tr>\n",
       "      <th>0</th>\n",
       "      <td>2141543</td>\n",
       "      <td>11440</td>\n",
       "      <td>17.0</td>\n",
       "      <td>0</td>\n",
       "    </tr>\n",
       "    <tr>\n",
       "      <th>1</th>\n",
       "      <td>567889</td>\n",
       "      <td>1560</td>\n",
       "      <td>1.0</td>\n",
       "      <td>1</td>\n",
       "    </tr>\n",
       "    <tr>\n",
       "      <th>2</th>\n",
       "      <td>2261212</td>\n",
       "      <td>26683</td>\n",
       "      <td>1.0</td>\n",
       "      <td>1</td>\n",
       "    </tr>\n",
       "    <tr>\n",
       "      <th>3</th>\n",
       "      <td>491251</td>\n",
       "      <td>8670</td>\n",
       "      <td>35.0</td>\n",
       "      <td>1</td>\n",
       "    </tr>\n",
       "    <tr>\n",
       "      <th>4</th>\n",
       "      <td>2571142</td>\n",
       "      <td>1940</td>\n",
       "      <td>5.0</td>\n",
       "      <td>1</td>\n",
       "    </tr>\n",
       "  </tbody>\n",
       "</table>\n",
       "</div>"
      ],
      "text/plain": [
       "   order_id  product_id  add_to_cart_order  reordered\n",
       "0   2141543       11440               17.0          0\n",
       "1    567889        1560                1.0          1\n",
       "2   2261212       26683                1.0          1\n",
       "3    491251        8670               35.0          1\n",
       "4   2571142        1940                5.0          1"
      ]
     },
     "execution_count": 16,
     "metadata": {},
     "output_type": "execute_result"
    }
   ],
   "source": [
    "# looking at the orders df again\n",
    "orders_data.head()"
   ]
  },
  {
   "cell_type": "code",
   "execution_count": 17,
   "id": "9a78e5ee",
   "metadata": {
    "trusted": false
   },
   "outputs": [
    {
     "data": {
      "text/plain": [
       "(1.0, 64.0)"
      ]
     },
     "execution_count": 17,
     "metadata": {},
     "output_type": "execute_result"
    }
   ],
   "source": [
    "# What are the min and max values in this column?\n",
    "\n",
    "orders_data['add_to_cart_order'].min(), orders_data['add_to_cart_order'].max()"
   ]
  },
  {
   "cell_type": "code",
   "execution_count": 18,
   "id": "ab9d0c2b",
   "metadata": {
    "trusted": false
   },
   "outputs": [
    {
     "data": {
      "text/plain": [
       "array([2449164, 1968313, 2926893, 1717990, 1959075,  844733,   61355,\n",
       "        936852,  264710, 1564093,  129627,  293169, 2849370, 1386261,\n",
       "       3308010,  903110, 2136777, 3347453, 1888628,  165801, 2094761,\n",
       "       1038146, 2997021,  813364, 2256933,  171934, 2409109, 1730767,\n",
       "       1169835,  733526,  404157, 3125735,  747668, 1800005, 1961723,\n",
       "        871281,  388234, 1648217, 1477139,  102236, 1021563, 1832957,\n",
       "       2721963,  678116, 1220886, 1673227, 2999801, 1633337, 2470674,\n",
       "       2625444, 1677118, 2479011, 3383594], dtype=int64)"
      ]
     },
     "execution_count": 18,
     "metadata": {},
     "output_type": "execute_result"
    }
   ],
   "source": [
    "# Save all order IDs with at least one missing value in 'add_to_cart_order'\n",
    "\n",
    "# Find orders with at least one missing value in 'add_to_cart_order'\n",
    "missing_value_orders = orders_data[orders_data['add_to_cart_order'].isna()]\n",
    "\n",
    "# Extract unique order IDs with missing values\n",
    "order_ids_with_missing_values = missing_value_orders['order_id'].unique() \n",
    "\n",
    "order_ids_with_missing_values"
   ]
  },
  {
   "cell_type": "code",
   "execution_count": 19,
   "id": "54c31695",
   "metadata": {
    "trusted": false
   },
   "outputs": [
    {
     "data": {
      "text/plain": [
       "'Do all orders with missing values have more than 64 products? False'"
      ]
     },
     "execution_count": 19,
     "metadata": {},
     "output_type": "execute_result"
    }
   ],
   "source": [
    "# Do all orders with missing values have more than 64 products?\n",
    "\n",
    "# Find orders with at least one missing value in 'add_to_cart_order'\n",
    "missing_value_orders = orders_data[orders_data['add_to_cart_order'].isna()]\n",
    "\n",
    "# Count the number of products in each order with missing values\n",
    "product_counts = missing_value_orders.groupby('order_id')['product_id'].nunique()\n",
    "\n",
    "# Check if all orders with missing values have more than 64 products\n",
    "all_orders_more_than_64 = (product_counts > 64).all()\n",
    "\n",
    "f\"Do all orders with missing values have more than 64 products? {all_orders_more_than_64}\"\n"
   ]
  },
  {
   "cell_type": "code",
   "execution_count": 20,
   "id": "7a987d08",
   "metadata": {
    "trusted": false
   },
   "outputs": [
    {
     "data": {
      "text/plain": [
       "(0    17\n",
       " 1     1\n",
       " 2     1\n",
       " 3    35\n",
       " 4     5\n",
       " Name: add_to_cart_order, dtype: int32,\n",
       " 1048570    15\n",
       " 1048571     9\n",
       " 1048572    15\n",
       " 1048573     4\n",
       " 1048574    11\n",
       " Name: add_to_cart_order, dtype: int32,\n",
       " 19561       1\n",
       " 945199     31\n",
       " 23670       6\n",
       " 208779     18\n",
       " 916752      7\n",
       " 899425      9\n",
       " 100379     12\n",
       " 64332      10\n",
       " 960793      8\n",
       " 107148      5\n",
       " 354746      4\n",
       " 1020663     3\n",
       " 723753     16\n",
       " 410153     18\n",
       " 458519      6\n",
       " 1024361     2\n",
       " 236555      8\n",
       " 614150      1\n",
       " 543280     18\n",
       " 865670      2\n",
       " Name: add_to_cart_order, dtype: int32)"
      ]
     },
     "execution_count": 20,
     "metadata": {},
     "output_type": "execute_result"
    }
   ],
   "source": [
    "# Replace missing values with 999 and convert column to integer type\n",
    "orders_data['add_to_cart_order'] = orders_data['add_to_cart_order'].fillna(999).astype(int)\n",
    "# Checking results\n",
    "orders_data['add_to_cart_order'].head(), orders_data['add_to_cart_order'].tail(), orders_data['add_to_cart_order'].sample(n=20)"
   ]
  },
  {
   "cell_type": "markdown",
   "id": "short-capability",
   "metadata": {},
   "source": [
    "### [A1] Verify that the `'order_hour_of_day'` and `'order_dow'` values in the `orders` tables are sensible (i.e. `'order_hour_of_day'` ranges from 0 to 23 and `'order_dow'` ranges from 0 to 6)"
   ]
  },
  {
   "cell_type": "code",
   "execution_count": 21,
   "id": "growing-fruit",
   "metadata": {
    "trusted": false
   },
   "outputs": [
    {
     "data": {
      "text/html": [
       "<div>\n",
       "<style scoped>\n",
       "    .dataframe tbody tr th:only-of-type {\n",
       "        vertical-align: middle;\n",
       "    }\n",
       "\n",
       "    .dataframe tbody tr th {\n",
       "        vertical-align: top;\n",
       "    }\n",
       "\n",
       "    .dataframe thead th {\n",
       "        text-align: right;\n",
       "    }\n",
       "</style>\n",
       "<table border=\"1\" class=\"dataframe\">\n",
       "  <thead>\n",
       "    <tr style=\"text-align: right;\">\n",
       "      <th></th>\n",
       "      <th>order_id</th>\n",
       "      <th>user_id</th>\n",
       "      <th>order_number</th>\n",
       "      <th>order_dow</th>\n",
       "      <th>order_hour_of_day</th>\n",
       "      <th>days_since_prior_order</th>\n",
       "    </tr>\n",
       "  </thead>\n",
       "  <tbody>\n",
       "    <tr>\n",
       "      <th>0</th>\n",
       "      <td>1515936</td>\n",
       "      <td>183418</td>\n",
       "      <td>11</td>\n",
       "      <td>6</td>\n",
       "      <td>13</td>\n",
       "      <td>30.0</td>\n",
       "    </tr>\n",
       "    <tr>\n",
       "      <th>1</th>\n",
       "      <td>1690866</td>\n",
       "      <td>163593</td>\n",
       "      <td>5</td>\n",
       "      <td>5</td>\n",
       "      <td>12</td>\n",
       "      <td>9.0</td>\n",
       "    </tr>\n",
       "    <tr>\n",
       "      <th>2</th>\n",
       "      <td>1454967</td>\n",
       "      <td>39980</td>\n",
       "      <td>4</td>\n",
       "      <td>5</td>\n",
       "      <td>19</td>\n",
       "      <td>2.0</td>\n",
       "    </tr>\n",
       "    <tr>\n",
       "      <th>3</th>\n",
       "      <td>1768857</td>\n",
       "      <td>82516</td>\n",
       "      <td>56</td>\n",
       "      <td>0</td>\n",
       "      <td>20</td>\n",
       "      <td>10.0</td>\n",
       "    </tr>\n",
       "    <tr>\n",
       "      <th>4</th>\n",
       "      <td>3007858</td>\n",
       "      <td>196724</td>\n",
       "      <td>2</td>\n",
       "      <td>4</td>\n",
       "      <td>12</td>\n",
       "      <td>17.0</td>\n",
       "    </tr>\n",
       "  </tbody>\n",
       "</table>\n",
       "</div>"
      ],
      "text/plain": [
       "   order_id  user_id  order_number  order_dow  order_hour_of_day  \\\n",
       "0   1515936   183418            11          6                 13   \n",
       "1   1690866   163593             5          5                 12   \n",
       "2   1454967    39980             4          5                 19   \n",
       "3   1768857    82516            56          0                 20   \n",
       "4   3007858   196724             2          4                 12   \n",
       "\n",
       "   days_since_prior_order  \n",
       "0                    30.0  \n",
       "1                     9.0  \n",
       "2                     2.0  \n",
       "3                    10.0  \n",
       "4                    17.0  "
      ]
     },
     "execution_count": 21,
     "metadata": {},
     "output_type": "execute_result"
    }
   ],
   "source": [
    "# Looking at the instacart df again\n",
    "instacart_data.head()"
   ]
  },
  {
   "cell_type": "code",
   "execution_count": 22,
   "id": "accessory-malaysia",
   "metadata": {
    "trusted": false
   },
   "outputs": [
    {
     "data": {
      "text/plain": [
       "(order_id                  4.0\n",
       " user_id                   2.0\n",
       " order_number              1.0\n",
       " order_dow                 0.0\n",
       " order_hour_of_day         0.0\n",
       " days_since_prior_order    0.0\n",
       " dtype: float64,\n",
       " order_id                  3421079.0\n",
       " user_id                    206209.0\n",
       " order_number                  100.0\n",
       " order_dow                       6.0\n",
       " order_hour_of_day              23.0\n",
       " days_since_prior_order         30.0\n",
       " dtype: float64)"
      ]
     },
     "execution_count": 22,
     "metadata": {},
     "output_type": "execute_result"
    }
   ],
   "source": [
    "# yes order_hour-of-day ranges from 0 to 23, and order_dow ranges from 0 to 6. Using min() & max() method to verify. \n",
    "instacart_data.min(), instacart_data.max()"
   ]
  },
  {
   "cell_type": "markdown",
   "id": "a6743a70",
   "metadata": {},
   "source": [
    "### [A2] What time of day do people shop for groceries?"
   ]
  },
  {
   "cell_type": "code",
   "execution_count": 23,
   "id": "a36cca27",
   "metadata": {
    "trusted": false
   },
   "outputs": [
    {
     "data": {
      "text/plain": [
       "(                                order_id  user_id  order_dow  \\\n",
       " order_number order_hour_of_day                                 \n",
       " 1            0                   3382735   205908          6   \n",
       "              1                   3404826   204411          6   \n",
       "              2                   3407108   201752          6   \n",
       "              3                   3397288   205935          6   \n",
       "              4                   3321343   203091          6   \n",
       " ...                                  ...      ...        ...   \n",
       " 100          19                  3334464   192373          6   \n",
       "              20                  3038811   188947          3   \n",
       "              21                  2918534   202554          6   \n",
       "              22                  3052999   144805          3   \n",
       "              23                  2118755   117435          4   \n",
       " \n",
       "                                 days_since_prior_order  \n",
       " order_number order_hour_of_day                          \n",
       " 1            0                                     NaN  \n",
       "              1                                     NaN  \n",
       "              2                                     NaN  \n",
       "              3                                     NaN  \n",
       "              4                                     NaN  \n",
       " ...                                                ...  \n",
       " 100          19                                    3.0  \n",
       "              20                                    6.0  \n",
       "              21                                    4.0  \n",
       "              22                                    3.0  \n",
       "              23                                    4.0  \n",
       " \n",
       " [2301 rows x 4 columns],\n",
       "                                 order_id  user_id  order_dow  \\\n",
       " order_number order_hour_of_day                                 \n",
       " 1            0                      7984      836          0   \n",
       "              1                     12608     4158          0   \n",
       "              2                    110546      867          0   \n",
       "              3                      4087     4234          0   \n",
       "              4                     97883     7745          0   \n",
       " ...                                  ...      ...        ...   \n",
       " 100          19                   259073    16340          1   \n",
       "              20                   776558    55073          0   \n",
       "              21                   294707    29623          1   \n",
       "              22                   159597    34000          2   \n",
       "              23                   193585    57851          0   \n",
       " \n",
       "                                 days_since_prior_order  \n",
       " order_number order_hour_of_day                          \n",
       " 1            0                                     NaN  \n",
       "              1                                     NaN  \n",
       "              2                                     NaN  \n",
       "              3                                     NaN  \n",
       "              4                                     NaN  \n",
       " ...                                                ...  \n",
       " 100          19                                    0.0  \n",
       "              20                                    2.0  \n",
       "              21                                    0.0  \n",
       "              22                                    1.0  \n",
       "              23                                    0.0  \n",
       " \n",
       " [2301 rows x 4 columns])"
      ]
     },
     "execution_count": 23,
     "metadata": {},
     "output_type": "execute_result"
    }
   ],
   "source": [
    "# What time of day do people shop for groceries?\n",
    "\n",
    "order_times = instacart_data.groupby(['order_number', 'order_hour_of_day'])\n",
    "order_times.max(), order_times.min()\n",
    "# 24 / 7 "
   ]
  },
  {
   "cell_type": "code",
   "execution_count": 24,
   "id": "1bbbdbe0",
   "metadata": {
    "trusted": false
   },
   "outputs": [
    {
     "data": {
      "image/png": "[encoded data removed]",
      "text/plain": [
       "<Figure size 1000x600 with 1 Axes>"
      ]
     },
     "metadata": {},
     "output_type": "display_data"
    }
   ],
   "source": [
    "# Plot for what time of day do people shop for groceries\n",
    "\n",
    "# Calculate the count of orders for each hour of the day\n",
    "order_counts = instacart_data.groupby('order_hour_of_day').size().reset_index(name='order_count')\n",
    "\n",
    "# Create a bar plot to visualize the order counts\n",
    "plt.figure(figsize=(10, 6))\n",
    "sns.barplot(x='order_hour_of_day', y='order_count', data=order_counts)\n",
    "plt.xlabel('Hour of Day')\n",
    "plt.ylabel('Number of Orders')\n",
    "plt.title('Grocery Shopping Frequency by Hour of Day')\n",
    "plt.xticks(rotation=45)\n",
    "plt.show()"
   ]
  },
  {
   "cell_type": "markdown",
   "id": "3694522f",
   "metadata": {},
   "source": [
    "Starting around 7 AM, order volume steadily increases, surpassing 10,000 orders. This trend continues with a significant surge to over 25,000 orders by 8 AM and further to over 35,000 orders by 9 AM. The peak shopping period occurs around 10 AM, with approximately 40,000 orders. This high level of activity persists until 4 PM. Thereafter, order volume gradually declines, reaching around 35,000 orders by 5 PM, 25,000 orders by 6 PM, 20,000 orders by 7 PM, 15,000 orders by 8 PM, and falling below 10,000 orders by 10 PM."
   ]
  },
  {
   "cell_type": "markdown",
   "id": "documented-command",
   "metadata": {},
   "source": [
    "### [A3] What day of the week do people shop for groceries?"
   ]
  },
  {
   "cell_type": "code",
   "execution_count": 25,
   "id": "chief-digit",
   "metadata": {
    "trusted": false
   },
   "outputs": [
    {
     "data": {
      "text/plain": [
       "(                        order_id  user_id  order_hour_of_day  \\\n",
       " order_number order_dow                                         \n",
       " 1            0               114       40                  0   \n",
       "              1              1343       20                  0   \n",
       "              2               369        2                  0   \n",
       "              3              1881       67                  0   \n",
       "              4               548       34                  0   \n",
       " ...                          ...      ...                ...   \n",
       " 100          2             26751    15221                  6   \n",
       "              3              5354     3377                  0   \n",
       "              4             51847     7175                  4   \n",
       "              5             12323     6710                  6   \n",
       "              6            381867     5191                  1   \n",
       " \n",
       "                         days_since_prior_order  \n",
       " order_number order_dow                          \n",
       " 1            0                             NaN  \n",
       "              1                             NaN  \n",
       "              2                             NaN  \n",
       "              3                             NaN  \n",
       "              4                             NaN  \n",
       " ...                                        ...  \n",
       " 100          2                             0.0  \n",
       "              3                             0.0  \n",
       "              4                             0.0  \n",
       "              5                             0.0  \n",
       "              6                             0.0  \n",
       " \n",
       " [700 rows x 4 columns],\n",
       "                         order_id  user_id  order_hour_of_day  \\\n",
       " order_number order_dow                                         \n",
       " 1            0           3420807   206198                 23   \n",
       "              1           3420827   206158                 23   \n",
       "              2           3419655   206199                 23   \n",
       "              3           3421077   206162                 23   \n",
       "              4           3420460   206188                 23   \n",
       " ...                          ...      ...                ...   \n",
       " 100          2           3269700   205543                 22   \n",
       "              3           3038811   189425                 22   \n",
       "              4           3337777   203027                 23   \n",
       "              5           3311780   202833                 19   \n",
       "              6           3406102   202554                 21   \n",
       " \n",
       "                         days_since_prior_order  \n",
       " order_number order_dow                          \n",
       " 1            0                             NaN  \n",
       "              1                             NaN  \n",
       "              2                             NaN  \n",
       "              3                             NaN  \n",
       "              4                             NaN  \n",
       " ...                                        ...  \n",
       " 100          2                            11.0  \n",
       "              3                            14.0  \n",
       "              4                            11.0  \n",
       "              5                            11.0  \n",
       "              6                            12.0  \n",
       " \n",
       " [700 rows x 4 columns])"
      ]
     },
     "execution_count": 25,
     "metadata": {},
     "output_type": "execute_result"
    }
   ],
   "source": [
    "# Group by 'order_number' and 'order_dow'\n",
    "grouped_data_dow = instacart_data.groupby(['order_number', 'order_dow'])\n",
    "\n",
    "# Calculate order counts for 'order_dow' and 'order_number' \n",
    "grouped_data_dow.min(), grouped_data_dow.max()\n",
    "\n",
    "# 7 days a week "
   ]
  },
  {
   "cell_type": "code",
   "execution_count": 26,
   "id": "532df4d0",
   "metadata": {
    "trusted": false
   },
   "outputs": [
    {
     "data": {
      "image/png": "[encoded data removed]",
      "text/plain": [
       "<Figure size 1000x600 with 1 Axes>"
      ]
     },
     "metadata": {},
     "output_type": "display_data"
    }
   ],
   "source": [
    "# Calculate the count of orders for each day of the week\n",
    "order_counts_dow = instacart_data.groupby('order_dow').size().reset_index(name='order_count')\n",
    "\n",
    "# Create a bar plot to visualize the order counts by day of the week\n",
    "plt.figure(figsize=(10, 6))\n",
    "sns.barplot(x='order_dow', y='order_count', data=order_counts_dow)\n",
    "\n",
    "# Customize the plot for better readability\n",
    "plt.xlabel('Day of the Week (0: Monday, 1: Tuesday, 2: Wednesday, 3: Thursday, 4: Friday, 5: Saturday, 6: Sunday)')\n",
    "plt.ylabel('Number of Orders')\n",
    "plt.title('Grocery Shopping Frequency by Day of the Week')\n",
    "plt.xticks(rotation=45) \n",
    "\n",
    "plt.show()"
   ]
  },
  {
   "cell_type": "markdown",
   "id": "11f2a69d",
   "metadata": {},
   "source": [
    "Monday and Tuesday emerge as the busiest shopping days, with order volumes exceeding 80,000 on both days. In contrast, the remaining days of the week exhibit a more moderate shopping frequency, with order volumes generally hovering around 60,000."
   ]
  },
  {
   "cell_type": "markdown",
   "id": "cutting-concert",
   "metadata": {},
   "source": [
    "### [A4] How long do people wait until placing another order?"
   ]
  },
  {
   "cell_type": "code",
   "execution_count": 27,
   "id": "c231f523",
   "metadata": {
    "trusted": false
   },
   "outputs": [
    {
     "data": {
      "text/plain": [
       "user_id  days_since_prior_order\n",
       "2        8.0                       1\n",
       "4        19.0                      1\n",
       "         30.0                      1\n",
       "5        19.0                      1\n",
       "6        22.0                      1\n",
       "                                  ..\n",
       "206208   5.0                       1\n",
       "         7.0                       5\n",
       "         9.0                       1\n",
       "206209   7.0                       1\n",
       "         30.0                      1\n",
       "Length: 369881, dtype: int64"
      ]
     },
     "execution_count": 27,
     "metadata": {},
     "output_type": "execute_result"
    }
   ],
   "source": [
    "wait_period = instacart_data.groupby(['user_id', 'days_since_prior_order'])\n",
    "wait_period.size()"
   ]
  },
  {
   "cell_type": "markdown",
   "id": "discrete-vertex",
   "metadata": {},
   "source": []
  },
  {
   "cell_type": "code",
   "execution_count": 28,
   "id": "exciting-fantasy",
   "metadata": {
    "trusted": false
   },
   "outputs": [
    {
     "data": {
      "text/plain": [
       "(0.0, 30.0)"
      ]
     },
     "execution_count": 28,
     "metadata": {},
     "output_type": "execute_result"
    }
   ],
   "source": [
    "# How long do people wait until placing another order\n",
    "instacart_data['days_since_prior_order'].min(), instacart_data['days_since_prior_order'].max()"
   ]
  },
  {
   "cell_type": "code",
   "execution_count": 29,
   "id": "5935cd08",
   "metadata": {
    "trusted": false
   },
   "outputs": [
    {
     "data": {
      "image/png": "[encoded data removed]",
      "text/plain": [
       "<Figure size 1000x600 with 1 Axes>"
      ]
     },
     "metadata": {},
     "output_type": "display_data"
    }
   ],
   "source": [
    "# Calculate the frequency of each waiting period\n",
    "wait_period_freq = instacart_data.groupby('days_since_prior_order').size().reset_index(name='order_count')\n",
    "\n",
    "# Create a histogram to visualize the waiting periods\n",
    "plt.figure(figsize=(10, 6))\n",
    "sns.histplot(data=wait_period_freq, x='days_since_prior_order', weights='order_count', bins=30) \n",
    "plt.xlabel('Days Since Prior Order')\n",
    "plt.ylabel('Number of Orders')\n",
    "plt.title('Frequency of Waiting Periods Between Orders')\n",
    "plt.show()"
   ]
  },
  {
   "cell_type": "markdown",
   "id": "03b215af",
   "metadata": {},
   "source": [
    "Monthly Stock-up: The most frequent reordering interval appears to be monthly, with customers waiting approximately 30 days between orders. This category exhibits the highest order volume, exceeding 50,000, suggesting a significant segment of customers prefers to stock up on groceries once a month.\n",
    "\n",
    "Weekly Shoppers: Customers with weekly reordering intervals (around 7 days) represent another substantial group, with order volumes reaching approximately 45,000. This indicates a preference for more frequent, smaller shopping trips, potentially for replenishing essentials or incorporating fresh produce into their weekly meal plans.\n",
    "\n",
    "Intermediate Intervals: Waiting periods of 3, 4, and 5 days demonstrate a moderate order volume of around 30,000. These customers likely prioritize freshness and convenience, reordering at a slightly faster pace than monthly shoppers.\n",
    "\n",
    "Less Frequent Shoppers: Waiting periods between 16 and 29 days exhibit the lowest order volume, falling below 10,000. "
   ]
  },
  {
   "cell_type": "markdown",
   "id": "packed-classic",
   "metadata": {},
   "source": [
    "### [B1] Is there a difference in `'order_hour_of_day'` distributions on Wednesdays and Saturdays? Plot the histograms for both days and describe the differences that you see."
   ]
  },
  {
   "cell_type": "code",
   "execution_count": 30,
   "id": "d89b8403",
   "metadata": {
    "trusted": false
   },
   "outputs": [
    {
     "data": {
      "image/png": "[encoded data removed]",
      "text/plain": [
       "<Figure size 1200x500 with 2 Axes>"
      ]
     },
     "metadata": {},
     "output_type": "display_data"
    }
   ],
   "source": [
    "\n",
    "# Filter data for Wednesdays and Saturdays\n",
    "wednesdays_data = instacart_data[instacart_data['order_dow'] == 2]  # 2 represents Wednesday\n",
    "saturdays_data = instacart_data[instacart_data['order_dow'] == 5]  # 5 represents Saturday\n",
    "\n",
    "# Create histograms\n",
    "fig, axes = plt.subplots(nrows=1, ncols=2, figsize=(12, 5))\n",
    "\n",
    "wednesdays_data['order_hour_of_day'].hist(bins=24, ax=axes[0], color='skyblue', edgecolor='black')\n",
    "axes[0].set_title('Order Hour Distribution (Wednesdays)')\n",
    "axes[0].set_xlabel('Hour of Day')\n",
    "axes[0].set_ylabel('Number of Orders')\n",
    "\n",
    "saturdays_data['order_hour_of_day'].hist(bins=24, ax=axes[1], color='salmon', edgecolor='black')\n",
    "axes[1].set_title('Order Hour Distribution (Saturdays)')\n",
    "axes[1].set_xlabel('Hour of Day')\n",
    "axes[1].set_ylabel('Number of Orders')\n",
    "\n",
    "plt.show()"
   ]
  },
  {
   "cell_type": "markdown",
   "id": "ee9c53e2",
   "metadata": {},
   "source": [
    "High Order Volume: Both days exhibit a significant surge in orders starting from 8 AM, reaching a peak around 10 AM. This suggests a strong morning rush on both weekdays and weekends"
   ]
  },
  {
   "cell_type": "markdown",
   "id": "aeebf8e3",
   "metadata": {},
   "source": [
    "Similar Ordering Patterns: The overall shape and trends in ordering behavior are very similar between Wednesdays and Saturdays"
   ]
  },
  {
   "cell_type": "markdown",
   "id": "2a3038d8",
   "metadata": {},
   "source": [
    "Gradual Decline: Order volume gradually decreases after 6 PM on both days, with a noticeable drop below 2000 orders by 8 PM. This indicates a decline in ordering activity towards the evening"
   ]
  },
  {
   "cell_type": "markdown",
   "id": "e3891143",
   "metadata": {},
   "source": [
    "### [B2] What's the distribution for the number of orders per customer?"
   ]
  },
  {
   "cell_type": "code",
   "execution_count": 31,
   "id": "d8c26c23",
   "metadata": {
    "trusted": false
   },
   "outputs": [],
   "source": [
    "# What's the distribution for the number of orders per customer?\n",
    "orders_per_user = instacart_data.groupby('user_id')['order_id'].count()"
   ]
  },
  {
   "cell_type": "code",
   "execution_count": 32,
   "id": "00e69a66",
   "metadata": {
    "trusted": false
   },
   "outputs": [
    {
     "data": {
      "text/plain": [
       "('Mean orders per user:',\n",
       " 3.042277228351658,\n",
       " 'Median orders per user:',\n",
       " 2.0,\n",
       " 'Standard deviation:',\n",
       " 2.7469897449129714,\n",
       " 'Minimum orders per user:',\n",
       " 1,\n",
       " 'Maximum orders per user:',\n",
       " 28)"
      ]
     },
     "execution_count": 32,
     "metadata": {},
     "output_type": "execute_result"
    }
   ],
   "source": [
    "# What's the distribution for the number of orders per customer?\n",
    "\"Mean orders per user:\", orders_per_user.mean(), \"Median orders per user:\", orders_per_user.median(), \"Standard deviation:\", orders_per_user.std(), \"Minimum orders per user:\", orders_per_user.min(), \"Maximum orders per user:\", orders_per_user.max()\n"
   ]
  },
  {
   "cell_type": "code",
   "execution_count": 33,
   "id": "dc2f0908",
   "metadata": {
    "trusted": false
   },
   "outputs": [
    {
     "data": {
      "image/png": "[encoded data removed]",
      "text/plain": [
       "<Figure size 1000x600 with 1 Axes>"
      ]
     },
     "metadata": {},
     "output_type": "display_data"
    }
   ],
   "source": [
    "# Create a histogram to visualize the distribution\n",
    "plt.figure(figsize=(10, 6))\n",
    "sns.histplot(orders_per_user, bins=50)  \n",
    "plt.xlabel('Number of Orders')\n",
    "plt.ylabel('Number of Customers')\n",
    "plt.title('Distribution of Orders per Customer')\n",
    "plt.show()"
   ]
  },
  {
   "cell_type": "markdown",
   "id": "e27ca6ff",
   "metadata": {},
   "source": [
    "A significant portion of customers, exceeding 50,000, have placed one to two orders.\n",
    "A group of around 35,000 customers have placed between 3 and 4 orders.\n",
    "10,000 customers have placed 4 to 5 orders, suggesting a higher level of engagement and potential for increased loyalty.\n",
    "A smaller but significant segment, ranging from 3,000 to 1,000 customers, have placed 20 or fewer orders. This group represents the most frequent shoppers. "
   ]
  },
  {
   "cell_type": "markdown",
   "id": "54a0319c",
   "metadata": {},
   "source": [
    "### [B3] What are the top 20 popular products (display their id and name)?"
   ]
  },
  {
   "cell_type": "code",
   "execution_count": 34,
   "id": "exterior-arizona",
   "metadata": {
    "scrolled": true,
    "trusted": false
   },
   "outputs": [
    {
     "data": {
      "text/html": [
       "<div>\n",
       "<style scoped>\n",
       "    .dataframe tbody tr th:only-of-type {\n",
       "        vertical-align: middle;\n",
       "    }\n",
       "\n",
       "    .dataframe tbody tr th {\n",
       "        vertical-align: top;\n",
       "    }\n",
       "\n",
       "    .dataframe thead th {\n",
       "        text-align: right;\n",
       "    }\n",
       "</style>\n",
       "<table border=\"1\" class=\"dataframe\">\n",
       "  <thead>\n",
       "    <tr style=\"text-align: right;\">\n",
       "      <th></th>\n",
       "      <th>order_id</th>\n",
       "      <th>product_id</th>\n",
       "      <th>add_to_cart_order</th>\n",
       "      <th>reordered</th>\n",
       "      <th>product_name</th>\n",
       "      <th>aisle_id</th>\n",
       "      <th>department_id</th>\n",
       "    </tr>\n",
       "  </thead>\n",
       "  <tbody>\n",
       "    <tr>\n",
       "      <th>909191</th>\n",
       "      <td>2578059</td>\n",
       "      <td>24852</td>\n",
       "      <td>1</td>\n",
       "      <td>1</td>\n",
       "      <td>banana</td>\n",
       "      <td>24.0</td>\n",
       "      <td>4.0</td>\n",
       "    </tr>\n",
       "    <tr>\n",
       "      <th>524055</th>\n",
       "      <td>555084</td>\n",
       "      <td>13176</td>\n",
       "      <td>2</td>\n",
       "      <td>1</td>\n",
       "      <td>bag of organic bananas</td>\n",
       "      <td>24.0</td>\n",
       "      <td>4.0</td>\n",
       "    </tr>\n",
       "    <tr>\n",
       "      <th>44162</th>\n",
       "      <td>2373333</td>\n",
       "      <td>24413</td>\n",
       "      <td>4</td>\n",
       "      <td>1</td>\n",
       "      <td>organic strawberry banana fruit yogurt smoothie</td>\n",
       "      <td>92.0</td>\n",
       "      <td>18.0</td>\n",
       "    </tr>\n",
       "    <tr>\n",
       "      <th>1004235</th>\n",
       "      <td>3322808</td>\n",
       "      <td>44799</td>\n",
       "      <td>5</td>\n",
       "      <td>1</td>\n",
       "      <td>fresh ca grown eggs</td>\n",
       "      <td>86.0</td>\n",
       "      <td>16.0</td>\n",
       "    </tr>\n",
       "    <tr>\n",
       "      <th>99939</th>\n",
       "      <td>3265153</td>\n",
       "      <td>8424</td>\n",
       "      <td>11</td>\n",
       "      <td>1</td>\n",
       "      <td>broccoli crown</td>\n",
       "      <td>83.0</td>\n",
       "      <td>4.0</td>\n",
       "    </tr>\n",
       "    <tr>\n",
       "      <th>988308</th>\n",
       "      <td>3317344</td>\n",
       "      <td>859</td>\n",
       "      <td>2</td>\n",
       "      <td>0</td>\n",
       "      <td>2-ply everyday napkins</td>\n",
       "      <td>54.0</td>\n",
       "      <td>17.0</td>\n",
       "    </tr>\n",
       "    <tr>\n",
       "      <th>90625</th>\n",
       "      <td>76753</td>\n",
       "      <td>22825</td>\n",
       "      <td>6</td>\n",
       "      <td>0</td>\n",
       "      <td>organic d'anjou pears</td>\n",
       "      <td>24.0</td>\n",
       "      <td>4.0</td>\n",
       "    </tr>\n",
       "    <tr>\n",
       "      <th>6622</th>\n",
       "      <td>2379015</td>\n",
       "      <td>47766</td>\n",
       "      <td>13</td>\n",
       "      <td>1</td>\n",
       "      <td>organic avocado</td>\n",
       "      <td>24.0</td>\n",
       "      <td>4.0</td>\n",
       "    </tr>\n",
       "    <tr>\n",
       "      <th>687932</th>\n",
       "      <td>2593995</td>\n",
       "      <td>12980</td>\n",
       "      <td>16</td>\n",
       "      <td>0</td>\n",
       "      <td>large greenhouse tomato</td>\n",
       "      <td>83.0</td>\n",
       "      <td>4.0</td>\n",
       "    </tr>\n",
       "    <tr>\n",
       "      <th>884890</th>\n",
       "      <td>1972617</td>\n",
       "      <td>35613</td>\n",
       "      <td>3</td>\n",
       "      <td>1</td>\n",
       "      <td>original thin supreme pizza</td>\n",
       "      <td>79.0</td>\n",
       "      <td>1.0</td>\n",
       "    </tr>\n",
       "    <tr>\n",
       "      <th>668173</th>\n",
       "      <td>1403334</td>\n",
       "      <td>2611</td>\n",
       "      <td>8</td>\n",
       "      <td>0</td>\n",
       "      <td>gluten free spongebob spinach littles</td>\n",
       "      <td>92.0</td>\n",
       "      <td>18.0</td>\n",
       "    </tr>\n",
       "    <tr>\n",
       "      <th>791262</th>\n",
       "      <td>191723</td>\n",
       "      <td>22935</td>\n",
       "      <td>3</td>\n",
       "      <td>1</td>\n",
       "      <td>organic yellow onion</td>\n",
       "      <td>83.0</td>\n",
       "      <td>4.0</td>\n",
       "    </tr>\n",
       "    <tr>\n",
       "      <th>484618</th>\n",
       "      <td>1706353</td>\n",
       "      <td>36695</td>\n",
       "      <td>8</td>\n",
       "      <td>1</td>\n",
       "      <td>organic hothouse cucumbers</td>\n",
       "      <td>83.0</td>\n",
       "      <td>4.0</td>\n",
       "    </tr>\n",
       "    <tr>\n",
       "      <th>328937</th>\n",
       "      <td>1774189</td>\n",
       "      <td>28465</td>\n",
       "      <td>20</td>\n",
       "      <td>0</td>\n",
       "      <td>icelandic style skyr blueberry non-fat yogurt</td>\n",
       "      <td>120.0</td>\n",
       "      <td>16.0</td>\n",
       "    </tr>\n",
       "    <tr>\n",
       "      <th>738602</th>\n",
       "      <td>724639</td>\n",
       "      <td>21903</td>\n",
       "      <td>1</td>\n",
       "      <td>0</td>\n",
       "      <td>organic baby spinach</td>\n",
       "      <td>123.0</td>\n",
       "      <td>4.0</td>\n",
       "    </tr>\n",
       "    <tr>\n",
       "      <th>930865</th>\n",
       "      <td>1347882</td>\n",
       "      <td>12456</td>\n",
       "      <td>10</td>\n",
       "      <td>1</td>\n",
       "      <td>organic sunday bacon</td>\n",
       "      <td>106.0</td>\n",
       "      <td>12.0</td>\n",
       "    </tr>\n",
       "    <tr>\n",
       "      <th>223459</th>\n",
       "      <td>3210715</td>\n",
       "      <td>24269</td>\n",
       "      <td>16</td>\n",
       "      <td>1</td>\n",
       "      <td>mixed berry sports drink</td>\n",
       "      <td>64.0</td>\n",
       "      <td>7.0</td>\n",
       "    </tr>\n",
       "    <tr>\n",
       "      <th>438367</th>\n",
       "      <td>3134582</td>\n",
       "      <td>47890</td>\n",
       "      <td>8</td>\n",
       "      <td>1</td>\n",
       "      <td>whole white mushrooms</td>\n",
       "      <td>123.0</td>\n",
       "      <td>4.0</td>\n",
       "    </tr>\n",
       "    <tr>\n",
       "      <th>914499</th>\n",
       "      <td>551073</td>\n",
       "      <td>16398</td>\n",
       "      <td>10</td>\n",
       "      <td>1</td>\n",
       "      <td>guava goddess organic kambucha</td>\n",
       "      <td>31.0</td>\n",
       "      <td>7.0</td>\n",
       "    </tr>\n",
       "    <tr>\n",
       "      <th>726508</th>\n",
       "      <td>1173486</td>\n",
       "      <td>5303</td>\n",
       "      <td>2</td>\n",
       "      <td>1</td>\n",
       "      <td>organic roasted seaweed snacks teriyaki</td>\n",
       "      <td>66.0</td>\n",
       "      <td>6.0</td>\n",
       "    </tr>\n",
       "  </tbody>\n",
       "</table>\n",
       "</div>"
      ],
      "text/plain": [
       "         order_id  product_id  add_to_cart_order  reordered  \\\n",
       "909191    2578059       24852                  1          1   \n",
       "524055     555084       13176                  2          1   \n",
       "44162     2373333       24413                  4          1   \n",
       "1004235   3322808       44799                  5          1   \n",
       "99939     3265153        8424                 11          1   \n",
       "988308    3317344         859                  2          0   \n",
       "90625       76753       22825                  6          0   \n",
       "6622      2379015       47766                 13          1   \n",
       "687932    2593995       12980                 16          0   \n",
       "884890    1972617       35613                  3          1   \n",
       "668173    1403334        2611                  8          0   \n",
       "791262     191723       22935                  3          1   \n",
       "484618    1706353       36695                  8          1   \n",
       "328937    1774189       28465                 20          0   \n",
       "738602     724639       21903                  1          0   \n",
       "930865    1347882       12456                 10          1   \n",
       "223459    3210715       24269                 16          1   \n",
       "438367    3134582       47890                  8          1   \n",
       "914499     551073       16398                 10          1   \n",
       "726508    1173486        5303                  2          1   \n",
       "\n",
       "                                            product_name  aisle_id  \\\n",
       "909191                                            banana      24.0   \n",
       "524055                            bag of organic bananas      24.0   \n",
       "44162    organic strawberry banana fruit yogurt smoothie      92.0   \n",
       "1004235                              fresh ca grown eggs      86.0   \n",
       "99939                                     broccoli crown      83.0   \n",
       "988308                            2-ply everyday napkins      54.0   \n",
       "90625                              organic d'anjou pears      24.0   \n",
       "6622                                     organic avocado      24.0   \n",
       "687932                           large greenhouse tomato      83.0   \n",
       "884890                       original thin supreme pizza      79.0   \n",
       "668173             gluten free spongebob spinach littles      92.0   \n",
       "791262                              organic yellow onion      83.0   \n",
       "484618                        organic hothouse cucumbers      83.0   \n",
       "328937     icelandic style skyr blueberry non-fat yogurt     120.0   \n",
       "738602                              organic baby spinach     123.0   \n",
       "930865                              organic sunday bacon     106.0   \n",
       "223459                          mixed berry sports drink      64.0   \n",
       "438367                             whole white mushrooms     123.0   \n",
       "914499                    guava goddess organic kambucha      31.0   \n",
       "726508           organic roasted seaweed snacks teriyaki      66.0   \n",
       "\n",
       "         department_id  \n",
       "909191             4.0  \n",
       "524055             4.0  \n",
       "44162             18.0  \n",
       "1004235           16.0  \n",
       "99939              4.0  \n",
       "988308            17.0  \n",
       "90625              4.0  \n",
       "6622               4.0  \n",
       "687932             4.0  \n",
       "884890             1.0  \n",
       "668173            18.0  \n",
       "791262             4.0  \n",
       "484618             4.0  \n",
       "328937            16.0  \n",
       "738602             4.0  \n",
       "930865            12.0  \n",
       "223459             7.0  \n",
       "438367             4.0  \n",
       "914499             7.0  \n",
       "726508             6.0  "
      ]
     },
     "execution_count": 34,
     "metadata": {},
     "output_type": "execute_result"
    }
   ],
   "source": [
    "# Merge order_products with products to get product names\n",
    "products_data['product_id'] = pd.to_numeric(products_data['product_id'], errors='coerce')\n",
    "merged_orders_products = pd.merge(orders_data, products_data, on='product_id', how='left')\n",
    "merged_orders_products.sample(n=20)"
   ]
  },
  {
   "cell_type": "code",
   "execution_count": 35,
   "id": "universal-facial",
   "metadata": {
    "trusted": false
   },
   "outputs": [
    {
     "data": {
      "text/html": [
       "<div>\n",
       "<style scoped>\n",
       "    .dataframe tbody tr th:only-of-type {\n",
       "        vertical-align: middle;\n",
       "    }\n",
       "\n",
       "    .dataframe tbody tr th {\n",
       "        vertical-align: top;\n",
       "    }\n",
       "\n",
       "    .dataframe thead th {\n",
       "        text-align: right;\n",
       "    }\n",
       "</style>\n",
       "<table border=\"1\" class=\"dataframe\">\n",
       "  <thead>\n",
       "    <tr style=\"text-align: right;\">\n",
       "      <th></th>\n",
       "      <th>product_id</th>\n",
       "      <th>count</th>\n",
       "    </tr>\n",
       "  </thead>\n",
       "  <tbody>\n",
       "    <tr>\n",
       "      <th>19176</th>\n",
       "      <td>26785</td>\n",
       "      <td>4</td>\n",
       "    </tr>\n",
       "    <tr>\n",
       "      <th>19832</th>\n",
       "      <td>27696</td>\n",
       "      <td>27</td>\n",
       "    </tr>\n",
       "    <tr>\n",
       "      <th>6470</th>\n",
       "      <td>9055</td>\n",
       "      <td>12</td>\n",
       "    </tr>\n",
       "    <tr>\n",
       "      <th>21225</th>\n",
       "      <td>29642</td>\n",
       "      <td>15</td>\n",
       "    </tr>\n",
       "    <tr>\n",
       "      <th>22012</th>\n",
       "      <td>30754</td>\n",
       "      <td>8</td>\n",
       "    </tr>\n",
       "    <tr>\n",
       "      <th>23298</th>\n",
       "      <td>32569</td>\n",
       "      <td>22</td>\n",
       "    </tr>\n",
       "    <tr>\n",
       "      <th>20815</th>\n",
       "      <td>29060</td>\n",
       "      <td>1</td>\n",
       "    </tr>\n",
       "    <tr>\n",
       "      <th>20289</th>\n",
       "      <td>28340</td>\n",
       "      <td>2</td>\n",
       "    </tr>\n",
       "    <tr>\n",
       "      <th>11376</th>\n",
       "      <td>15945</td>\n",
       "      <td>54</td>\n",
       "    </tr>\n",
       "    <tr>\n",
       "      <th>765</th>\n",
       "      <td>1080</td>\n",
       "      <td>22</td>\n",
       "    </tr>\n",
       "    <tr>\n",
       "      <th>31942</th>\n",
       "      <td>44679</td>\n",
       "      <td>1</td>\n",
       "    </tr>\n",
       "    <tr>\n",
       "      <th>33256</th>\n",
       "      <td>46510</td>\n",
       "      <td>9</td>\n",
       "    </tr>\n",
       "    <tr>\n",
       "      <th>16980</th>\n",
       "      <td>23673</td>\n",
       "      <td>10</td>\n",
       "    </tr>\n",
       "    <tr>\n",
       "      <th>21997</th>\n",
       "      <td>30735</td>\n",
       "      <td>2</td>\n",
       "    </tr>\n",
       "    <tr>\n",
       "      <th>11097</th>\n",
       "      <td>15563</td>\n",
       "      <td>14</td>\n",
       "    </tr>\n",
       "    <tr>\n",
       "      <th>2945</th>\n",
       "      <td>4137</td>\n",
       "      <td>203</td>\n",
       "    </tr>\n",
       "    <tr>\n",
       "      <th>5245</th>\n",
       "      <td>7345</td>\n",
       "      <td>3</td>\n",
       "    </tr>\n",
       "    <tr>\n",
       "      <th>5936</th>\n",
       "      <td>8321</td>\n",
       "      <td>3</td>\n",
       "    </tr>\n",
       "    <tr>\n",
       "      <th>17288</th>\n",
       "      <td>24118</td>\n",
       "      <td>24</td>\n",
       "    </tr>\n",
       "    <tr>\n",
       "      <th>8312</th>\n",
       "      <td>11692</td>\n",
       "      <td>1</td>\n",
       "    </tr>\n",
       "  </tbody>\n",
       "</table>\n",
       "</div>"
      ],
      "text/plain": [
       "       product_id  count\n",
       "19176       26785      4\n",
       "19832       27696     27\n",
       "6470         9055     12\n",
       "21225       29642     15\n",
       "22012       30754      8\n",
       "23298       32569     22\n",
       "20815       29060      1\n",
       "20289       28340      2\n",
       "11376       15945     54\n",
       "765          1080     22\n",
       "31942       44679      1\n",
       "33256       46510      9\n",
       "16980       23673     10\n",
       "21997       30735      2\n",
       "11097       15563     14\n",
       "2945         4137    203\n",
       "5245         7345      3\n",
       "5936         8321      3\n",
       "17288       24118     24\n",
       "8312        11692      1"
      ]
     },
     "execution_count": 35,
     "metadata": {},
     "output_type": "execute_result"
    }
   ],
   "source": [
    "# Group by product_id and count the occurrences\n",
    "product_counts = merged_orders_products.groupby('product_id').size().reset_index(name='count')\n",
    "product_counts.sample(n=20)"
   ]
  },
  {
   "cell_type": "code",
   "execution_count": 36,
   "id": "bbcdd20b",
   "metadata": {
    "trusted": false
   },
   "outputs": [
    {
     "data": {
      "text/html": [
       "<div>\n",
       "<style scoped>\n",
       "    .dataframe tbody tr th:only-of-type {\n",
       "        vertical-align: middle;\n",
       "    }\n",
       "\n",
       "    .dataframe tbody tr th {\n",
       "        vertical-align: top;\n",
       "    }\n",
       "\n",
       "    .dataframe thead th {\n",
       "        text-align: right;\n",
       "    }\n",
       "</style>\n",
       "<table border=\"1\" class=\"dataframe\">\n",
       "  <thead>\n",
       "    <tr style=\"text-align: right;\">\n",
       "      <th></th>\n",
       "      <th>product_id</th>\n",
       "      <th>count</th>\n",
       "      <th>product_name</th>\n",
       "    </tr>\n",
       "  </thead>\n",
       "  <tbody>\n",
       "    <tr>\n",
       "      <th>17648</th>\n",
       "      <td>24629</td>\n",
       "      <td>9</td>\n",
       "      <td>sweet mini sub rolls</td>\n",
       "    </tr>\n",
       "    <tr>\n",
       "      <th>25133</th>\n",
       "      <td>35135</td>\n",
       "      <td>14</td>\n",
       "      <td>unknown</td>\n",
       "    </tr>\n",
       "    <tr>\n",
       "      <th>10618</th>\n",
       "      <td>14909</td>\n",
       "      <td>1</td>\n",
       "      <td>antibacterial gentle cleansing bar</td>\n",
       "    </tr>\n",
       "    <tr>\n",
       "      <th>20651</th>\n",
       "      <td>28842</td>\n",
       "      <td>1500</td>\n",
       "      <td>bunched cilantro</td>\n",
       "    </tr>\n",
       "    <tr>\n",
       "      <th>20352</th>\n",
       "      <td>28424</td>\n",
       "      <td>3</td>\n",
       "      <td>tex mex jackfruit</td>\n",
       "    </tr>\n",
       "    <tr>\n",
       "      <th>3991</th>\n",
       "      <td>5576</td>\n",
       "      <td>1</td>\n",
       "      <td>deli fresh maple honey ham- bold- 97% fat free...</td>\n",
       "    </tr>\n",
       "    <tr>\n",
       "      <th>28517</th>\n",
       "      <td>39905</td>\n",
       "      <td>3</td>\n",
       "      <td>vegan dark chocolate ice cream</td>\n",
       "    </tr>\n",
       "    <tr>\n",
       "      <th>25299</th>\n",
       "      <td>35362</td>\n",
       "      <td>5</td>\n",
       "      <td>andouille</td>\n",
       "    </tr>\n",
       "    <tr>\n",
       "      <th>12127</th>\n",
       "      <td>16978</td>\n",
       "      <td>16</td>\n",
       "      <td>organic forbidden rice</td>\n",
       "    </tr>\n",
       "    <tr>\n",
       "      <th>24882</th>\n",
       "      <td>34773</td>\n",
       "      <td>1</td>\n",
       "      <td>natural instincts non-permanent hair color nut...</td>\n",
       "    </tr>\n",
       "    <tr>\n",
       "      <th>28708</th>\n",
       "      <td>40169</td>\n",
       "      <td>1</td>\n",
       "      <td>parmigiano reggiano 24 month</td>\n",
       "    </tr>\n",
       "    <tr>\n",
       "      <th>15906</th>\n",
       "      <td>22204</td>\n",
       "      <td>16</td>\n",
       "      <td>italian deli slices</td>\n",
       "    </tr>\n",
       "    <tr>\n",
       "      <th>4088</th>\n",
       "      <td>5721</td>\n",
       "      <td>1</td>\n",
       "      <td>vintner's reserve zinfandel 2012</td>\n",
       "    </tr>\n",
       "    <tr>\n",
       "      <th>23641</th>\n",
       "      <td>33026</td>\n",
       "      <td>44</td>\n",
       "      <td>raspberry tea</td>\n",
       "    </tr>\n",
       "    <tr>\n",
       "      <th>17899</th>\n",
       "      <td>24980</td>\n",
       "      <td>2</td>\n",
       "      <td>peroxicare healthy gums baking soda &amp; peroxide...</td>\n",
       "    </tr>\n",
       "    <tr>\n",
       "      <th>24476</th>\n",
       "      <td>34190</td>\n",
       "      <td>50</td>\n",
       "      <td>organic coconut cream</td>\n",
       "    </tr>\n",
       "    <tr>\n",
       "      <th>5262</th>\n",
       "      <td>7365</td>\n",
       "      <td>2</td>\n",
       "      <td>organic bake at home french bread</td>\n",
       "    </tr>\n",
       "    <tr>\n",
       "      <th>10838</th>\n",
       "      <td>15210</td>\n",
       "      <td>1</td>\n",
       "      <td>natural beverage- instant- original- caffeine ...</td>\n",
       "    </tr>\n",
       "    <tr>\n",
       "      <th>1061</th>\n",
       "      <td>1496</td>\n",
       "      <td>2</td>\n",
       "      <td>age defying resveratrol q10 night repair cream</td>\n",
       "    </tr>\n",
       "    <tr>\n",
       "      <th>2987</th>\n",
       "      <td>4196</td>\n",
       "      <td>3</td>\n",
       "      <td>unknown</td>\n",
       "    </tr>\n",
       "  </tbody>\n",
       "</table>\n",
       "</div>"
      ],
      "text/plain": [
       "       product_id  count                                       product_name\n",
       "17648       24629      9                               sweet mini sub rolls\n",
       "25133       35135     14                                            unknown\n",
       "10618       14909      1                 antibacterial gentle cleansing bar\n",
       "20651       28842   1500                                   bunched cilantro\n",
       "20352       28424      3                                  tex mex jackfruit\n",
       "3991         5576      1  deli fresh maple honey ham- bold- 97% fat free...\n",
       "28517       39905      3                     vegan dark chocolate ice cream\n",
       "25299       35362      5                                          andouille\n",
       "12127       16978     16                             organic forbidden rice\n",
       "24882       34773      1  natural instincts non-permanent hair color nut...\n",
       "28708       40169      1                       parmigiano reggiano 24 month\n",
       "15906       22204     16                                italian deli slices\n",
       "4088         5721      1                   vintner's reserve zinfandel 2012\n",
       "23641       33026     44                                      raspberry tea\n",
       "17899       24980      2  peroxicare healthy gums baking soda & peroxide...\n",
       "24476       34190     50                              organic coconut cream\n",
       "5262         7365      2                  organic bake at home french bread\n",
       "10838       15210      1  natural beverage- instant- original- caffeine ...\n",
       "1061         1496      2     age defying resveratrol q10 night repair cream\n",
       "2987         4196      3                                            unknown"
      ]
     },
     "execution_count": 36,
     "metadata": {},
     "output_type": "execute_result"
    }
   ],
   "source": [
    "# Merge product_counts with products_df to get product names\n",
    "product_counts_with_names = pd.merge(product_counts, products_data[['product_id', 'product_name']], on='product_id', how='left')\n",
    "product_counts_with_names.sample(n=20)"
   ]
  },
  {
   "cell_type": "code",
   "execution_count": 37,
   "id": "d75dd109",
   "metadata": {
    "trusted": false
   },
   "outputs": [
    {
     "data": {
      "text/html": [
       "<div>\n",
       "<style scoped>\n",
       "    .dataframe tbody tr th:only-of-type {\n",
       "        vertical-align: middle;\n",
       "    }\n",
       "\n",
       "    .dataframe tbody tr th {\n",
       "        vertical-align: top;\n",
       "    }\n",
       "\n",
       "    .dataframe thead th {\n",
       "        text-align: right;\n",
       "    }\n",
       "</style>\n",
       "<table border=\"1\" class=\"dataframe\">\n",
       "  <thead>\n",
       "    <tr style=\"text-align: right;\">\n",
       "      <th></th>\n",
       "      <th>product_id</th>\n",
       "      <th>count</th>\n",
       "      <th>product_name</th>\n",
       "    </tr>\n",
       "  </thead>\n",
       "  <tbody>\n",
       "    <tr>\n",
       "      <th>17807</th>\n",
       "      <td>24852</td>\n",
       "      <td>15184</td>\n",
       "      <td>banana</td>\n",
       "    </tr>\n",
       "    <tr>\n",
       "      <th>9369</th>\n",
       "      <td>13176</td>\n",
       "      <td>12301</td>\n",
       "      <td>bag of organic bananas</td>\n",
       "    </tr>\n",
       "    <tr>\n",
       "      <th>15133</th>\n",
       "      <td>21137</td>\n",
       "      <td>8573</td>\n",
       "      <td>organic strawberries</td>\n",
       "    </tr>\n",
       "    <tr>\n",
       "      <th>15687</th>\n",
       "      <td>21903</td>\n",
       "      <td>7900</td>\n",
       "      <td>organic baby spinach</td>\n",
       "    </tr>\n",
       "    <tr>\n",
       "      <th>33772</th>\n",
       "      <td>47209</td>\n",
       "      <td>6951</td>\n",
       "      <td>organic hass avocado</td>\n",
       "    </tr>\n",
       "    <tr>\n",
       "      <th>34177</th>\n",
       "      <td>47766</td>\n",
       "      <td>5778</td>\n",
       "      <td>organic avocado</td>\n",
       "    </tr>\n",
       "    <tr>\n",
       "      <th>34073</th>\n",
       "      <td>47626</td>\n",
       "      <td>4982</td>\n",
       "      <td>large lemon</td>\n",
       "    </tr>\n",
       "    <tr>\n",
       "      <th>19936</th>\n",
       "      <td>27845</td>\n",
       "      <td>4602</td>\n",
       "      <td>organic whole milk</td>\n",
       "    </tr>\n",
       "    <tr>\n",
       "      <th>11995</th>\n",
       "      <td>16797</td>\n",
       "      <td>4591</td>\n",
       "      <td>strawberries</td>\n",
       "    </tr>\n",
       "    <tr>\n",
       "      <th>18751</th>\n",
       "      <td>26209</td>\n",
       "      <td>4462</td>\n",
       "      <td>limes</td>\n",
       "    </tr>\n",
       "    <tr>\n",
       "      <th>20023</th>\n",
       "      <td>27966</td>\n",
       "      <td>4401</td>\n",
       "      <td>organic raspberries</td>\n",
       "    </tr>\n",
       "    <tr>\n",
       "      <th>16432</th>\n",
       "      <td>22935</td>\n",
       "      <td>3618</td>\n",
       "      <td>organic yellow onion</td>\n",
       "    </tr>\n",
       "    <tr>\n",
       "      <th>17887</th>\n",
       "      <td>24964</td>\n",
       "      <td>3559</td>\n",
       "      <td>organic garlic</td>\n",
       "    </tr>\n",
       "    <tr>\n",
       "      <th>32183</th>\n",
       "      <td>45007</td>\n",
       "      <td>3461</td>\n",
       "      <td>organic zucchini</td>\n",
       "    </tr>\n",
       "    <tr>\n",
       "      <th>35555</th>\n",
       "      <td>49683</td>\n",
       "      <td>3186</td>\n",
       "      <td>cucumber kirby</td>\n",
       "    </tr>\n",
       "    <tr>\n",
       "      <th>28069</th>\n",
       "      <td>39275</td>\n",
       "      <td>3148</td>\n",
       "      <td>organic blueberries</td>\n",
       "    </tr>\n",
       "    <tr>\n",
       "      <th>20193</th>\n",
       "      <td>28204</td>\n",
       "      <td>2907</td>\n",
       "      <td>organic fuji apple</td>\n",
       "    </tr>\n",
       "    <tr>\n",
       "      <th>4197</th>\n",
       "      <td>5876</td>\n",
       "      <td>2869</td>\n",
       "      <td>organic lemon</td>\n",
       "    </tr>\n",
       "    <tr>\n",
       "      <th>5909</th>\n",
       "      <td>8277</td>\n",
       "      <td>2836</td>\n",
       "      <td>apple honeycrisp organic</td>\n",
       "    </tr>\n",
       "    <tr>\n",
       "      <th>3490</th>\n",
       "      <td>4920</td>\n",
       "      <td>2760</td>\n",
       "      <td>seedless red grapes</td>\n",
       "    </tr>\n",
       "  </tbody>\n",
       "</table>\n",
       "</div>"
      ],
      "text/plain": [
       "       product_id  count              product_name\n",
       "17807       24852  15184                    banana\n",
       "9369        13176  12301    bag of organic bananas\n",
       "15133       21137   8573      organic strawberries\n",
       "15687       21903   7900      organic baby spinach\n",
       "33772       47209   6951      organic hass avocado\n",
       "34177       47766   5778           organic avocado\n",
       "34073       47626   4982               large lemon\n",
       "19936       27845   4602        organic whole milk\n",
       "11995       16797   4591              strawberries\n",
       "18751       26209   4462                     limes\n",
       "20023       27966   4401       organic raspberries\n",
       "16432       22935   3618      organic yellow onion\n",
       "17887       24964   3559            organic garlic\n",
       "32183       45007   3461          organic zucchini\n",
       "35555       49683   3186            cucumber kirby\n",
       "28069       39275   3148       organic blueberries\n",
       "20193       28204   2907        organic fuji apple\n",
       "4197         5876   2869             organic lemon\n",
       "5909         8277   2836  apple honeycrisp organic\n",
       "3490         4920   2760       seedless red grapes"
      ]
     },
     "execution_count": 37,
     "metadata": {},
     "output_type": "execute_result"
    }
   ],
   "source": [
    "# Sort by count in descending order and get top 20\n",
    "top_20_products = product_counts_with_names.sort_values(by='count', ascending=False).head(20)\n",
    "top_20_products.head(20)"
   ]
  },
  {
   "cell_type": "code",
   "execution_count": 38,
   "id": "d613f06b",
   "metadata": {
    "trusted": false
   },
   "outputs": [
    {
     "data": {
      "image/png": "[encoded data removed]",
      "text/plain": [
       "<Figure size 1000x600 with 1 Axes>"
      ]
     },
     "metadata": {},
     "output_type": "display_data"
    }
   ],
   "source": [
    "# Creating a plot for the top 20 popular products names \n",
    "\n",
    "plt.figure(figsize=(10,6))\n",
    "plt.barh(top_20_products['product_name'], top_20_products['product_id'], color='skyblue')\n",
    "plt.xlabel('Product ID')\n",
    "plt.ylabel('Product Name')\n",
    "plt.title('Barplot of Product IDs against Product Names')\n",
    "plt.gca().invert_yaxis()  # To have the first product on top\n",
    "plt.tight_layout()\n",
    "plt.show()"
   ]
  },
  {
   "cell_type": "markdown",
   "id": "romantic-deposit",
   "metadata": {},
   "source": [
    "### [C1] How many items do people typically buy in one order? What does the distribution look like?"
   ]
  },
  {
   "cell_type": "code",
   "execution_count": 39,
   "id": "sensitive-breathing",
   "metadata": {
    "trusted": false
   },
   "outputs": [
    {
     "data": {
      "text/plain": [
       "order_id\n",
       "2191637     7\n",
       "93104       2\n",
       "1721664     4\n",
       "40498       8\n",
       "872063      4\n",
       "825546      6\n",
       "2246445     1\n",
       "2695003     4\n",
       "906796      5\n",
       "1965207     2\n",
       "798830      2\n",
       "1523804     3\n",
       "2236330     1\n",
       "288888      1\n",
       "1581860     3\n",
       "189429      1\n",
       "2273316     5\n",
       "1510036     5\n",
       "3374979     1\n",
       "2714468    13\n",
       "Name: product_id, dtype: int64"
      ]
     },
     "execution_count": 39,
     "metadata": {},
     "output_type": "execute_result"
    }
   ],
   "source": [
    "# Count the number of products in each order\n",
    "order_sizes = orders_data.groupby(\"order_id\")[\"product_id\"].count()\n",
    "order_sizes.sample(n=20)"
   ]
  },
  {
   "cell_type": "code",
   "execution_count": 40,
   "id": "completed-frank",
   "metadata": {
    "trusted": false
   },
   "outputs": [
    {
     "data": {
      "text/plain": [
       "'Median order size: 2.00'"
      ]
     },
     "execution_count": 40,
     "metadata": {},
     "output_type": "execute_result"
    }
   ],
   "source": [
    "# Calculate summary statistics\n",
    "mean_order_size = order_sizes.mean()\n",
    "median_order_size = order_sizes.median()\n",
    "f\"Mean order size: {mean_order_size:.2f}\"\n",
    "f\"Median order size: {median_order_size:.2f}\""
   ]
  },
  {
   "cell_type": "code",
   "execution_count": 41,
   "id": "d30dd960",
   "metadata": {
    "trusted": false
   },
   "outputs": [
    {
     "data": {
      "image/png": "[encoded data removed]",
      "text/plain": [
       "<Figure size 640x480 with 1 Axes>"
      ]
     },
     "metadata": {},
     "output_type": "display_data"
    }
   ],
   "source": [
    "# Visualize the distribution\n",
    "\n",
    "plt.hist(order_sizes, bins=50, alpha=0.7)\n",
    "plt.axvline(order_sizes.mean(), color='red', linestyle='dashed', linewidth=1, label='Mean')\n",
    "plt.legend()\n",
    "plt.xlabel('Number of items')\n",
    "plt.ylabel('Number of orders')\n",
    "plt.title('Distribution of items per order')\n",
    "plt.show()"
   ]
  },
  {
   "cell_type": "markdown",
   "id": "dac18ca0",
   "metadata": {},
   "source": [
    "The analysis reveals that the median order size is 8 items. \n",
    "\n",
    "Small Orders: Orders containing 1-2 items are the most frequent, exceeding 80,000 instances. \n",
    "\n",
    "Medium Orders: Orders with 5-7 items represent another significant segment, with around 60,000 occurrences. \n",
    "\n",
    "Large Orders: Orders containing 8-10 items are slightly less frequent, occurring below 40,000 times. \n",
    "\n",
    "Very Large Orders: Orders with 16-20 items are considerably less frequent, occurring around 20,000 times. \n",
    "\n",
    "Extremely Large Orders: Orders exceeding 20 items are the least frequent, occurring below 10,000 times. "
   ]
  },
  {
   "cell_type": "markdown",
   "id": "5e6b5537",
   "metadata": {},
   "source": [
    "### [C2] What are the top 20 items that are reordered most frequently (display their names and product IDs)?"
   ]
  },
  {
   "cell_type": "code",
   "execution_count": 42,
   "id": "9374e55a",
   "metadata": {
    "trusted": false
   },
   "outputs": [
    {
     "data": {
      "text/html": [
       "<div>\n",
       "<style scoped>\n",
       "    .dataframe tbody tr th:only-of-type {\n",
       "        vertical-align: middle;\n",
       "    }\n",
       "\n",
       "    .dataframe tbody tr th {\n",
       "        vertical-align: top;\n",
       "    }\n",
       "\n",
       "    .dataframe thead th {\n",
       "        text-align: right;\n",
       "    }\n",
       "</style>\n",
       "<table border=\"1\" class=\"dataframe\">\n",
       "  <thead>\n",
       "    <tr style=\"text-align: right;\">\n",
       "      <th></th>\n",
       "      <th>order_id</th>\n",
       "      <th>product_id</th>\n",
       "      <th>add_to_cart_order</th>\n",
       "      <th>reordered</th>\n",
       "    </tr>\n",
       "  </thead>\n",
       "  <tbody>\n",
       "    <tr>\n",
       "      <th>445937</th>\n",
       "      <td>1587162</td>\n",
       "      <td>30192</td>\n",
       "      <td>2</td>\n",
       "      <td>1</td>\n",
       "    </tr>\n",
       "    <tr>\n",
       "      <th>921097</th>\n",
       "      <td>3125621</td>\n",
       "      <td>48364</td>\n",
       "      <td>6</td>\n",
       "      <td>1</td>\n",
       "    </tr>\n",
       "    <tr>\n",
       "      <th>970386</th>\n",
       "      <td>2778537</td>\n",
       "      <td>33198</td>\n",
       "      <td>5</td>\n",
       "      <td>1</td>\n",
       "    </tr>\n",
       "    <tr>\n",
       "      <th>442914</th>\n",
       "      <td>1281917</td>\n",
       "      <td>16920</td>\n",
       "      <td>8</td>\n",
       "      <td>1</td>\n",
       "    </tr>\n",
       "    <tr>\n",
       "      <th>818940</th>\n",
       "      <td>442405</td>\n",
       "      <td>18900</td>\n",
       "      <td>3</td>\n",
       "      <td>1</td>\n",
       "    </tr>\n",
       "    <tr>\n",
       "      <th>1004670</th>\n",
       "      <td>2398356</td>\n",
       "      <td>21903</td>\n",
       "      <td>20</td>\n",
       "      <td>1</td>\n",
       "    </tr>\n",
       "    <tr>\n",
       "      <th>781091</th>\n",
       "      <td>1838274</td>\n",
       "      <td>47734</td>\n",
       "      <td>8</td>\n",
       "      <td>1</td>\n",
       "    </tr>\n",
       "    <tr>\n",
       "      <th>619053</th>\n",
       "      <td>1733669</td>\n",
       "      <td>40198</td>\n",
       "      <td>11</td>\n",
       "      <td>1</td>\n",
       "    </tr>\n",
       "    <tr>\n",
       "      <th>873550</th>\n",
       "      <td>906511</td>\n",
       "      <td>9339</td>\n",
       "      <td>5</td>\n",
       "      <td>1</td>\n",
       "    </tr>\n",
       "    <tr>\n",
       "      <th>935454</th>\n",
       "      <td>702679</td>\n",
       "      <td>30391</td>\n",
       "      <td>19</td>\n",
       "      <td>1</td>\n",
       "    </tr>\n",
       "  </tbody>\n",
       "</table>\n",
       "</div>"
      ],
      "text/plain": [
       "         order_id  product_id  add_to_cart_order  reordered\n",
       "445937    1587162       30192                  2          1\n",
       "921097    3125621       48364                  6          1\n",
       "970386    2778537       33198                  5          1\n",
       "442914    1281917       16920                  8          1\n",
       "818940     442405       18900                  3          1\n",
       "1004670   2398356       21903                 20          1\n",
       "781091    1838274       47734                  8          1\n",
       "619053    1733669       40198                 11          1\n",
       "873550     906511        9339                  5          1\n",
       "935454     702679       30391                 19          1"
      ]
     },
     "execution_count": 42,
     "metadata": {},
     "output_type": "execute_result"
    }
   ],
   "source": [
    "# Filter for reordered items\n",
    "reordered_df = orders_data[orders_data['reordered'] == 1]\n",
    "reordered_df.sample(n=10)"
   ]
  },
  {
   "cell_type": "code",
   "execution_count": 43,
   "id": "possible-change",
   "metadata": {
    "scrolled": true,
    "trusted": false
   },
   "outputs": [
    {
     "data": {
      "text/html": [
       "<div>\n",
       "<style scoped>\n",
       "    .dataframe tbody tr th:only-of-type {\n",
       "        vertical-align: middle;\n",
       "    }\n",
       "\n",
       "    .dataframe tbody tr th {\n",
       "        vertical-align: top;\n",
       "    }\n",
       "\n",
       "    .dataframe thead th {\n",
       "        text-align: right;\n",
       "    }\n",
       "</style>\n",
       "<table border=\"1\" class=\"dataframe\">\n",
       "  <thead>\n",
       "    <tr style=\"text-align: right;\">\n",
       "      <th></th>\n",
       "      <th>product_id</th>\n",
       "      <th>reorder_count</th>\n",
       "    </tr>\n",
       "  </thead>\n",
       "  <tbody>\n",
       "    <tr>\n",
       "      <th>26113</th>\n",
       "      <td>49431</td>\n",
       "      <td>1</td>\n",
       "    </tr>\n",
       "    <tr>\n",
       "      <th>21318</th>\n",
       "      <td>40301</td>\n",
       "      <td>4</td>\n",
       "    </tr>\n",
       "    <tr>\n",
       "      <th>23466</th>\n",
       "      <td>44343</td>\n",
       "      <td>1</td>\n",
       "    </tr>\n",
       "    <tr>\n",
       "      <th>21595</th>\n",
       "      <td>40803</td>\n",
       "      <td>2</td>\n",
       "    </tr>\n",
       "    <tr>\n",
       "      <th>1414</th>\n",
       "      <td>2689</td>\n",
       "      <td>2</td>\n",
       "    </tr>\n",
       "    <tr>\n",
       "      <th>3524</th>\n",
       "      <td>6652</td>\n",
       "      <td>8</td>\n",
       "    </tr>\n",
       "    <tr>\n",
       "      <th>11735</th>\n",
       "      <td>22173</td>\n",
       "      <td>1</td>\n",
       "    </tr>\n",
       "    <tr>\n",
       "      <th>17002</th>\n",
       "      <td>32237</td>\n",
       "      <td>3</td>\n",
       "    </tr>\n",
       "    <tr>\n",
       "      <th>15906</th>\n",
       "      <td>30121</td>\n",
       "      <td>32</td>\n",
       "    </tr>\n",
       "    <tr>\n",
       "      <th>16233</th>\n",
       "      <td>30759</td>\n",
       "      <td>8</td>\n",
       "    </tr>\n",
       "  </tbody>\n",
       "</table>\n",
       "</div>"
      ],
      "text/plain": [
       "       product_id  reorder_count\n",
       "26113       49431              1\n",
       "21318       40301              4\n",
       "23466       44343              1\n",
       "21595       40803              2\n",
       "1414         2689              2\n",
       "3524         6652              8\n",
       "11735       22173              1\n",
       "17002       32237              3\n",
       "15906       30121             32\n",
       "16233       30759              8"
      ]
     },
     "execution_count": 43,
     "metadata": {},
     "output_type": "execute_result"
    }
   ],
   "source": [
    "# Group by product_id and count the number of reorders\n",
    "product_reorder_counts = reordered_df.groupby('product_id').size().reset_index(name='reorder_count')\n",
    "product_reorder_counts.sample(n=10)"
   ]
  },
  {
   "cell_type": "code",
   "execution_count": 44,
   "id": "professional-surfing",
   "metadata": {
    "scrolled": true,
    "trusted": false
   },
   "outputs": [
    {
     "data": {
      "text/html": [
       "<div>\n",
       "<style scoped>\n",
       "    .dataframe tbody tr th:only-of-type {\n",
       "        vertical-align: middle;\n",
       "    }\n",
       "\n",
       "    .dataframe tbody tr th {\n",
       "        vertical-align: top;\n",
       "    }\n",
       "\n",
       "    .dataframe thead th {\n",
       "        text-align: right;\n",
       "    }\n",
       "</style>\n",
       "<table border=\"1\" class=\"dataframe\">\n",
       "  <thead>\n",
       "    <tr style=\"text-align: right;\">\n",
       "      <th></th>\n",
       "      <th>product_id</th>\n",
       "      <th>reorder_count</th>\n",
       "      <th>product_name</th>\n",
       "    </tr>\n",
       "  </thead>\n",
       "  <tbody>\n",
       "    <tr>\n",
       "      <th>17381</th>\n",
       "      <td>32923</td>\n",
       "      <td>26</td>\n",
       "      <td>organic triple berry blend</td>\n",
       "    </tr>\n",
       "    <tr>\n",
       "      <th>11182</th>\n",
       "      <td>21134</td>\n",
       "      <td>13</td>\n",
       "      <td>cream top apricot mango fruit on the bottom yo...</td>\n",
       "    </tr>\n",
       "    <tr>\n",
       "      <th>23722</th>\n",
       "      <td>44838</td>\n",
       "      <td>1</td>\n",
       "      <td>yucatan sunshine habanero pepper sauce</td>\n",
       "    </tr>\n",
       "    <tr>\n",
       "      <th>16748</th>\n",
       "      <td>31724</td>\n",
       "      <td>16</td>\n",
       "      <td>mini yellow rounds corn tortilla chips</td>\n",
       "    </tr>\n",
       "    <tr>\n",
       "      <th>5371</th>\n",
       "      <td>10177</td>\n",
       "      <td>2</td>\n",
       "      <td>german barrel sauerkraut</td>\n",
       "    </tr>\n",
       "    <tr>\n",
       "      <th>3079</th>\n",
       "      <td>5812</td>\n",
       "      <td>2</td>\n",
       "      <td>natural calm magnesium supplement</td>\n",
       "    </tr>\n",
       "    <tr>\n",
       "      <th>25918</th>\n",
       "      <td>49031</td>\n",
       "      <td>3</td>\n",
       "      <td>ale- hop stoopid</td>\n",
       "    </tr>\n",
       "    <tr>\n",
       "      <th>10410</th>\n",
       "      <td>19639</td>\n",
       "      <td>1</td>\n",
       "      <td>spaghetti &amp; meatballs</td>\n",
       "    </tr>\n",
       "    <tr>\n",
       "      <th>25567</th>\n",
       "      <td>48336</td>\n",
       "      <td>1</td>\n",
       "      <td>picante mild sauce</td>\n",
       "    </tr>\n",
       "    <tr>\n",
       "      <th>9317</th>\n",
       "      <td>17649</td>\n",
       "      <td>1</td>\n",
       "      <td>rich &amp; hearty chicken pot pie style chowder soup</td>\n",
       "    </tr>\n",
       "  </tbody>\n",
       "</table>\n",
       "</div>"
      ],
      "text/plain": [
       "       product_id  reorder_count  \\\n",
       "17381       32923             26   \n",
       "11182       21134             13   \n",
       "23722       44838              1   \n",
       "16748       31724             16   \n",
       "5371        10177              2   \n",
       "3079         5812              2   \n",
       "25918       49031              3   \n",
       "10410       19639              1   \n",
       "25567       48336              1   \n",
       "9317        17649              1   \n",
       "\n",
       "                                            product_name  \n",
       "17381                         organic triple berry blend  \n",
       "11182  cream top apricot mango fruit on the bottom yo...  \n",
       "23722             yucatan sunshine habanero pepper sauce  \n",
       "16748             mini yellow rounds corn tortilla chips  \n",
       "5371                            german barrel sauerkraut  \n",
       "3079                   natural calm magnesium supplement  \n",
       "25918                                   ale- hop stoopid  \n",
       "10410                              spaghetti & meatballs  \n",
       "25567                                 picante mild sauce  \n",
       "9317    rich & hearty chicken pot pie style chowder soup  "
      ]
     },
     "execution_count": 44,
     "metadata": {},
     "output_type": "execute_result"
    }
   ],
   "source": [
    "# Merge with product names\n",
    "top_reordered_products = pd.merge(product_reorder_counts, products_data[['product_id', 'product_name']], on='product_id', how='left')\n",
    "top_reordered_products.sample(n=10)"
   ]
  },
  {
   "cell_type": "code",
   "execution_count": 45,
   "id": "48dd3658",
   "metadata": {
    "trusted": false
   },
   "outputs": [],
   "source": [
    "# Sort by reorder count in descending order and get top 20\n",
    "top_20_reordered = top_reordered_products.sort_values(by='reorder_count', ascending=False).head(20)"
   ]
  },
  {
   "cell_type": "code",
   "execution_count": 46,
   "id": "dcf2b117",
   "metadata": {
    "trusted": false
   },
   "outputs": [
    {
     "data": {
      "text/html": [
       "<div>\n",
       "<style scoped>\n",
       "    .dataframe tbody tr th:only-of-type {\n",
       "        vertical-align: middle;\n",
       "    }\n",
       "\n",
       "    .dataframe tbody tr th {\n",
       "        vertical-align: top;\n",
       "    }\n",
       "\n",
       "    .dataframe thead th {\n",
       "        text-align: right;\n",
       "    }\n",
       "</style>\n",
       "<table border=\"1\" class=\"dataframe\">\n",
       "  <thead>\n",
       "    <tr style=\"text-align: right;\">\n",
       "      <th></th>\n",
       "      <th>product_id</th>\n",
       "      <th>reorder_count</th>\n",
       "      <th>product_name</th>\n",
       "    </tr>\n",
       "  </thead>\n",
       "  <tbody>\n",
       "    <tr>\n",
       "      <th>13151</th>\n",
       "      <td>24852</td>\n",
       "      <td>12831</td>\n",
       "      <td>banana</td>\n",
       "    </tr>\n",
       "    <tr>\n",
       "      <th>6915</th>\n",
       "      <td>13176</td>\n",
       "      <td>10237</td>\n",
       "      <td>bag of organic bananas</td>\n",
       "    </tr>\n",
       "    <tr>\n",
       "      <th>11184</th>\n",
       "      <td>21137</td>\n",
       "      <td>6636</td>\n",
       "      <td>organic strawberries</td>\n",
       "    </tr>\n",
       "    <tr>\n",
       "      <th>11591</th>\n",
       "      <td>21903</td>\n",
       "      <td>6034</td>\n",
       "      <td>organic baby spinach</td>\n",
       "    </tr>\n",
       "    <tr>\n",
       "      <th>24958</th>\n",
       "      <td>47209</td>\n",
       "      <td>5499</td>\n",
       "      <td>organic hass avocado</td>\n",
       "    </tr>\n",
       "    <tr>\n",
       "      <th>25239</th>\n",
       "      <td>47766</td>\n",
       "      <td>4374</td>\n",
       "      <td>organic avocado</td>\n",
       "    </tr>\n",
       "    <tr>\n",
       "      <th>14696</th>\n",
       "      <td>27845</td>\n",
       "      <td>3833</td>\n",
       "      <td>organic whole milk</td>\n",
       "    </tr>\n",
       "    <tr>\n",
       "      <th>25163</th>\n",
       "      <td>47626</td>\n",
       "      <td>3483</td>\n",
       "      <td>large lemon</td>\n",
       "    </tr>\n",
       "    <tr>\n",
       "      <th>14763</th>\n",
       "      <td>27966</td>\n",
       "      <td>3386</td>\n",
       "      <td>organic raspberries</td>\n",
       "    </tr>\n",
       "    <tr>\n",
       "      <th>8858</th>\n",
       "      <td>16797</td>\n",
       "      <td>3196</td>\n",
       "      <td>strawberries</td>\n",
       "    </tr>\n",
       "    <tr>\n",
       "      <th>13842</th>\n",
       "      <td>26209</td>\n",
       "      <td>2974</td>\n",
       "      <td>limes</td>\n",
       "    </tr>\n",
       "    <tr>\n",
       "      <th>12148</th>\n",
       "      <td>22935</td>\n",
       "      <td>2567</td>\n",
       "      <td>organic yellow onion</td>\n",
       "    </tr>\n",
       "    <tr>\n",
       "      <th>13208</th>\n",
       "      <td>24964</td>\n",
       "      <td>2407</td>\n",
       "      <td>organic garlic</td>\n",
       "    </tr>\n",
       "    <tr>\n",
       "      <th>23816</th>\n",
       "      <td>45007</td>\n",
       "      <td>2400</td>\n",
       "      <td>organic zucchini</td>\n",
       "    </tr>\n",
       "    <tr>\n",
       "      <th>26239</th>\n",
       "      <td>49683</td>\n",
       "      <td>2205</td>\n",
       "      <td>cucumber kirby</td>\n",
       "    </tr>\n",
       "    <tr>\n",
       "      <th>4363</th>\n",
       "      <td>8277</td>\n",
       "      <td>2095</td>\n",
       "      <td>apple honeycrisp organic</td>\n",
       "    </tr>\n",
       "    <tr>\n",
       "      <th>14882</th>\n",
       "      <td>28204</td>\n",
       "      <td>2062</td>\n",
       "      <td>organic fuji apple</td>\n",
       "    </tr>\n",
       "    <tr>\n",
       "      <th>20774</th>\n",
       "      <td>39275</td>\n",
       "      <td>2011</td>\n",
       "      <td>organic blueberries</td>\n",
       "    </tr>\n",
       "    <tr>\n",
       "      <th>3108</th>\n",
       "      <td>5876</td>\n",
       "      <td>1969</td>\n",
       "      <td>organic lemon</td>\n",
       "    </tr>\n",
       "    <tr>\n",
       "      <th>10091</th>\n",
       "      <td>19057</td>\n",
       "      <td>1921</td>\n",
       "      <td>organic large extra fancy fuji apple</td>\n",
       "    </tr>\n",
       "  </tbody>\n",
       "</table>\n",
       "</div>"
      ],
      "text/plain": [
       "       product_id  reorder_count                          product_name\n",
       "13151       24852          12831                                banana\n",
       "6915        13176          10237                bag of organic bananas\n",
       "11184       21137           6636                  organic strawberries\n",
       "11591       21903           6034                  organic baby spinach\n",
       "24958       47209           5499                  organic hass avocado\n",
       "25239       47766           4374                       organic avocado\n",
       "14696       27845           3833                    organic whole milk\n",
       "25163       47626           3483                           large lemon\n",
       "14763       27966           3386                   organic raspberries\n",
       "8858        16797           3196                          strawberries\n",
       "13842       26209           2974                                 limes\n",
       "12148       22935           2567                  organic yellow onion\n",
       "13208       24964           2407                        organic garlic\n",
       "23816       45007           2400                      organic zucchini\n",
       "26239       49683           2205                        cucumber kirby\n",
       "4363         8277           2095              apple honeycrisp organic\n",
       "14882       28204           2062                    organic fuji apple\n",
       "20774       39275           2011                   organic blueberries\n",
       "3108         5876           1969                         organic lemon\n",
       "10091       19057           1921  organic large extra fancy fuji apple"
      ]
     },
     "execution_count": 46,
     "metadata": {},
     "output_type": "execute_result"
    }
   ],
   "source": [
    "# The top 20 items that are reordered most frequently\n",
    "top_20_reordered.head(20)"
   ]
  },
  {
   "cell_type": "code",
   "execution_count": 47,
   "id": "7e5b1094",
   "metadata": {
    "trusted": false
   },
   "outputs": [
    {
     "data": {
      "image/png": "[encoded data removed]",
      "text/plain": [
       "<Figure size 1200x600 with 1 Axes>"
      ]
     },
     "metadata": {},
     "output_type": "display_data"
    }
   ],
   "source": [
    "# Create a bar plot \n",
    "plt.figure(figsize=(12, 6))\n",
    "sns.barplot(x='reorder_count', y='product_name', data=top_20_reordered)\n",
    "plt.xlabel('Reorder Count')\n",
    "plt.ylabel('Product Name')\n",
    "plt.title('Top 20 Reordered Products')\n",
    "plt.xticks(rotation=45) \n",
    "plt.show()"
   ]
  },
  {
   "cell_type": "markdown",
   "id": "9d312b14",
   "metadata": {},
   "source": [
    "### [C3] For each product, what proportion of its orders are reorders?"
   ]
  },
  {
   "cell_type": "code",
   "execution_count": 48,
   "id": "8ae9f4b1",
   "metadata": {
    "trusted": false
   },
   "outputs": [
    {
     "data": {
      "text/html": [
       "<div>\n",
       "<style scoped>\n",
       "    .dataframe tbody tr th:only-of-type {\n",
       "        vertical-align: middle;\n",
       "    }\n",
       "\n",
       "    .dataframe tbody tr th {\n",
       "        vertical-align: top;\n",
       "    }\n",
       "\n",
       "    .dataframe thead th {\n",
       "        text-align: right;\n",
       "    }\n",
       "</style>\n",
       "<table border=\"1\" class=\"dataframe\">\n",
       "  <thead>\n",
       "    <tr style=\"text-align: right;\">\n",
       "      <th></th>\n",
       "      <th>product_id</th>\n",
       "      <th>total_orders</th>\n",
       "    </tr>\n",
       "  </thead>\n",
       "  <tbody>\n",
       "    <tr>\n",
       "      <th>10800</th>\n",
       "      <td>15158</td>\n",
       "      <td>2</td>\n",
       "    </tr>\n",
       "    <tr>\n",
       "      <th>29973</th>\n",
       "      <td>41922</td>\n",
       "      <td>2</td>\n",
       "    </tr>\n",
       "    <tr>\n",
       "      <th>15089</th>\n",
       "      <td>21080</td>\n",
       "      <td>1</td>\n",
       "    </tr>\n",
       "    <tr>\n",
       "      <th>7249</th>\n",
       "      <td>10152</td>\n",
       "      <td>4</td>\n",
       "    </tr>\n",
       "    <tr>\n",
       "      <th>29343</th>\n",
       "      <td>41062</td>\n",
       "      <td>4</td>\n",
       "    </tr>\n",
       "    <tr>\n",
       "      <th>6298</th>\n",
       "      <td>8811</td>\n",
       "      <td>16</td>\n",
       "    </tr>\n",
       "    <tr>\n",
       "      <th>4763</th>\n",
       "      <td>6659</td>\n",
       "      <td>4</td>\n",
       "    </tr>\n",
       "    <tr>\n",
       "      <th>30682</th>\n",
       "      <td>42903</td>\n",
       "      <td>30</td>\n",
       "    </tr>\n",
       "    <tr>\n",
       "      <th>34628</th>\n",
       "      <td>48388</td>\n",
       "      <td>1</td>\n",
       "    </tr>\n",
       "    <tr>\n",
       "      <th>34567</th>\n",
       "      <td>48298</td>\n",
       "      <td>4</td>\n",
       "    </tr>\n",
       "    <tr>\n",
       "      <th>23074</th>\n",
       "      <td>32253</td>\n",
       "      <td>9</td>\n",
       "    </tr>\n",
       "    <tr>\n",
       "      <th>10405</th>\n",
       "      <td>14620</td>\n",
       "      <td>11</td>\n",
       "    </tr>\n",
       "  </tbody>\n",
       "</table>\n",
       "</div>"
      ],
      "text/plain": [
       "       product_id  total_orders\n",
       "10800       15158             2\n",
       "29973       41922             2\n",
       "15089       21080             1\n",
       "7249        10152             4\n",
       "29343       41062             4\n",
       "6298         8811            16\n",
       "4763         6659             4\n",
       "30682       42903            30\n",
       "34628       48388             1\n",
       "34567       48298             4\n",
       "23074       32253             9\n",
       "10405       14620            11"
      ]
     },
     "execution_count": 48,
     "metadata": {},
     "output_type": "execute_result"
    }
   ],
   "source": [
    "# Calculate total orders for each product\n",
    "total_orders_per_product = orders_data.groupby('product_id').size().reset_index(name='total_orders')\n",
    "total_orders_per_product.sample(n=12)"
   ]
  },
  {
   "cell_type": "code",
   "execution_count": 49,
   "id": "103e7fe1",
   "metadata": {
    "trusted": false
   },
   "outputs": [
    {
     "data": {
      "text/html": [
       "<div>\n",
       "<style scoped>\n",
       "    .dataframe tbody tr th:only-of-type {\n",
       "        vertical-align: middle;\n",
       "    }\n",
       "\n",
       "    .dataframe tbody tr th {\n",
       "        vertical-align: top;\n",
       "    }\n",
       "\n",
       "    .dataframe thead th {\n",
       "        text-align: right;\n",
       "    }\n",
       "</style>\n",
       "<table border=\"1\" class=\"dataframe\">\n",
       "  <thead>\n",
       "    <tr style=\"text-align: right;\">\n",
       "      <th></th>\n",
       "      <th>product_id</th>\n",
       "      <th>reordered_orders</th>\n",
       "    </tr>\n",
       "  </thead>\n",
       "  <tbody>\n",
       "    <tr>\n",
       "      <th>10412</th>\n",
       "      <td>19644</td>\n",
       "      <td>3</td>\n",
       "    </tr>\n",
       "    <tr>\n",
       "      <th>16501</th>\n",
       "      <td>31273</td>\n",
       "      <td>10</td>\n",
       "    </tr>\n",
       "    <tr>\n",
       "      <th>22972</th>\n",
       "      <td>43457</td>\n",
       "      <td>1</td>\n",
       "    </tr>\n",
       "    <tr>\n",
       "      <th>25278</th>\n",
       "      <td>47838</td>\n",
       "      <td>6</td>\n",
       "    </tr>\n",
       "    <tr>\n",
       "      <th>16110</th>\n",
       "      <td>30539</td>\n",
       "      <td>1</td>\n",
       "    </tr>\n",
       "    <tr>\n",
       "      <th>3690</th>\n",
       "      <td>6985</td>\n",
       "      <td>10</td>\n",
       "    </tr>\n",
       "    <tr>\n",
       "      <th>19757</th>\n",
       "      <td>37349</td>\n",
       "      <td>20</td>\n",
       "    </tr>\n",
       "    <tr>\n",
       "      <th>11230</th>\n",
       "      <td>21235</td>\n",
       "      <td>1</td>\n",
       "    </tr>\n",
       "    <tr>\n",
       "      <th>13345</th>\n",
       "      <td>25236</td>\n",
       "      <td>1</td>\n",
       "    </tr>\n",
       "    <tr>\n",
       "      <th>22162</th>\n",
       "      <td>41889</td>\n",
       "      <td>4</td>\n",
       "    </tr>\n",
       "    <tr>\n",
       "      <th>12589</th>\n",
       "      <td>23720</td>\n",
       "      <td>1</td>\n",
       "    </tr>\n",
       "    <tr>\n",
       "      <th>16452</th>\n",
       "      <td>31182</td>\n",
       "      <td>1</td>\n",
       "    </tr>\n",
       "  </tbody>\n",
       "</table>\n",
       "</div>"
      ],
      "text/plain": [
       "       product_id  reordered_orders\n",
       "10412       19644                 3\n",
       "16501       31273                10\n",
       "22972       43457                 1\n",
       "25278       47838                 6\n",
       "16110       30539                 1\n",
       "3690         6985                10\n",
       "19757       37349                20\n",
       "11230       21235                 1\n",
       "13345       25236                 1\n",
       "22162       41889                 4\n",
       "12589       23720                 1\n",
       "16452       31182                 1"
      ]
     },
     "execution_count": 49,
     "metadata": {},
     "output_type": "execute_result"
    }
   ],
   "source": [
    "# Calculate reordered orders for each product\n",
    "reordered_orders_per_product = orders_data[orders_data['reordered'] == 1].groupby('product_id').size().reset_index(name='reordered_orders')\n",
    "reordered_orders_per_product.sample(n=12)"
   ]
  },
  {
   "cell_type": "code",
   "execution_count": 50,
   "id": "social-individual",
   "metadata": {
    "trusted": false
   },
   "outputs": [
    {
     "data": {
      "text/plain": [
       "905        1.0\n",
       "2739      20.0\n",
       "5512       2.0\n",
       "5051       2.0\n",
       "20655    115.0\n",
       "30560      2.0\n",
       "27343      1.0\n",
       "5437       0.0\n",
       "13464      0.0\n",
       "17855      2.0\n",
       "Name: reordered_orders, dtype: float64"
      ]
     },
     "execution_count": 50,
     "metadata": {},
     "output_type": "execute_result"
    }
   ],
   "source": [
    "# Merge the two DataFrames\n",
    "merged_df = pd.merge(total_orders_per_product, reordered_orders_per_product, on='product_id', how='left')\n",
    "merged_df['reordered_orders'] = merged_df['reordered_orders'].fillna(0)  # Handle products with no reorders\n",
    "merged_df['reordered_orders'].sample(n=10)"
   ]
  },
  {
   "cell_type": "code",
   "execution_count": 51,
   "id": "308f9b7d",
   "metadata": {
    "trusted": false
   },
   "outputs": [],
   "source": [
    "# Calculate the proportion of reordered orders\n",
    "merged_df['reorder_proportion'] = merged_df['reordered_orders'] / merged_df['total_orders']"
   ]
  },
  {
   "cell_type": "code",
   "execution_count": 52,
   "id": "bd6c3d16",
   "metadata": {
    "trusted": false
   },
   "outputs": [
    {
     "data": {
      "text/html": [
       "<div>\n",
       "<style scoped>\n",
       "    .dataframe tbody tr th:only-of-type {\n",
       "        vertical-align: middle;\n",
       "    }\n",
       "\n",
       "    .dataframe tbody tr th {\n",
       "        vertical-align: top;\n",
       "    }\n",
       "\n",
       "    .dataframe thead th {\n",
       "        text-align: right;\n",
       "    }\n",
       "</style>\n",
       "<table border=\"1\" class=\"dataframe\">\n",
       "  <thead>\n",
       "    <tr style=\"text-align: right;\">\n",
       "      <th></th>\n",
       "      <th>product_id</th>\n",
       "      <th>total_orders</th>\n",
       "      <th>reordered_orders</th>\n",
       "      <th>reorder_proportion</th>\n",
       "    </tr>\n",
       "  </thead>\n",
       "  <tbody>\n",
       "    <tr>\n",
       "      <th>0</th>\n",
       "      <td>1</td>\n",
       "      <td>63</td>\n",
       "      <td>39.0</td>\n",
       "      <td>0.619048</td>\n",
       "    </tr>\n",
       "    <tr>\n",
       "      <th>1</th>\n",
       "      <td>2</td>\n",
       "      <td>4</td>\n",
       "      <td>0.0</td>\n",
       "      <td>0.000000</td>\n",
       "    </tr>\n",
       "    <tr>\n",
       "      <th>2</th>\n",
       "      <td>3</td>\n",
       "      <td>10</td>\n",
       "      <td>8.0</td>\n",
       "      <td>0.800000</td>\n",
       "    </tr>\n",
       "    <tr>\n",
       "      <th>3</th>\n",
       "      <td>4</td>\n",
       "      <td>4</td>\n",
       "      <td>1.0</td>\n",
       "      <td>0.250000</td>\n",
       "    </tr>\n",
       "    <tr>\n",
       "      <th>4</th>\n",
       "      <td>8</td>\n",
       "      <td>2</td>\n",
       "      <td>0.0</td>\n",
       "      <td>0.000000</td>\n",
       "    </tr>\n",
       "    <tr>\n",
       "      <th>...</th>\n",
       "      <td>...</td>\n",
       "      <td>...</td>\n",
       "      <td>...</td>\n",
       "      <td>...</td>\n",
       "    </tr>\n",
       "    <tr>\n",
       "      <th>35559</th>\n",
       "      <td>49690</td>\n",
       "      <td>4</td>\n",
       "      <td>3.0</td>\n",
       "      <td>0.750000</td>\n",
       "    </tr>\n",
       "    <tr>\n",
       "      <th>35560</th>\n",
       "      <td>49691</td>\n",
       "      <td>30</td>\n",
       "      <td>13.0</td>\n",
       "      <td>0.433333</td>\n",
       "    </tr>\n",
       "    <tr>\n",
       "      <th>35561</th>\n",
       "      <td>49692</td>\n",
       "      <td>7</td>\n",
       "      <td>3.0</td>\n",
       "      <td>0.428571</td>\n",
       "    </tr>\n",
       "    <tr>\n",
       "      <th>35562</th>\n",
       "      <td>49693</td>\n",
       "      <td>8</td>\n",
       "      <td>2.0</td>\n",
       "      <td>0.250000</td>\n",
       "    </tr>\n",
       "    <tr>\n",
       "      <th>35563</th>\n",
       "      <td>49694</td>\n",
       "      <td>8</td>\n",
       "      <td>3.0</td>\n",
       "      <td>0.375000</td>\n",
       "    </tr>\n",
       "  </tbody>\n",
       "</table>\n",
       "<p>35564 rows × 4 columns</p>\n",
       "</div>"
      ],
      "text/plain": [
       "       product_id  total_orders  reordered_orders  reorder_proportion\n",
       "0               1            63              39.0            0.619048\n",
       "1               2             4               0.0            0.000000\n",
       "2               3            10               8.0            0.800000\n",
       "3               4             4               1.0            0.250000\n",
       "4               8             2               0.0            0.000000\n",
       "...           ...           ...               ...                 ...\n",
       "35559       49690             4               3.0            0.750000\n",
       "35560       49691            30              13.0            0.433333\n",
       "35561       49692             7               3.0            0.428571\n",
       "35562       49693             8               2.0            0.250000\n",
       "35563       49694             8               3.0            0.375000\n",
       "\n",
       "[35564 rows x 4 columns]"
      ]
     },
     "execution_count": 52,
     "metadata": {},
     "output_type": "execute_result"
    }
   ],
   "source": [
    "# Display the results\n",
    "merged_df[['product_id', 'total_orders', 'reordered_orders', 'reorder_proportion']]"
   ]
  },
  {
   "cell_type": "markdown",
   "id": "subject-boxing",
   "metadata": {},
   "source": [
    "### [C4] For each customer, what proportion of their products ordered are reorders?"
   ]
  },
  {
   "cell_type": "code",
   "execution_count": 53,
   "id": "medical-couple",
   "metadata": {
    "scrolled": true,
    "trusted": false
   },
   "outputs": [
    {
     "data": {
      "text/html": [
       "<div>\n",
       "<style scoped>\n",
       "    .dataframe tbody tr th:only-of-type {\n",
       "        vertical-align: middle;\n",
       "    }\n",
       "\n",
       "    .dataframe tbody tr th {\n",
       "        vertical-align: top;\n",
       "    }\n",
       "\n",
       "    .dataframe thead th {\n",
       "        text-align: right;\n",
       "    }\n",
       "</style>\n",
       "<table border=\"1\" class=\"dataframe\">\n",
       "  <thead>\n",
       "    <tr style=\"text-align: right;\">\n",
       "      <th></th>\n",
       "      <th>order_id</th>\n",
       "      <th>product_id</th>\n",
       "      <th>add_to_cart_order</th>\n",
       "      <th>reordered</th>\n",
       "      <th>user_id</th>\n",
       "    </tr>\n",
       "  </thead>\n",
       "  <tbody>\n",
       "    <tr>\n",
       "      <th>1683</th>\n",
       "      <td>1926050</td>\n",
       "      <td>16759</td>\n",
       "      <td>8</td>\n",
       "      <td>1</td>\n",
       "      <td>41080</td>\n",
       "    </tr>\n",
       "    <tr>\n",
       "      <th>157104</th>\n",
       "      <td>3322954</td>\n",
       "      <td>2611</td>\n",
       "      <td>11</td>\n",
       "      <td>0</td>\n",
       "      <td>7974</td>\n",
       "    </tr>\n",
       "    <tr>\n",
       "      <th>467047</th>\n",
       "      <td>2060402</td>\n",
       "      <td>9743</td>\n",
       "      <td>23</td>\n",
       "      <td>1</td>\n",
       "      <td>52644</td>\n",
       "    </tr>\n",
       "    <tr>\n",
       "      <th>14908</th>\n",
       "      <td>1106819</td>\n",
       "      <td>26119</td>\n",
       "      <td>2</td>\n",
       "      <td>1</td>\n",
       "      <td>41731</td>\n",
       "    </tr>\n",
       "    <tr>\n",
       "      <th>596057</th>\n",
       "      <td>3354112</td>\n",
       "      <td>27796</td>\n",
       "      <td>1</td>\n",
       "      <td>1</td>\n",
       "      <td>174879</td>\n",
       "    </tr>\n",
       "    <tr>\n",
       "      <th>1024126</th>\n",
       "      <td>989058</td>\n",
       "      <td>45957</td>\n",
       "      <td>11</td>\n",
       "      <td>0</td>\n",
       "      <td>11575</td>\n",
       "    </tr>\n",
       "    <tr>\n",
       "      <th>417545</th>\n",
       "      <td>455825</td>\n",
       "      <td>8277</td>\n",
       "      <td>4</td>\n",
       "      <td>0</td>\n",
       "      <td>129442</td>\n",
       "    </tr>\n",
       "    <tr>\n",
       "      <th>588357</th>\n",
       "      <td>910333</td>\n",
       "      <td>23734</td>\n",
       "      <td>3</td>\n",
       "      <td>1</td>\n",
       "      <td>169868</td>\n",
       "    </tr>\n",
       "    <tr>\n",
       "      <th>244981</th>\n",
       "      <td>1239363</td>\n",
       "      <td>31630</td>\n",
       "      <td>1</td>\n",
       "      <td>1</td>\n",
       "      <td>91094</td>\n",
       "    </tr>\n",
       "    <tr>\n",
       "      <th>490537</th>\n",
       "      <td>1794188</td>\n",
       "      <td>25511</td>\n",
       "      <td>8</td>\n",
       "      <td>0</td>\n",
       "      <td>157609</td>\n",
       "    </tr>\n",
       "  </tbody>\n",
       "</table>\n",
       "</div>"
      ],
      "text/plain": [
       "         order_id  product_id  add_to_cart_order  reordered  user_id\n",
       "1683      1926050       16759                  8          1    41080\n",
       "157104    3322954        2611                 11          0     7974\n",
       "467047    2060402        9743                 23          1    52644\n",
       "14908     1106819       26119                  2          1    41731\n",
       "596057    3354112       27796                  1          1   174879\n",
       "1024126    989058       45957                 11          0    11575\n",
       "417545     455825        8277                  4          0   129442\n",
       "588357     910333       23734                  3          1   169868\n",
       "244981    1239363       31630                  1          1    91094\n",
       "490537    1794188       25511                  8          0   157609"
      ]
     },
     "execution_count": 53,
     "metadata": {},
     "output_type": "execute_result"
    }
   ],
   "source": [
    "# Merge orders and order_products DataFrames\n",
    "merged_df = pd.merge(orders_data, instacart_data[['order_id', 'user_id']], on='order_id', how='left')\n",
    "merged_df.sample(n=10)"
   ]
  },
  {
   "cell_type": "code",
   "execution_count": 54,
   "id": "8892e4b4",
   "metadata": {
    "trusted": false
   },
   "outputs": [
    {
     "data": {
      "text/html": [
       "<div>\n",
       "<style scoped>\n",
       "    .dataframe tbody tr th:only-of-type {\n",
       "        vertical-align: middle;\n",
       "    }\n",
       "\n",
       "    .dataframe tbody tr th {\n",
       "        vertical-align: top;\n",
       "    }\n",
       "\n",
       "    .dataframe thead th {\n",
       "        text-align: right;\n",
       "    }\n",
       "</style>\n",
       "<table border=\"1\" class=\"dataframe\">\n",
       "  <thead>\n",
       "    <tr style=\"text-align: right;\">\n",
       "      <th></th>\n",
       "      <th>user_id</th>\n",
       "      <th>total_orders</th>\n",
       "    </tr>\n",
       "  </thead>\n",
       "  <tbody>\n",
       "    <tr>\n",
       "      <th>106139</th>\n",
       "      <td>162045</td>\n",
       "      <td>5</td>\n",
       "    </tr>\n",
       "    <tr>\n",
       "      <th>4820</th>\n",
       "      <td>7296</td>\n",
       "      <td>8</td>\n",
       "    </tr>\n",
       "    <tr>\n",
       "      <th>99242</th>\n",
       "      <td>151638</td>\n",
       "      <td>10</td>\n",
       "    </tr>\n",
       "    <tr>\n",
       "      <th>48411</th>\n",
       "      <td>73959</td>\n",
       "      <td>10</td>\n",
       "    </tr>\n",
       "    <tr>\n",
       "      <th>64318</th>\n",
       "      <td>98064</td>\n",
       "      <td>3</td>\n",
       "    </tr>\n",
       "    <tr>\n",
       "      <th>86562</th>\n",
       "      <td>132285</td>\n",
       "      <td>2</td>\n",
       "    </tr>\n",
       "    <tr>\n",
       "      <th>130335</th>\n",
       "      <td>198787</td>\n",
       "      <td>1</td>\n",
       "    </tr>\n",
       "    <tr>\n",
       "      <th>86606</th>\n",
       "      <td>132347</td>\n",
       "      <td>9</td>\n",
       "    </tr>\n",
       "    <tr>\n",
       "      <th>111869</th>\n",
       "      <td>170823</td>\n",
       "      <td>5</td>\n",
       "    </tr>\n",
       "    <tr>\n",
       "      <th>116807</th>\n",
       "      <td>178336</td>\n",
       "      <td>2</td>\n",
       "    </tr>\n",
       "  </tbody>\n",
       "</table>\n",
       "</div>"
      ],
      "text/plain": [
       "        user_id  total_orders\n",
       "106139   162045             5\n",
       "4820       7296             8\n",
       "99242    151638            10\n",
       "48411     73959            10\n",
       "64318     98064             3\n",
       "86562    132285             2\n",
       "130335   198787             1\n",
       "86606    132347             9\n",
       "111869   170823             5\n",
       "116807   178336             2"
      ]
     },
     "execution_count": 54,
     "metadata": {},
     "output_type": "execute_result"
    }
   ],
   "source": [
    "# Calculate total orders per user\n",
    "total_orders_per_user = merged_df.groupby('user_id').size().reset_index(name='total_orders')\n",
    "total_orders_per_user.sample(n=10)"
   ]
  },
  {
   "cell_type": "code",
   "execution_count": 55,
   "id": "6a96d771",
   "metadata": {
    "trusted": false
   },
   "outputs": [
    {
     "data": {
      "text/html": [
       "<div>\n",
       "<style scoped>\n",
       "    .dataframe tbody tr th:only-of-type {\n",
       "        vertical-align: middle;\n",
       "    }\n",
       "\n",
       "    .dataframe tbody tr th {\n",
       "        vertical-align: top;\n",
       "    }\n",
       "\n",
       "    .dataframe thead th {\n",
       "        text-align: right;\n",
       "    }\n",
       "</style>\n",
       "<table border=\"1\" class=\"dataframe\">\n",
       "  <thead>\n",
       "    <tr style=\"text-align: right;\">\n",
       "      <th></th>\n",
       "      <th>user_id</th>\n",
       "      <th>reordered_orders</th>\n",
       "    </tr>\n",
       "  </thead>\n",
       "  <tbody>\n",
       "    <tr>\n",
       "      <th>95819</th>\n",
       "      <td>186514</td>\n",
       "      <td>15</td>\n",
       "    </tr>\n",
       "    <tr>\n",
       "      <th>12954</th>\n",
       "      <td>25206</td>\n",
       "      <td>1</td>\n",
       "    </tr>\n",
       "    <tr>\n",
       "      <th>11112</th>\n",
       "      <td>21686</td>\n",
       "      <td>12</td>\n",
       "    </tr>\n",
       "    <tr>\n",
       "      <th>52010</th>\n",
       "      <td>101034</td>\n",
       "      <td>15</td>\n",
       "    </tr>\n",
       "    <tr>\n",
       "      <th>26199</th>\n",
       "      <td>51070</td>\n",
       "      <td>6</td>\n",
       "    </tr>\n",
       "    <tr>\n",
       "      <th>54606</th>\n",
       "      <td>105961</td>\n",
       "      <td>3</td>\n",
       "    </tr>\n",
       "    <tr>\n",
       "      <th>39218</th>\n",
       "      <td>76383</td>\n",
       "      <td>16</td>\n",
       "    </tr>\n",
       "    <tr>\n",
       "      <th>40929</th>\n",
       "      <td>79707</td>\n",
       "      <td>1</td>\n",
       "    </tr>\n",
       "    <tr>\n",
       "      <th>94956</th>\n",
       "      <td>184935</td>\n",
       "      <td>3</td>\n",
       "    </tr>\n",
       "    <tr>\n",
       "      <th>77911</th>\n",
       "      <td>151826</td>\n",
       "      <td>15</td>\n",
       "    </tr>\n",
       "  </tbody>\n",
       "</table>\n",
       "</div>"
      ],
      "text/plain": [
       "       user_id  reordered_orders\n",
       "95819   186514                15\n",
       "12954    25206                 1\n",
       "11112    21686                12\n",
       "52010   101034                15\n",
       "26199    51070                 6\n",
       "54606   105961                 3\n",
       "39218    76383                16\n",
       "40929    79707                 1\n",
       "94956   184935                 3\n",
       "77911   151826                15"
      ]
     },
     "execution_count": 55,
     "metadata": {},
     "output_type": "execute_result"
    }
   ],
   "source": [
    "# Calculate reordered orders per user\n",
    "reordered_orders_per_user = merged_df[merged_df['reordered'] == 1].groupby('user_id').size().reset_index(name='reordered_orders')\n",
    "reordered_orders_per_user.sample(n=10)"
   ]
  },
  {
   "cell_type": "code",
   "execution_count": 56,
   "id": "69a0b76d",
   "metadata": {
    "trusted": false
   },
   "outputs": [],
   "source": [
    "# Merge total and reordered orders per user\n",
    "merged_user_df = pd.merge(total_orders_per_user, reordered_orders_per_user, on='user_id', how='left')\n",
    "merged_user_df['reordered_orders'] = merged_user_df['reordered_orders'].fillna(0)"
   ]
  },
  {
   "cell_type": "code",
   "execution_count": 57,
   "id": "b990fe78",
   "metadata": {
    "trusted": false
   },
   "outputs": [],
   "source": [
    "# Calculate proportion of reordered orders per user\n",
    "merged_user_df['reorder_proportion'] = merged_user_df['reordered_orders'] / merged_user_df['total_orders']"
   ]
  },
  {
   "cell_type": "code",
   "execution_count": 58,
   "id": "937264b5",
   "metadata": {
    "trusted": false
   },
   "outputs": [
    {
     "data": {
      "text/html": [
       "<div>\n",
       "<style scoped>\n",
       "    .dataframe tbody tr th:only-of-type {\n",
       "        vertical-align: middle;\n",
       "    }\n",
       "\n",
       "    .dataframe tbody tr th {\n",
       "        vertical-align: top;\n",
       "    }\n",
       "\n",
       "    .dataframe thead th {\n",
       "        text-align: right;\n",
       "    }\n",
       "</style>\n",
       "<table border=\"1\" class=\"dataframe\">\n",
       "  <thead>\n",
       "    <tr style=\"text-align: right;\">\n",
       "      <th></th>\n",
       "      <th>user_id</th>\n",
       "      <th>total_orders</th>\n",
       "      <th>reordered_orders</th>\n",
       "      <th>reorder_proportion</th>\n",
       "    </tr>\n",
       "  </thead>\n",
       "  <tbody>\n",
       "    <tr>\n",
       "      <th>0</th>\n",
       "      <td>2</td>\n",
       "      <td>4</td>\n",
       "      <td>0.0</td>\n",
       "      <td>0.000000</td>\n",
       "    </tr>\n",
       "    <tr>\n",
       "      <th>1</th>\n",
       "      <td>4</td>\n",
       "      <td>1</td>\n",
       "      <td>0.0</td>\n",
       "      <td>0.000000</td>\n",
       "    </tr>\n",
       "    <tr>\n",
       "      <th>2</th>\n",
       "      <td>7</td>\n",
       "      <td>5</td>\n",
       "      <td>4.0</td>\n",
       "      <td>0.800000</td>\n",
       "    </tr>\n",
       "    <tr>\n",
       "      <th>3</th>\n",
       "      <td>11</td>\n",
       "      <td>4</td>\n",
       "      <td>1.0</td>\n",
       "      <td>0.250000</td>\n",
       "    </tr>\n",
       "    <tr>\n",
       "      <th>4</th>\n",
       "      <td>13</td>\n",
       "      <td>4</td>\n",
       "      <td>3.0</td>\n",
       "      <td>0.750000</td>\n",
       "    </tr>\n",
       "    <tr>\n",
       "      <th>...</th>\n",
       "      <td>...</td>\n",
       "      <td>...</td>\n",
       "      <td>...</td>\n",
       "      <td>...</td>\n",
       "    </tr>\n",
       "    <tr>\n",
       "      <th>135116</th>\n",
       "      <td>206203</td>\n",
       "      <td>9</td>\n",
       "      <td>2.0</td>\n",
       "      <td>0.222222</td>\n",
       "    </tr>\n",
       "    <tr>\n",
       "      <th>135117</th>\n",
       "      <td>206206</td>\n",
       "      <td>7</td>\n",
       "      <td>4.0</td>\n",
       "      <td>0.571429</td>\n",
       "    </tr>\n",
       "    <tr>\n",
       "      <th>135118</th>\n",
       "      <td>206207</td>\n",
       "      <td>11</td>\n",
       "      <td>9.0</td>\n",
       "      <td>0.818182</td>\n",
       "    </tr>\n",
       "    <tr>\n",
       "      <th>135119</th>\n",
       "      <td>206208</td>\n",
       "      <td>28</td>\n",
       "      <td>18.0</td>\n",
       "      <td>0.642857</td>\n",
       "    </tr>\n",
       "    <tr>\n",
       "      <th>135120</th>\n",
       "      <td>206209</td>\n",
       "      <td>7</td>\n",
       "      <td>3.0</td>\n",
       "      <td>0.428571</td>\n",
       "    </tr>\n",
       "  </tbody>\n",
       "</table>\n",
       "<p>135121 rows × 4 columns</p>\n",
       "</div>"
      ],
      "text/plain": [
       "        user_id  total_orders  reordered_orders  reorder_proportion\n",
       "0             2             4               0.0            0.000000\n",
       "1             4             1               0.0            0.000000\n",
       "2             7             5               4.0            0.800000\n",
       "3            11             4               1.0            0.250000\n",
       "4            13             4               3.0            0.750000\n",
       "...         ...           ...               ...                 ...\n",
       "135116   206203             9               2.0            0.222222\n",
       "135117   206206             7               4.0            0.571429\n",
       "135118   206207            11               9.0            0.818182\n",
       "135119   206208            28              18.0            0.642857\n",
       "135120   206209             7               3.0            0.428571\n",
       "\n",
       "[135121 rows x 4 columns]"
      ]
     },
     "execution_count": 58,
     "metadata": {},
     "output_type": "execute_result"
    }
   ],
   "source": [
    "# Display the results\n",
    "merged_user_df[['user_id', 'total_orders', 'reordered_orders', 'reorder_proportion']]"
   ]
  },
  {
   "cell_type": "markdown",
   "id": "92d35137",
   "metadata": {},
   "source": [
    "### [C5] What are the top 20 items that people put in their carts first? "
   ]
  },
  {
   "cell_type": "code",
   "execution_count": 59,
   "id": "0ae57274",
   "metadata": {
    "scrolled": true,
    "trusted": false
   },
   "outputs": [
    {
     "data": {
      "text/html": [
       "<div>\n",
       "<style scoped>\n",
       "    .dataframe tbody tr th:only-of-type {\n",
       "        vertical-align: middle;\n",
       "    }\n",
       "\n",
       "    .dataframe tbody tr th {\n",
       "        vertical-align: top;\n",
       "    }\n",
       "\n",
       "    .dataframe thead th {\n",
       "        text-align: right;\n",
       "    }\n",
       "</style>\n",
       "<table border=\"1\" class=\"dataframe\">\n",
       "  <thead>\n",
       "    <tr style=\"text-align: right;\">\n",
       "      <th></th>\n",
       "      <th>order_id</th>\n",
       "      <th>product_id</th>\n",
       "      <th>add_to_cart_order</th>\n",
       "      <th>reordered</th>\n",
       "    </tr>\n",
       "  </thead>\n",
       "  <tbody>\n",
       "    <tr>\n",
       "      <th>922103</th>\n",
       "      <td>3372875</td>\n",
       "      <td>19820</td>\n",
       "      <td>1</td>\n",
       "      <td>1</td>\n",
       "    </tr>\n",
       "    <tr>\n",
       "      <th>98314</th>\n",
       "      <td>86265</td>\n",
       "      <td>1250</td>\n",
       "      <td>1</td>\n",
       "      <td>0</td>\n",
       "    </tr>\n",
       "    <tr>\n",
       "      <th>406480</th>\n",
       "      <td>774860</td>\n",
       "      <td>31634</td>\n",
       "      <td>1</td>\n",
       "      <td>1</td>\n",
       "    </tr>\n",
       "    <tr>\n",
       "      <th>648721</th>\n",
       "      <td>1725159</td>\n",
       "      <td>33719</td>\n",
       "      <td>1</td>\n",
       "      <td>1</td>\n",
       "    </tr>\n",
       "    <tr>\n",
       "      <th>857874</th>\n",
       "      <td>400920</td>\n",
       "      <td>24232</td>\n",
       "      <td>1</td>\n",
       "      <td>1</td>\n",
       "    </tr>\n",
       "    <tr>\n",
       "      <th>699577</th>\n",
       "      <td>2777588</td>\n",
       "      <td>11707</td>\n",
       "      <td>1</td>\n",
       "      <td>1</td>\n",
       "    </tr>\n",
       "    <tr>\n",
       "      <th>978975</th>\n",
       "      <td>904560</td>\n",
       "      <td>28985</td>\n",
       "      <td>1</td>\n",
       "      <td>0</td>\n",
       "    </tr>\n",
       "    <tr>\n",
       "      <th>496792</th>\n",
       "      <td>3345775</td>\n",
       "      <td>5077</td>\n",
       "      <td>1</td>\n",
       "      <td>1</td>\n",
       "    </tr>\n",
       "    <tr>\n",
       "      <th>513990</th>\n",
       "      <td>3185519</td>\n",
       "      <td>5258</td>\n",
       "      <td>1</td>\n",
       "      <td>1</td>\n",
       "    </tr>\n",
       "    <tr>\n",
       "      <th>951704</th>\n",
       "      <td>253046</td>\n",
       "      <td>7243</td>\n",
       "      <td>1</td>\n",
       "      <td>0</td>\n",
       "    </tr>\n",
       "  </tbody>\n",
       "</table>\n",
       "</div>"
      ],
      "text/plain": [
       "        order_id  product_id  add_to_cart_order  reordered\n",
       "922103   3372875       19820                  1          1\n",
       "98314      86265        1250                  1          0\n",
       "406480    774860       31634                  1          1\n",
       "648721   1725159       33719                  1          1\n",
       "857874    400920       24232                  1          1\n",
       "699577   2777588       11707                  1          1\n",
       "978975    904560       28985                  1          0\n",
       "496792   3345775        5077                  1          1\n",
       "513990   3185519        5258                  1          1\n",
       "951704    253046        7243                  1          0"
      ]
     },
     "execution_count": 59,
     "metadata": {},
     "output_type": "execute_result"
    }
   ],
   "source": [
    "# Filter for the first item in each order\n",
    "first_item_df = orders_data[orders_data['add_to_cart_order'] == 1]\n",
    "first_item_df.sample(n=10)"
   ]
  },
  {
   "cell_type": "code",
   "execution_count": 60,
   "id": "forty-netherlands",
   "metadata": {
    "scrolled": true,
    "trusted": false
   },
   "outputs": [
    {
     "data": {
      "text/html": [
       "<div>\n",
       "<style scoped>\n",
       "    .dataframe tbody tr th:only-of-type {\n",
       "        vertical-align: middle;\n",
       "    }\n",
       "\n",
       "    .dataframe tbody tr th {\n",
       "        vertical-align: top;\n",
       "    }\n",
       "\n",
       "    .dataframe thead th {\n",
       "        text-align: right;\n",
       "    }\n",
       "</style>\n",
       "<table border=\"1\" class=\"dataframe\">\n",
       "  <thead>\n",
       "    <tr style=\"text-align: right;\">\n",
       "      <th></th>\n",
       "      <th>product_id</th>\n",
       "      <th>first_item_count</th>\n",
       "    </tr>\n",
       "  </thead>\n",
       "  <tbody>\n",
       "    <tr>\n",
       "      <th>12772</th>\n",
       "      <td>41414</td>\n",
       "      <td>1</td>\n",
       "    </tr>\n",
       "    <tr>\n",
       "      <th>11684</th>\n",
       "      <td>37931</td>\n",
       "      <td>2</td>\n",
       "    </tr>\n",
       "    <tr>\n",
       "      <th>11083</th>\n",
       "      <td>35943</td>\n",
       "      <td>1</td>\n",
       "    </tr>\n",
       "    <tr>\n",
       "      <th>1228</th>\n",
       "      <td>4003</td>\n",
       "      <td>2</td>\n",
       "    </tr>\n",
       "    <tr>\n",
       "      <th>1394</th>\n",
       "      <td>4538</td>\n",
       "      <td>1</td>\n",
       "    </tr>\n",
       "    <tr>\n",
       "      <th>4930</th>\n",
       "      <td>16031</td>\n",
       "      <td>3</td>\n",
       "    </tr>\n",
       "    <tr>\n",
       "      <th>12505</th>\n",
       "      <td>40470</td>\n",
       "      <td>2</td>\n",
       "    </tr>\n",
       "    <tr>\n",
       "      <th>12412</th>\n",
       "      <td>40198</td>\n",
       "      <td>16</td>\n",
       "    </tr>\n",
       "    <tr>\n",
       "      <th>13165</th>\n",
       "      <td>42728</td>\n",
       "      <td>3</td>\n",
       "    </tr>\n",
       "    <tr>\n",
       "      <th>5790</th>\n",
       "      <td>18839</td>\n",
       "      <td>1</td>\n",
       "    </tr>\n",
       "  </tbody>\n",
       "</table>\n",
       "</div>"
      ],
      "text/plain": [
       "       product_id  first_item_count\n",
       "12772       41414                 1\n",
       "11684       37931                 2\n",
       "11083       35943                 1\n",
       "1228         4003                 2\n",
       "1394         4538                 1\n",
       "4930        16031                 3\n",
       "12505       40470                 2\n",
       "12412       40198                16\n",
       "13165       42728                 3\n",
       "5790        18839                 1"
      ]
     },
     "execution_count": 60,
     "metadata": {},
     "output_type": "execute_result"
    }
   ],
   "source": [
    "# Group by product_id and count the occurrences\n",
    "first_item_counts = first_item_df.groupby('product_id').size().reset_index(name='first_item_count')\n",
    "first_item_counts.sample(n=10)"
   ]
  },
  {
   "cell_type": "code",
   "execution_count": 61,
   "id": "08e41ec2",
   "metadata": {
    "trusted": false
   },
   "outputs": [
    {
     "data": {
      "text/html": [
       "<div>\n",
       "<style scoped>\n",
       "    .dataframe tbody tr th:only-of-type {\n",
       "        vertical-align: middle;\n",
       "    }\n",
       "\n",
       "    .dataframe tbody tr th {\n",
       "        vertical-align: top;\n",
       "    }\n",
       "\n",
       "    .dataframe thead th {\n",
       "        text-align: right;\n",
       "    }\n",
       "</style>\n",
       "<table border=\"1\" class=\"dataframe\">\n",
       "  <thead>\n",
       "    <tr style=\"text-align: right;\">\n",
       "      <th></th>\n",
       "      <th>product_id</th>\n",
       "      <th>first_item_count</th>\n",
       "      <th>product_name</th>\n",
       "    </tr>\n",
       "  </thead>\n",
       "  <tbody>\n",
       "    <tr>\n",
       "      <th>9246</th>\n",
       "      <td>30113</td>\n",
       "      <td>1</td>\n",
       "      <td>women's one food-based multivitamin</td>\n",
       "    </tr>\n",
       "    <tr>\n",
       "      <th>501</th>\n",
       "      <td>1569</td>\n",
       "      <td>1</td>\n",
       "      <td>cold shredded chicken</td>\n",
       "    </tr>\n",
       "    <tr>\n",
       "      <th>13362</th>\n",
       "      <td>43452</td>\n",
       "      <td>2</td>\n",
       "      <td>japanese style noodles &amp; chicken flavored sauce</td>\n",
       "    </tr>\n",
       "    <tr>\n",
       "      <th>12304</th>\n",
       "      <td>39814</td>\n",
       "      <td>3</td>\n",
       "      <td>hawaiian style teriyaki chicken bowl</td>\n",
       "    </tr>\n",
       "    <tr>\n",
       "      <th>14127</th>\n",
       "      <td>45873</td>\n",
       "      <td>1</td>\n",
       "      <td>chai spice black tea bags</td>\n",
       "    </tr>\n",
       "    <tr>\n",
       "      <th>8328</th>\n",
       "      <td>27171</td>\n",
       "      <td>5</td>\n",
       "      <td>bread crumbs</td>\n",
       "    </tr>\n",
       "    <tr>\n",
       "      <th>8037</th>\n",
       "      <td>26246</td>\n",
       "      <td>2</td>\n",
       "      <td>mini double caramel ice cream bars</td>\n",
       "    </tr>\n",
       "    <tr>\n",
       "      <th>13920</th>\n",
       "      <td>45211</td>\n",
       "      <td>1</td>\n",
       "      <td>organic french fingerling potato</td>\n",
       "    </tr>\n",
       "    <tr>\n",
       "      <th>8562</th>\n",
       "      <td>27930</td>\n",
       "      <td>2</td>\n",
       "      <td>real pure acai</td>\n",
       "    </tr>\n",
       "    <tr>\n",
       "      <th>5956</th>\n",
       "      <td>19382</td>\n",
       "      <td>6</td>\n",
       "      <td>crunch granola bar chocolate chip</td>\n",
       "    </tr>\n",
       "  </tbody>\n",
       "</table>\n",
       "</div>"
      ],
      "text/plain": [
       "       product_id  first_item_count  \\\n",
       "9246        30113                 1   \n",
       "501          1569                 1   \n",
       "13362       43452                 2   \n",
       "12304       39814                 3   \n",
       "14127       45873                 1   \n",
       "8328        27171                 5   \n",
       "8037        26246                 2   \n",
       "13920       45211                 1   \n",
       "8562        27930                 2   \n",
       "5956        19382                 6   \n",
       "\n",
       "                                          product_name  \n",
       "9246               women's one food-based multivitamin  \n",
       "501                              cold shredded chicken  \n",
       "13362  japanese style noodles & chicken flavored sauce  \n",
       "12304             hawaiian style teriyaki chicken bowl  \n",
       "14127                        chai spice black tea bags  \n",
       "8328                                      bread crumbs  \n",
       "8037                mini double caramel ice cream bars  \n",
       "13920                 organic french fingerling potato  \n",
       "8562                                    real pure acai  \n",
       "5956                 crunch granola bar chocolate chip  "
      ]
     },
     "execution_count": 61,
     "metadata": {},
     "output_type": "execute_result"
    }
   ],
   "source": [
    "# Merge with product names\n",
    "first_item_with_names = pd.merge(first_item_counts, products_data[['product_id', 'product_name']], on='product_id', how='left')\n",
    "first_item_with_names.sample(n=10)"
   ]
  },
  {
   "cell_type": "code",
   "execution_count": 62,
   "id": "7fddc38a",
   "metadata": {
    "trusted": false
   },
   "outputs": [],
   "source": [
    "# Sort by count in descending order and get top 20\n",
    "top_20_first_items = first_item_with_names.sort_values(by='first_item_count', ascending=False).head(20)"
   ]
  },
  {
   "cell_type": "code",
   "execution_count": 63,
   "id": "51ba76ce",
   "metadata": {
    "trusted": false
   },
   "outputs": [
    {
     "data": {
      "text/html": [
       "<div>\n",
       "<style scoped>\n",
       "    .dataframe tbody tr th:only-of-type {\n",
       "        vertical-align: middle;\n",
       "    }\n",
       "\n",
       "    .dataframe tbody tr th {\n",
       "        vertical-align: top;\n",
       "    }\n",
       "\n",
       "    .dataframe thead th {\n",
       "        text-align: right;\n",
       "    }\n",
       "</style>\n",
       "<table border=\"1\" class=\"dataframe\">\n",
       "  <thead>\n",
       "    <tr style=\"text-align: right;\">\n",
       "      <th></th>\n",
       "      <th>product_id</th>\n",
       "      <th>product_name</th>\n",
       "      <th>first_item_count</th>\n",
       "    </tr>\n",
       "  </thead>\n",
       "  <tbody>\n",
       "    <tr>\n",
       "      <th>7609</th>\n",
       "      <td>24852</td>\n",
       "      <td>banana</td>\n",
       "      <td>3538</td>\n",
       "    </tr>\n",
       "    <tr>\n",
       "      <th>4065</th>\n",
       "      <td>13176</td>\n",
       "      <td>bag of organic bananas</td>\n",
       "      <td>2541</td>\n",
       "    </tr>\n",
       "    <tr>\n",
       "      <th>8533</th>\n",
       "      <td>27845</td>\n",
       "      <td>organic whole milk</td>\n",
       "      <td>1046</td>\n",
       "    </tr>\n",
       "    <tr>\n",
       "      <th>6473</th>\n",
       "      <td>21137</td>\n",
       "      <td>organic strawberries</td>\n",
       "      <td>909</td>\n",
       "    </tr>\n",
       "    <tr>\n",
       "      <th>14561</th>\n",
       "      <td>47209</td>\n",
       "      <td>organic hass avocado</td>\n",
       "      <td>786</td>\n",
       "    </tr>\n",
       "    <tr>\n",
       "      <th>6713</th>\n",
       "      <td>21903</td>\n",
       "      <td>organic baby spinach</td>\n",
       "      <td>766</td>\n",
       "    </tr>\n",
       "    <tr>\n",
       "      <th>14719</th>\n",
       "      <td>47766</td>\n",
       "      <td>organic avocado</td>\n",
       "      <td>714</td>\n",
       "    </tr>\n",
       "    <tr>\n",
       "      <th>6042</th>\n",
       "      <td>19660</td>\n",
       "      <td>spring water</td>\n",
       "      <td>555</td>\n",
       "    </tr>\n",
       "    <tr>\n",
       "      <th>5142</th>\n",
       "      <td>16797</td>\n",
       "      <td>strawberries</td>\n",
       "      <td>542</td>\n",
       "    </tr>\n",
       "    <tr>\n",
       "      <th>8580</th>\n",
       "      <td>27966</td>\n",
       "      <td>organic raspberries</td>\n",
       "      <td>468</td>\n",
       "    </tr>\n",
       "    <tr>\n",
       "      <th>13740</th>\n",
       "      <td>44632</td>\n",
       "      <td>sparkling water grapefruit</td>\n",
       "      <td>457</td>\n",
       "    </tr>\n",
       "    <tr>\n",
       "      <th>14672</th>\n",
       "      <td>47626</td>\n",
       "      <td>large lemon</td>\n",
       "      <td>420</td>\n",
       "    </tr>\n",
       "    <tr>\n",
       "      <th>65</th>\n",
       "      <td>196</td>\n",
       "      <td>soda</td>\n",
       "      <td>408</td>\n",
       "    </tr>\n",
       "    <tr>\n",
       "      <th>15169</th>\n",
       "      <td>49235</td>\n",
       "      <td>organic half &amp; half</td>\n",
       "      <td>393</td>\n",
       "    </tr>\n",
       "    <tr>\n",
       "      <th>3810</th>\n",
       "      <td>12341</td>\n",
       "      <td>hass avocados</td>\n",
       "      <td>326</td>\n",
       "    </tr>\n",
       "    <tr>\n",
       "      <th>11945</th>\n",
       "      <td>38689</td>\n",
       "      <td>organic reduced fat milk</td>\n",
       "      <td>313</td>\n",
       "    </tr>\n",
       "    <tr>\n",
       "      <th>8302</th>\n",
       "      <td>27086</td>\n",
       "      <td>half &amp; half</td>\n",
       "      <td>302</td>\n",
       "    </tr>\n",
       "    <tr>\n",
       "      <th>11086</th>\n",
       "      <td>35951</td>\n",
       "      <td>organic unsweetened almond milk</td>\n",
       "      <td>296</td>\n",
       "    </tr>\n",
       "    <tr>\n",
       "      <th>13338</th>\n",
       "      <td>43352</td>\n",
       "      <td>raspberries</td>\n",
       "      <td>295</td>\n",
       "    </tr>\n",
       "    <tr>\n",
       "      <th>1787</th>\n",
       "      <td>5785</td>\n",
       "      <td>organic reduced fat 2% milk</td>\n",
       "      <td>293</td>\n",
       "    </tr>\n",
       "  </tbody>\n",
       "</table>\n",
       "</div>"
      ],
      "text/plain": [
       "       product_id                     product_name  first_item_count\n",
       "7609        24852                           banana              3538\n",
       "4065        13176           bag of organic bananas              2541\n",
       "8533        27845               organic whole milk              1046\n",
       "6473        21137             organic strawberries               909\n",
       "14561       47209             organic hass avocado               786\n",
       "6713        21903             organic baby spinach               766\n",
       "14719       47766                  organic avocado               714\n",
       "6042        19660                     spring water               555\n",
       "5142        16797                     strawberries               542\n",
       "8580        27966              organic raspberries               468\n",
       "13740       44632       sparkling water grapefruit               457\n",
       "14672       47626                      large lemon               420\n",
       "65            196                             soda               408\n",
       "15169       49235              organic half & half               393\n",
       "3810        12341                    hass avocados               326\n",
       "11945       38689         organic reduced fat milk               313\n",
       "8302        27086                      half & half               302\n",
       "11086       35951  organic unsweetened almond milk               296\n",
       "13338       43352                      raspberries               295\n",
       "1787         5785      organic reduced fat 2% milk               293"
      ]
     },
     "execution_count": 63,
     "metadata": {},
     "output_type": "execute_result"
    }
   ],
   "source": [
    "# Display the top 20 first items\n",
    "top_20_first_items[['product_id', 'product_name', 'first_item_count']]"
   ]
  },
  {
   "cell_type": "code",
   "execution_count": 64,
   "id": "f4a2af09",
   "metadata": {
    "trusted": false
   },
   "outputs": [
    {
     "data": {
      "image/png": "[encoded data removed]",
      "text/plain": [
       "<Figure size 1200x600 with 1 Axes>"
      ]
     },
     "metadata": {},
     "output_type": "display_data"
    }
   ],
   "source": [
    "# Create a bar plot\n",
    "plt.figure(figsize=(12, 6))\n",
    "sns.barplot(x='first_item_count', y='product_name', data=top_20_first_items)\n",
    "plt.xlabel('Number of Times Added First')\n",
    "plt.ylabel('Product Name')\n",
    "plt.title('Top 20 Products Added First to Cart')\n",
    "plt.xticks(rotation=45) \n",
    "plt.show()"
   ]
  },
  {
   "cell_type": "markdown",
   "id": "e638ca61",
   "metadata": {},
   "source": [
    "**Conclusion: Key Insights from Instacart Order Patterns**\n",
    "\n",
    "This Exploratory Data Analysis reveals significant patterns in Instacart customer behavior and order characteristics.\n",
    "\n",
    "**Temporal Ordering Trends:**\n",
    "* Daily order volume consistently **surges in the morning**, peaking around **10 AM (approx. 40,000 orders)**, and maintains high activity until **4 PM**, before gradually declining into the evening.\n",
    "* **Mondays and Tuesdays are the busiest shopping days**, consistently exceeding 80,000 orders, suggesting a strong start-of-week stocking trend. Other weekdays and weekends show moderate activity around 60,000 orders.\n",
    "* Both **Wednesdays and Saturdays exhibit remarkably similar ordering patterns**, with a strong morning rush and a decline after 6 PM, implying consistent daily routines regardless of weekday/weekend status.\n",
    "\n",
    "**Customer Reordering & Engagement:**\n",
    "* Customers strongly favor **monthly stock-up (around 30 days) as the most frequent reordering interval**, leading to the highest order volume (over 50,000).\n",
    "* **Weekly shoppers (around 7 days) form another substantial group**, preferring more frequent, smaller trips.\n",
    "* A significant portion of customers (over 50,000) are **new or less frequent users, placing 1 to 2 orders**. However, a highly engaged segment of customers (3,000 to 1,000 users) demonstrates high loyalty by placing **20 or more orders**.\n",
    "\n",
    "**Order Size:**\n",
    "* The **median order size is 8 items**.\n",
    "* **Small orders (1-2 items) are the most frequent**, highlighting quick fill-up or single-item purchases.\n",
    "* Medium (5-7 items) and moderately large (8-10 items) orders also contribute significantly, while very large orders (16+ items) are considerably less common.\n",
    "\n",
    "**Overall Implications:**\n",
    "Instacart's operations could benefit from understanding these clear peak times (mornings, early week), distinct reordering behaviors (monthly stock-up vs. weekly essentials), and varied customer engagement levels to optimize staffing, inventory, and targeted marketing campaigns."
   ]
  }
 ],
 "metadata": {
  "ExecuteTimeLog": [
   {
    "duration": 158,
    "start_time": "2025-01-18T00:28:11.025Z"
   },
   {
    "duration": 1302,
    "start_time": "2025-01-18T00:29:30.137Z"
   },
   {
    "duration": 1139,
    "start_time": "2025-01-18T00:29:52.336Z"
   },
   {
    "duration": 856,
    "start_time": "2025-01-18T00:29:59.308Z"
   },
   {
    "duration": 832,
    "start_time": "2025-01-18T00:31:34.138Z"
   },
   {
    "duration": 808,
    "start_time": "2025-01-18T00:32:09.893Z"
   },
   {
    "duration": 1166,
    "start_time": "2025-01-18T00:35:55.204Z"
   },
   {
    "duration": 56,
    "start_time": "2025-01-18T00:39:59.155Z"
   },
   {
    "duration": 1143,
    "start_time": "2025-01-18T00:43:47.663Z"
   },
   {
    "duration": 46,
    "start_time": "2025-01-18T00:43:54.412Z"
   },
   {
    "duration": 12,
    "start_time": "2025-01-18T00:53:19.267Z"
   },
   {
    "duration": 8,
    "start_time": "2025-01-18T00:54:47.376Z"
   },
   {
    "duration": 1141,
    "start_time": "2025-01-18T00:56:24.423Z"
   },
   {
    "duration": 45,
    "start_time": "2025-01-18T00:56:28.079Z"
   },
   {
    "duration": 11,
    "start_time": "2025-01-18T00:56:36.018Z"
   },
   {
    "duration": 6,
    "start_time": "2025-01-18T00:56:45.897Z"
   },
   {
    "duration": 6,
    "start_time": "2025-01-18T00:56:52.054Z"
   },
   {
    "duration": 6,
    "start_time": "2025-01-18T00:56:57.032Z"
   },
   {
    "duration": 7,
    "start_time": "2025-01-18T00:57:01.186Z"
   },
   {
    "duration": 166,
    "start_time": "2025-01-18T17:12:17.168Z"
   },
   {
    "duration": 1485,
    "start_time": "2025-01-18T17:13:16.681Z"
   },
   {
    "duration": 50,
    "start_time": "2025-01-18T17:13:21.341Z"
   },
   {
    "duration": 14,
    "start_time": "2025-01-18T17:13:27.936Z"
   },
   {
    "duration": 7,
    "start_time": "2025-01-18T17:13:35.467Z"
   },
   {
    "duration": 6,
    "start_time": "2025-01-18T17:13:39.768Z"
   },
   {
    "duration": 7,
    "start_time": "2025-01-18T17:13:44.384Z"
   },
   {
    "duration": 8,
    "start_time": "2025-01-18T17:13:47.575Z"
   },
   {
    "duration": 901,
    "start_time": "2025-01-18T17:13:51.685Z"
   },
   {
    "duration": 1204,
    "start_time": "2025-01-18T17:14:46.538Z"
   },
   {
    "duration": 62,
    "start_time": "2025-01-18T17:14:49.832Z"
   },
   {
    "duration": 12,
    "start_time": "2025-01-18T17:14:53.930Z"
   },
   {
    "duration": 7,
    "start_time": "2025-01-18T17:14:59.604Z"
   },
   {
    "duration": 8,
    "start_time": "2025-01-18T17:15:02.730Z"
   },
   {
    "duration": 6,
    "start_time": "2025-01-18T17:15:05.775Z"
   },
   {
    "duration": 8,
    "start_time": "2025-01-18T17:15:08.911Z"
   },
   {
    "duration": 904,
    "start_time": "2025-01-18T17:15:13.213Z"
   },
   {
    "duration": 16,
    "start_time": "2025-01-18T17:43:59.837Z"
   },
   {
    "duration": 1394,
    "start_time": "2025-01-18T18:33:25.330Z"
   },
   {
    "duration": 46,
    "start_time": "2025-01-18T18:33:30.244Z"
   },
   {
    "duration": 11,
    "start_time": "2025-01-18T18:33:44.002Z"
   },
   {
    "duration": 7,
    "start_time": "2025-01-18T18:33:51.058Z"
   },
   {
    "duration": 6,
    "start_time": "2025-01-18T18:33:54.448Z"
   },
   {
    "duration": 8,
    "start_time": "2025-01-18T18:33:59.980Z"
   },
   {
    "duration": 8,
    "start_time": "2025-01-18T18:34:03.208Z"
   },
   {
    "duration": 816,
    "start_time": "2025-01-18T18:35:24.922Z"
   },
   {
    "duration": 32,
    "start_time": "2025-01-18T18:35:37.061Z"
   },
   {
    "duration": 961,
    "start_time": "2025-01-18T18:43:31.977Z"
   },
   {
    "duration": 869,
    "start_time": "2025-01-18T18:44:49.577Z"
   },
   {
    "duration": 106,
    "start_time": "2025-01-18T18:49:24.064Z"
   },
   {
    "duration": 1164,
    "start_time": "2025-01-18T18:50:49.266Z"
   },
   {
    "duration": 45,
    "start_time": "2025-01-18T18:50:52.787Z"
   },
   {
    "duration": 11,
    "start_time": "2025-01-18T18:50:57.676Z"
   },
   {
    "duration": 6,
    "start_time": "2025-01-18T18:51:00.602Z"
   },
   {
    "duration": 6,
    "start_time": "2025-01-18T18:51:03.611Z"
   },
   {
    "duration": 6,
    "start_time": "2025-01-18T18:51:06.232Z"
   },
   {
    "duration": 6,
    "start_time": "2025-01-18T18:51:09.581Z"
   },
   {
    "duration": 791,
    "start_time": "2025-01-18T18:51:18.322Z"
   },
   {
    "duration": 17,
    "start_time": "2025-01-18T18:51:29.538Z"
   },
   {
    "duration": 854,
    "start_time": "2025-01-18T18:51:53.079Z"
   },
   {
    "duration": 786,
    "start_time": "2025-01-18T18:52:08.153Z"
   },
   {
    "duration": 82,
    "start_time": "2025-01-18T18:52:37.267Z"
   },
   {
    "duration": 162,
    "start_time": "2025-01-18T18:53:27.539Z"
   },
   {
    "duration": 1173,
    "start_time": "2025-01-18T18:55:50.004Z"
   },
   {
    "duration": 53,
    "start_time": "2025-01-18T18:55:53.100Z"
   },
   {
    "duration": 11,
    "start_time": "2025-01-18T18:55:58.185Z"
   },
   {
    "duration": 7,
    "start_time": "2025-01-18T18:56:02.091Z"
   },
   {
    "duration": 6,
    "start_time": "2025-01-18T18:56:05.515Z"
   },
   {
    "duration": 6,
    "start_time": "2025-01-18T18:56:08.564Z"
   },
   {
    "duration": 7,
    "start_time": "2025-01-18T18:56:12.205Z"
   },
   {
    "duration": 791,
    "start_time": "2025-01-18T18:56:31.331Z"
   },
   {
    "duration": 13,
    "start_time": "2025-01-18T18:56:52.360Z"
   },
   {
    "duration": 861,
    "start_time": "2025-01-18T18:57:14.175Z"
   },
   {
    "duration": 797,
    "start_time": "2025-01-18T18:57:19.993Z"
   },
   {
    "duration": 277,
    "start_time": "2025-01-18T18:57:37.877Z"
   },
   {
    "duration": 1179,
    "start_time": "2025-01-18T19:03:52.099Z"
   },
   {
    "duration": 46,
    "start_time": "2025-01-18T19:03:55.633Z"
   },
   {
    "duration": 12,
    "start_time": "2025-01-18T19:04:01.502Z"
   },
   {
    "duration": 8,
    "start_time": "2025-01-18T19:04:04.699Z"
   },
   {
    "duration": 6,
    "start_time": "2025-01-18T19:04:08.511Z"
   },
   {
    "duration": 6,
    "start_time": "2025-01-18T19:04:11.528Z"
   },
   {
    "duration": 6,
    "start_time": "2025-01-18T19:04:15.016Z"
   },
   {
    "duration": 780,
    "start_time": "2025-01-18T19:04:31.737Z"
   },
   {
    "duration": 11,
    "start_time": "2025-01-18T19:04:38.467Z"
   },
   {
    "duration": 853,
    "start_time": "2025-01-18T19:04:58.589Z"
   },
   {
    "duration": 788,
    "start_time": "2025-01-18T19:05:05.863Z"
   },
   {
    "duration": 265,
    "start_time": "2025-01-18T19:09:11.673Z"
   },
   {
    "duration": 13,
    "start_time": "2025-01-18T19:12:15.100Z"
   },
   {
    "duration": 1188,
    "start_time": "2025-01-18T19:15:59.706Z"
   },
   {
    "duration": 47,
    "start_time": "2025-01-18T19:16:02.721Z"
   },
   {
    "duration": 11,
    "start_time": "2025-01-18T19:16:07.373Z"
   },
   {
    "duration": 7,
    "start_time": "2025-01-18T19:16:10.889Z"
   },
   {
    "duration": 6,
    "start_time": "2025-01-18T19:16:13.710Z"
   },
   {
    "duration": 6,
    "start_time": "2025-01-18T19:16:16.846Z"
   },
   {
    "duration": 6,
    "start_time": "2025-01-18T19:16:19.980Z"
   },
   {
    "duration": 836,
    "start_time": "2025-01-18T19:17:09.565Z"
   },
   {
    "duration": 18,
    "start_time": "2025-01-18T19:17:15.386Z"
   },
   {
    "duration": 857,
    "start_time": "2025-01-18T19:17:28.291Z"
   },
   {
    "duration": 778,
    "start_time": "2025-01-18T19:17:39.584Z"
   },
   {
    "duration": 109,
    "start_time": "2025-01-18T19:18:41.038Z"
   },
   {
    "duration": 7,
    "start_time": "2025-01-18T19:18:55.698Z"
   },
   {
    "duration": 1188,
    "start_time": "2025-01-18T19:22:54.187Z"
   },
   {
    "duration": 48,
    "start_time": "2025-01-18T19:22:57.859Z"
   },
   {
    "duration": 11,
    "start_time": "2025-01-18T19:23:02.136Z"
   },
   {
    "duration": 7,
    "start_time": "2025-01-18T19:23:05.305Z"
   },
   {
    "duration": 6,
    "start_time": "2025-01-18T19:23:07.978Z"
   },
   {
    "duration": 6,
    "start_time": "2025-01-18T19:23:10.971Z"
   },
   {
    "duration": 9,
    "start_time": "2025-01-18T19:23:13.674Z"
   },
   {
    "duration": 750,
    "start_time": "2025-01-18T19:23:21.923Z"
   },
   {
    "duration": 24,
    "start_time": "2025-01-18T19:23:25.941Z"
   },
   {
    "duration": 856,
    "start_time": "2025-01-18T19:23:37.718Z"
   },
   {
    "duration": 743,
    "start_time": "2025-01-18T19:23:45.518Z"
   },
   {
    "duration": 78,
    "start_time": "2025-01-18T19:23:55.293Z"
   },
   {
    "duration": 5,
    "start_time": "2025-01-18T19:24:07.753Z"
   },
   {
    "duration": 1198,
    "start_time": "2025-01-18T19:24:57.396Z"
   },
   {
    "duration": 47,
    "start_time": "2025-01-18T19:25:00.947Z"
   },
   {
    "duration": 10,
    "start_time": "2025-01-18T19:25:04.677Z"
   },
   {
    "duration": 7,
    "start_time": "2025-01-18T19:25:08.153Z"
   },
   {
    "duration": 5,
    "start_time": "2025-01-18T19:25:10.809Z"
   },
   {
    "duration": 5,
    "start_time": "2025-01-18T19:25:13.489Z"
   },
   {
    "duration": 7,
    "start_time": "2025-01-18T19:25:16.105Z"
   },
   {
    "duration": 762,
    "start_time": "2025-01-18T19:25:19.511Z"
   },
   {
    "duration": 19,
    "start_time": "2025-01-18T19:25:23.075Z"
   },
   {
    "duration": 854,
    "start_time": "2025-01-18T19:25:27.783Z"
   },
   {
    "duration": 728,
    "start_time": "2025-01-18T19:25:31.907Z"
   },
   {
    "duration": 86,
    "start_time": "2025-01-18T19:25:38.225Z"
   },
   {
    "duration": 12,
    "start_time": "2025-01-18T19:25:49.038Z"
   },
   {
    "duration": 6,
    "start_time": "2025-01-18T19:26:11.677Z"
   },
   {
    "duration": 19,
    "start_time": "2025-01-18T19:34:17.255Z"
   },
   {
    "duration": 7,
    "start_time": "2025-01-18T19:39:41.697Z"
   },
   {
    "duration": 1353,
    "start_time": "2025-01-18T21:26:32.399Z"
   },
   {
    "duration": 47,
    "start_time": "2025-01-18T21:26:36.873Z"
   },
   {
    "duration": 10,
    "start_time": "2025-01-18T21:26:43.046Z"
   },
   {
    "duration": 6,
    "start_time": "2025-01-18T21:26:47.040Z"
   },
   {
    "duration": 6,
    "start_time": "2025-01-18T21:26:50.665Z"
   },
   {
    "duration": 5,
    "start_time": "2025-01-18T21:26:54.326Z"
   },
   {
    "duration": 6,
    "start_time": "2025-01-18T21:26:58.039Z"
   },
   {
    "duration": 780,
    "start_time": "2025-01-18T21:27:03.488Z"
   },
   {
    "duration": 13,
    "start_time": "2025-01-18T21:27:07.700Z"
   },
   {
    "duration": 848,
    "start_time": "2025-01-18T21:27:14.557Z"
   },
   {
    "duration": 770,
    "start_time": "2025-01-18T21:27:21.717Z"
   },
   {
    "duration": 80,
    "start_time": "2025-01-18T21:27:27.206Z"
   },
   {
    "duration": 14,
    "start_time": "2025-01-18T21:27:44.457Z"
   },
   {
    "duration": 5,
    "start_time": "2025-01-18T21:27:51.737Z"
   },
   {
    "duration": 19,
    "start_time": "2025-01-18T21:28:12.445Z"
   },
   {
    "duration": 176,
    "start_time": "2025-01-18T21:40:19.798Z"
   },
   {
    "duration": 13,
    "start_time": "2025-01-18T21:40:33.767Z"
   },
   {
    "duration": 1180,
    "start_time": "2025-01-18T21:41:12.940Z"
   },
   {
    "duration": 52,
    "start_time": "2025-01-18T21:41:14.122Z"
   },
   {
    "duration": 11,
    "start_time": "2025-01-18T21:41:14.176Z"
   },
   {
    "duration": 7,
    "start_time": "2025-01-18T21:41:14.204Z"
   },
   {
    "duration": 4,
    "start_time": "2025-01-18T21:41:14.213Z"
   },
   {
    "duration": 6,
    "start_time": "2025-01-18T21:41:14.219Z"
   },
   {
    "duration": 6,
    "start_time": "2025-01-18T21:41:14.227Z"
   },
   {
    "duration": 803,
    "start_time": "2025-01-18T21:41:14.235Z"
   },
   {
    "duration": 13,
    "start_time": "2025-01-18T21:41:15.040Z"
   },
   {
    "duration": 905,
    "start_time": "2025-01-18T21:41:15.056Z"
   },
   {
    "duration": 758,
    "start_time": "2025-01-18T21:41:15.963Z"
   },
   {
    "duration": 89,
    "start_time": "2025-01-18T21:41:16.723Z"
   },
   {
    "duration": 16,
    "start_time": "2025-01-18T21:41:16.814Z"
   },
   {
    "duration": 5,
    "start_time": "2025-01-18T21:41:16.831Z"
   },
   {
    "duration": 19,
    "start_time": "2025-01-18T21:41:16.838Z"
   },
   {
    "duration": 10,
    "start_time": "2025-01-18T21:41:16.859Z"
   },
   {
    "duration": 2,
    "start_time": "2025-01-18T21:41:16.872Z"
   },
   {
    "duration": 30,
    "start_time": "2025-01-18T21:41:16.876Z"
   },
   {
    "duration": 2,
    "start_time": "2025-01-18T21:41:16.908Z"
   },
   {
    "duration": 2,
    "start_time": "2025-01-18T21:41:16.912Z"
   },
   {
    "duration": 2,
    "start_time": "2025-01-18T21:41:16.916Z"
   },
   {
    "duration": 2,
    "start_time": "2025-01-18T21:41:16.920Z"
   },
   {
    "duration": 2,
    "start_time": "2025-01-18T21:41:16.924Z"
   },
   {
    "duration": 2,
    "start_time": "2025-01-18T21:41:16.928Z"
   },
   {
    "duration": 3,
    "start_time": "2025-01-18T21:41:16.932Z"
   },
   {
    "duration": 3,
    "start_time": "2025-01-18T21:41:16.936Z"
   },
   {
    "duration": 2,
    "start_time": "2025-01-18T21:41:16.941Z"
   },
   {
    "duration": 5,
    "start_time": "2025-01-18T21:44:36.043Z"
   },
   {
    "duration": 4,
    "start_time": "2025-01-18T21:49:44.304Z"
   },
   {
    "duration": 1138,
    "start_time": "2025-01-18T21:52:07.271Z"
   },
   {
    "duration": 47,
    "start_time": "2025-01-18T21:52:11.546Z"
   },
   {
    "duration": 11,
    "start_time": "2025-01-18T21:52:16.751Z"
   },
   {
    "duration": 7,
    "start_time": "2025-01-18T21:52:19.901Z"
   },
   {
    "duration": 6,
    "start_time": "2025-01-18T21:52:22.822Z"
   },
   {
    "duration": 6,
    "start_time": "2025-01-18T21:52:25.769Z"
   },
   {
    "duration": 7,
    "start_time": "2025-01-18T21:52:28.905Z"
   },
   {
    "duration": 774,
    "start_time": "2025-01-18T21:52:33.284Z"
   },
   {
    "duration": 14,
    "start_time": "2025-01-18T21:52:39.251Z"
   },
   {
    "duration": 869,
    "start_time": "2025-01-18T21:52:43.969Z"
   },
   {
    "duration": 741,
    "start_time": "2025-01-18T21:52:47.407Z"
   },
   {
    "duration": 83,
    "start_time": "2025-01-18T21:53:28.489Z"
   },
   {
    "duration": 14,
    "start_time": "2025-01-18T21:54:12.347Z"
   },
   {
    "duration": 6,
    "start_time": "2025-01-18T21:54:23.791Z"
   },
   {
    "duration": 21,
    "start_time": "2025-01-18T21:54:35.725Z"
   },
   {
    "duration": 11,
    "start_time": "2025-01-18T21:54:58.234Z"
   },
   {
    "duration": 5,
    "start_time": "2025-01-18T21:56:07.063Z"
   },
   {
    "duration": 4,
    "start_time": "2025-01-18T21:56:13.249Z"
   },
   {
    "duration": 6,
    "start_time": "2025-01-18T21:57:17.061Z"
   },
   {
    "duration": 5,
    "start_time": "2025-01-18T22:02:46.988Z"
   },
   {
    "duration": 1706,
    "start_time": "2025-01-18T22:35:37.705Z"
   },
   {
    "duration": 1621,
    "start_time": "2025-01-18T22:36:56.443Z"
   },
   {
    "duration": 6,
    "start_time": "2025-01-18T22:39:44.338Z"
   },
   {
    "duration": 160,
    "start_time": "2025-01-18T22:48:23.155Z"
   },
   {
    "duration": 1148,
    "start_time": "2025-01-18T22:49:29.987Z"
   },
   {
    "duration": 46,
    "start_time": "2025-01-18T22:49:31.137Z"
   },
   {
    "duration": 23,
    "start_time": "2025-01-18T22:49:31.185Z"
   },
   {
    "duration": 5,
    "start_time": "2025-01-18T22:49:31.211Z"
   },
   {
    "duration": 6,
    "start_time": "2025-01-18T22:49:31.218Z"
   },
   {
    "duration": 5,
    "start_time": "2025-01-18T22:49:31.226Z"
   },
   {
    "duration": 6,
    "start_time": "2025-01-18T22:49:31.233Z"
   },
   {
    "duration": 825,
    "start_time": "2025-01-18T22:49:31.241Z"
   },
   {
    "duration": 13,
    "start_time": "2025-01-18T22:49:32.068Z"
   },
   {
    "duration": 899,
    "start_time": "2025-01-18T22:49:32.083Z"
   },
   {
    "duration": 779,
    "start_time": "2025-01-18T22:49:32.983Z"
   },
   {
    "duration": 85,
    "start_time": "2025-01-18T22:49:33.764Z"
   },
   {
    "duration": 12,
    "start_time": "2025-01-18T22:49:33.851Z"
   },
   {
    "duration": 6,
    "start_time": "2025-01-18T22:49:33.865Z"
   },
   {
    "duration": 42,
    "start_time": "2025-01-18T22:49:33.872Z"
   },
   {
    "duration": 15,
    "start_time": "2025-01-18T22:49:33.916Z"
   },
   {
    "duration": 6,
    "start_time": "2025-01-18T22:49:33.934Z"
   },
   {
    "duration": 3,
    "start_time": "2025-01-18T22:49:33.942Z"
   },
   {
    "duration": 5,
    "start_time": "2025-01-18T22:49:33.947Z"
   },
   {
    "duration": 4,
    "start_time": "2025-01-18T22:49:33.953Z"
   },
   {
    "duration": 1867,
    "start_time": "2025-01-18T22:49:33.960Z"
   },
   {
    "duration": 1672,
    "start_time": "2025-01-18T22:49:35.829Z"
   },
   {
    "duration": 6,
    "start_time": "2025-01-18T22:49:37.505Z"
   },
   {
    "duration": 3,
    "start_time": "2025-01-18T22:49:37.513Z"
   },
   {
    "duration": 2,
    "start_time": "2025-01-18T22:49:37.518Z"
   },
   {
    "duration": 5,
    "start_time": "2025-01-18T22:49:37.522Z"
   },
   {
    "duration": 3,
    "start_time": "2025-01-18T22:49:37.529Z"
   },
   {
    "duration": 3,
    "start_time": "2025-01-18T22:49:37.536Z"
   },
   {
    "duration": 3,
    "start_time": "2025-01-18T22:49:37.541Z"
   },
   {
    "duration": 4,
    "start_time": "2025-01-18T22:49:37.550Z"
   },
   {
    "duration": 2,
    "start_time": "2025-01-18T22:49:37.558Z"
   },
   {
    "duration": 2,
    "start_time": "2025-01-18T22:49:37.564Z"
   },
   {
    "duration": 1298,
    "start_time": "2025-01-18T22:50:04.628Z"
   },
   {
    "duration": 45,
    "start_time": "2025-01-18T22:50:07.889Z"
   },
   {
    "duration": 11,
    "start_time": "2025-01-18T22:50:11.857Z"
   },
   {
    "duration": 8,
    "start_time": "2025-01-18T22:50:14.934Z"
   },
   {
    "duration": 6,
    "start_time": "2025-01-18T22:50:17.947Z"
   },
   {
    "duration": 6,
    "start_time": "2025-01-18T22:50:21.135Z"
   },
   {
    "duration": 6,
    "start_time": "2025-01-18T22:50:24.395Z"
   },
   {
    "duration": 777,
    "start_time": "2025-01-18T22:50:29.817Z"
   },
   {
    "duration": 12,
    "start_time": "2025-01-18T22:50:35.750Z"
   },
   {
    "duration": 846,
    "start_time": "2025-01-18T22:50:40.717Z"
   },
   {
    "duration": 734,
    "start_time": "2025-01-18T22:50:50.872Z"
   },
   {
    "duration": 77,
    "start_time": "2025-01-18T22:50:56.840Z"
   },
   {
    "duration": 13,
    "start_time": "2025-01-18T22:51:04.220Z"
   },
   {
    "duration": 5,
    "start_time": "2025-01-18T22:51:11.020Z"
   },
   {
    "duration": 19,
    "start_time": "2025-01-18T22:51:17.481Z"
   },
   {
    "duration": 14,
    "start_time": "2025-01-18T22:51:27.129Z"
   },
   {
    "duration": 4,
    "start_time": "2025-01-18T22:51:49.186Z"
   },
   {
    "duration": 4,
    "start_time": "2025-01-18T22:51:57.342Z"
   },
   {
    "duration": 5,
    "start_time": "2025-01-18T22:52:04.090Z"
   },
   {
    "duration": 4,
    "start_time": "2025-01-18T22:52:09.350Z"
   },
   {
    "duration": 1751,
    "start_time": "2025-01-18T22:52:22.655Z"
   },
   {
    "duration": 1645,
    "start_time": "2025-01-18T22:52:30.461Z"
   },
   {
    "duration": 14,
    "start_time": "2025-01-18T22:53:41.939Z"
   },
   {
    "duration": 2,
    "start_time": "2025-01-18T22:54:20.862Z"
   },
   {
    "duration": 2,
    "start_time": "2025-01-18T22:54:40.310Z"
   },
   {
    "duration": 2,
    "start_time": "2025-01-18T22:56:33.060Z"
   },
   {
    "duration": 10,
    "start_time": "2025-01-18T23:03:54.914Z"
   },
   {
    "duration": 10,
    "start_time": "2025-01-18T23:06:40.057Z"
   },
   {
    "duration": 1177,
    "start_time": "2025-01-18T23:07:05.102Z"
   },
   {
    "duration": 46,
    "start_time": "2025-01-18T23:07:08.161Z"
   },
   {
    "duration": 11,
    "start_time": "2025-01-18T23:07:12.357Z"
   },
   {
    "duration": 7,
    "start_time": "2025-01-18T23:07:14.879Z"
   },
   {
    "duration": 6,
    "start_time": "2025-01-18T23:07:17.510Z"
   },
   {
    "duration": 6,
    "start_time": "2025-01-18T23:07:20.754Z"
   },
   {
    "duration": 6,
    "start_time": "2025-01-18T23:07:24.062Z"
   },
   {
    "duration": 778,
    "start_time": "2025-01-18T23:07:27.112Z"
   },
   {
    "duration": 14,
    "start_time": "2025-01-18T23:07:30.688Z"
   },
   {
    "duration": 889,
    "start_time": "2025-01-18T23:07:33.971Z"
   },
   {
    "duration": 731,
    "start_time": "2025-01-18T23:07:36.850Z"
   },
   {
    "duration": 115,
    "start_time": "2025-01-18T23:07:40.366Z"
   },
   {
    "duration": 15,
    "start_time": "2025-01-18T23:07:43.773Z"
   },
   {
    "duration": 5,
    "start_time": "2025-01-18T23:07:46.284Z"
   },
   {
    "duration": 19,
    "start_time": "2025-01-18T23:07:49.532Z"
   },
   {
    "duration": 14,
    "start_time": "2025-01-18T23:07:52.609Z"
   },
   {
    "duration": 5,
    "start_time": "2025-01-18T23:07:58.005Z"
   },
   {
    "duration": 4,
    "start_time": "2025-01-18T23:08:01.569Z"
   },
   {
    "duration": 5,
    "start_time": "2025-01-18T23:08:09.392Z"
   },
   {
    "duration": 4,
    "start_time": "2025-01-18T23:08:23.180Z"
   },
   {
    "duration": 1858,
    "start_time": "2025-01-18T23:08:31.118Z"
   },
   {
    "duration": 1618,
    "start_time": "2025-01-18T23:08:40.432Z"
   },
   {
    "duration": 12,
    "start_time": "2025-01-18T23:08:47.583Z"
   },
   {
    "duration": 9,
    "start_time": "2025-01-18T23:10:33.146Z"
   },
   {
    "duration": 1247,
    "start_time": "2025-01-18T23:13:25.623Z"
   },
   {
    "duration": 58,
    "start_time": "2025-01-18T23:13:28.831Z"
   },
   {
    "duration": 11,
    "start_time": "2025-01-18T23:13:33.872Z"
   },
   {
    "duration": 7,
    "start_time": "2025-01-18T23:13:37.320Z"
   },
   {
    "duration": 6,
    "start_time": "2025-01-18T23:13:40.074Z"
   },
   {
    "duration": 6,
    "start_time": "2025-01-18T23:13:43.194Z"
   },
   {
    "duration": 6,
    "start_time": "2025-01-18T23:13:45.563Z"
   },
   {
    "duration": 775,
    "start_time": "2025-01-18T23:13:49.025Z"
   },
   {
    "duration": 12,
    "start_time": "2025-01-18T23:13:53.031Z"
   },
   {
    "duration": 848,
    "start_time": "2025-01-18T23:13:56.381Z"
   },
   {
    "duration": 784,
    "start_time": "2025-01-18T23:14:01.883Z"
   },
   {
    "duration": 83,
    "start_time": "2025-01-18T23:14:07.327Z"
   },
   {
    "duration": 15,
    "start_time": "2025-01-18T23:14:12.586Z"
   },
   {
    "duration": 6,
    "start_time": "2025-01-18T23:14:16.869Z"
   },
   {
    "duration": 20,
    "start_time": "2025-01-18T23:14:25.977Z"
   },
   {
    "duration": 7,
    "start_time": "2025-01-18T23:15:24.848Z"
   },
   {
    "duration": 1202,
    "start_time": "2025-01-18T23:16:21.576Z"
   },
   {
    "duration": 66,
    "start_time": "2025-01-18T23:16:24.507Z"
   },
   {
    "duration": 13,
    "start_time": "2025-01-18T23:16:28.272Z"
   },
   {
    "duration": 7,
    "start_time": "2025-01-18T23:16:31.210Z"
   },
   {
    "duration": 8,
    "start_time": "2025-01-18T23:16:34.266Z"
   },
   {
    "duration": 7,
    "start_time": "2025-01-18T23:16:37.034Z"
   },
   {
    "duration": 9,
    "start_time": "2025-01-18T23:16:39.757Z"
   },
   {
    "duration": 907,
    "start_time": "2025-01-18T23:16:43.823Z"
   },
   {
    "duration": 12,
    "start_time": "2025-01-18T23:16:47.461Z"
   },
   {
    "duration": 944,
    "start_time": "2025-01-18T23:16:59.357Z"
   },
   {
    "duration": 820,
    "start_time": "2025-01-18T23:17:03.740Z"
   },
   {
    "duration": 146,
    "start_time": "2025-01-18T23:17:31.156Z"
   },
   {
    "duration": 17,
    "start_time": "2025-01-18T23:17:45.664Z"
   },
   {
    "duration": 5,
    "start_time": "2025-01-18T23:18:03.456Z"
   },
   {
    "duration": 107,
    "start_time": "2025-01-18T23:18:43.635Z"
   },
   {
    "duration": 19,
    "start_time": "2025-01-18T23:19:38.829Z"
   },
   {
    "duration": 18,
    "start_time": "2025-01-18T23:20:38.319Z"
   },
   {
    "duration": 25,
    "start_time": "2025-01-18T23:23:43.345Z"
   },
   {
    "duration": 1124,
    "start_time": "2025-01-18T23:25:15.493Z"
   },
   {
    "duration": 46,
    "start_time": "2025-01-18T23:25:18.377Z"
   },
   {
    "duration": 11,
    "start_time": "2025-01-18T23:25:22.497Z"
   },
   {
    "duration": 6,
    "start_time": "2025-01-18T23:25:25.864Z"
   },
   {
    "duration": 6,
    "start_time": "2025-01-18T23:25:28.174Z"
   },
   {
    "duration": 6,
    "start_time": "2025-01-18T23:25:31.451Z"
   },
   {
    "duration": 6,
    "start_time": "2025-01-18T23:25:34.265Z"
   },
   {
    "duration": 741,
    "start_time": "2025-01-18T23:25:37.879Z"
   },
   {
    "duration": 14,
    "start_time": "2025-01-18T23:25:51.980Z"
   },
   {
    "duration": 817,
    "start_time": "2025-01-18T23:26:04.474Z"
   },
   {
    "duration": 733,
    "start_time": "2025-01-18T23:26:07.665Z"
   },
   {
    "duration": 93,
    "start_time": "2025-01-18T23:26:13.386Z"
   },
   {
    "duration": 14,
    "start_time": "2025-01-18T23:26:22.002Z"
   },
   {
    "duration": 5,
    "start_time": "2025-01-18T23:26:27.511Z"
   },
   {
    "duration": 193,
    "start_time": "2025-01-18T23:29:16.681Z"
   },
   {
    "duration": 38,
    "start_time": "2025-01-18T23:29:52.415Z"
   },
   {
    "duration": 17,
    "start_time": "2025-01-18T23:30:29.485Z"
   },
   {
    "duration": 1164,
    "start_time": "2025-01-18T23:30:43.742Z"
   },
   {
    "duration": 45,
    "start_time": "2025-01-18T23:30:46.623Z"
   },
   {
    "duration": 11,
    "start_time": "2025-01-18T23:30:51.645Z"
   },
   {
    "duration": 6,
    "start_time": "2025-01-18T23:30:54.232Z"
   },
   {
    "duration": 5,
    "start_time": "2025-01-18T23:30:57.437Z"
   },
   {
    "duration": 6,
    "start_time": "2025-01-18T23:31:00.194Z"
   },
   {
    "duration": 8,
    "start_time": "2025-01-18T23:31:02.424Z"
   },
   {
    "duration": 732,
    "start_time": "2025-01-18T23:31:06.821Z"
   },
   {
    "duration": 11,
    "start_time": "2025-01-18T23:31:10.341Z"
   },
   {
    "duration": 878,
    "start_time": "2025-01-18T23:31:13.411Z"
   },
   {
    "duration": 722,
    "start_time": "2025-01-18T23:31:16.043Z"
   },
   {
    "duration": 89,
    "start_time": "2025-01-18T23:31:20.632Z"
   },
   {
    "duration": 14,
    "start_time": "2025-01-18T23:31:24.739Z"
   },
   {
    "duration": 5,
    "start_time": "2025-01-18T23:31:27.335Z"
   },
   {
    "duration": 20,
    "start_time": "2025-01-18T23:31:33.271Z"
   },
   {
    "duration": 12,
    "start_time": "2025-01-18T23:31:38.426Z"
   },
   {
    "duration": 4,
    "start_time": "2025-01-18T23:31:43.619Z"
   },
   {
    "duration": 4,
    "start_time": "2025-01-18T23:31:48.245Z"
   },
   {
    "duration": 6,
    "start_time": "2025-01-18T23:31:52.313Z"
   },
   {
    "duration": 4,
    "start_time": "2025-01-18T23:31:55.846Z"
   },
   {
    "duration": 1672,
    "start_time": "2025-01-18T23:32:02.907Z"
   },
   {
    "duration": 1591,
    "start_time": "2025-01-18T23:32:19.291Z"
   },
   {
    "duration": 11,
    "start_time": "2025-01-18T23:32:34.524Z"
   },
   {
    "duration": 9,
    "start_time": "2025-01-18T23:33:34.208Z"
   },
   {
    "duration": 1253,
    "start_time": "2025-01-19T20:05:55.473Z"
   },
   {
    "duration": 47,
    "start_time": "2025-01-19T20:06:02.070Z"
   },
   {
    "duration": 11,
    "start_time": "2025-01-19T20:06:07.647Z"
   },
   {
    "duration": 6,
    "start_time": "2025-01-19T20:06:11.458Z"
   },
   {
    "duration": 6,
    "start_time": "2025-01-19T20:06:14.947Z"
   },
   {
    "duration": 6,
    "start_time": "2025-01-19T20:06:18.487Z"
   },
   {
    "duration": 9,
    "start_time": "2025-01-19T20:06:23.084Z"
   },
   {
    "duration": 759,
    "start_time": "2025-01-19T20:06:55.584Z"
   },
   {
    "duration": 20,
    "start_time": "2025-01-19T20:12:57.825Z"
   },
   {
    "duration": 836,
    "start_time": "2025-01-19T20:13:05.919Z"
   },
   {
    "duration": 764,
    "start_time": "2025-01-19T20:13:17.324Z"
   },
   {
    "duration": 81,
    "start_time": "2025-01-19T20:13:34.491Z"
   },
   {
    "duration": 14,
    "start_time": "2025-01-19T20:13:41.716Z"
   },
   {
    "duration": 5,
    "start_time": "2025-01-19T20:13:47.125Z"
   },
   {
    "duration": 19,
    "start_time": "2025-01-19T20:15:03.575Z"
   },
   {
    "duration": 13,
    "start_time": "2025-01-19T20:15:30.685Z"
   },
   {
    "duration": 4,
    "start_time": "2025-01-19T20:15:56.537Z"
   },
   {
    "duration": 103,
    "start_time": "2025-01-19T20:16:44.363Z"
   },
   {
    "duration": 1135,
    "start_time": "2025-01-19T20:18:08.274Z"
   },
   {
    "duration": 46,
    "start_time": "2025-01-19T20:18:11.255Z"
   },
   {
    "duration": 10,
    "start_time": "2025-01-19T20:18:15.030Z"
   },
   {
    "duration": 6,
    "start_time": "2025-01-19T20:18:17.678Z"
   },
   {
    "duration": 8,
    "start_time": "2025-01-19T20:18:20.562Z"
   },
   {
    "duration": 6,
    "start_time": "2025-01-19T20:18:23.367Z"
   },
   {
    "duration": 8,
    "start_time": "2025-01-19T20:18:26.129Z"
   },
   {
    "duration": 769,
    "start_time": "2025-01-19T20:18:29.474Z"
   },
   {
    "duration": 13,
    "start_time": "2025-01-19T20:18:32.425Z"
   },
   {
    "duration": 826,
    "start_time": "2025-01-19T20:18:35.991Z"
   },
   {
    "duration": 777,
    "start_time": "2025-01-19T20:18:39.744Z"
   },
   {
    "duration": 76,
    "start_time": "2025-01-19T20:18:43.277Z"
   },
   {
    "duration": 15,
    "start_time": "2025-01-19T20:18:46.392Z"
   },
   {
    "duration": 6,
    "start_time": "2025-01-19T20:18:48.942Z"
   },
   {
    "duration": 19,
    "start_time": "2025-01-19T20:18:52.061Z"
   },
   {
    "duration": 12,
    "start_time": "2025-01-19T20:18:55.238Z"
   },
   {
    "duration": 6,
    "start_time": "2025-01-19T20:19:02.208Z"
   },
   {
    "duration": 5,
    "start_time": "2025-01-19T20:19:05.964Z"
   },
   {
    "duration": 6,
    "start_time": "2025-01-19T20:19:21.286Z"
   },
   {
    "duration": 6,
    "start_time": "2025-01-19T20:20:00.280Z"
   },
   {
    "duration": 1751,
    "start_time": "2025-01-19T20:20:28.764Z"
   },
   {
    "duration": 139,
    "start_time": "2025-01-19T20:22:46.649Z"
   },
   {
    "duration": 13,
    "start_time": "2025-01-19T20:23:23.611Z"
   },
   {
    "duration": 3,
    "start_time": "2025-01-19T20:23:33.845Z"
   },
   {
    "duration": 2,
    "start_time": "2025-01-19T20:23:42.931Z"
   },
   {
    "duration": 2,
    "start_time": "2025-01-19T20:23:46.782Z"
   },
   {
    "duration": 9,
    "start_time": "2025-01-19T20:24:58.586Z"
   },
   {
    "duration": 8,
    "start_time": "2025-01-19T20:25:33.809Z"
   },
   {
    "duration": 337,
    "start_time": "2025-01-19T20:39:57.918Z"
   },
   {
    "duration": 11,
    "start_time": "2025-01-19T20:40:33.022Z"
   },
   {
    "duration": 1222,
    "start_time": "2025-01-19T20:51:15.144Z"
   },
   {
    "duration": 47,
    "start_time": "2025-01-19T20:51:18.150Z"
   },
   {
    "duration": 11,
    "start_time": "2025-01-19T20:51:22.672Z"
   },
   {
    "duration": 7,
    "start_time": "2025-01-19T20:51:25.535Z"
   },
   {
    "duration": 7,
    "start_time": "2025-01-19T20:51:27.910Z"
   },
   {
    "duration": 5,
    "start_time": "2025-01-19T20:51:31.074Z"
   },
   {
    "duration": 7,
    "start_time": "2025-01-19T20:51:33.537Z"
   },
   {
    "duration": 816,
    "start_time": "2025-01-19T20:51:37.061Z"
   },
   {
    "duration": 18,
    "start_time": "2025-01-19T20:51:48.423Z"
   },
   {
    "duration": 848,
    "start_time": "2025-01-19T20:51:53.927Z"
   },
   {
    "duration": 730,
    "start_time": "2025-01-19T20:52:03.579Z"
   },
   {
    "duration": 81,
    "start_time": "2025-01-19T20:52:08.589Z"
   },
   {
    "duration": 14,
    "start_time": "2025-01-19T20:52:14.199Z"
   },
   {
    "duration": 5,
    "start_time": "2025-01-19T20:52:17.633Z"
   },
   {
    "duration": 19,
    "start_time": "2025-01-19T20:52:27.120Z"
   },
   {
    "duration": 14,
    "start_time": "2025-01-19T20:52:45.863Z"
   },
   {
    "duration": 5,
    "start_time": "2025-01-19T20:52:53.937Z"
   },
   {
    "duration": 5,
    "start_time": "2025-01-19T20:53:00.265Z"
   },
   {
    "duration": 5,
    "start_time": "2025-01-19T20:53:07.628Z"
   },
   {
    "duration": 5,
    "start_time": "2025-01-19T20:53:11.025Z"
   },
   {
    "duration": 769,
    "start_time": "2025-01-19T20:55:03.300Z"
   },
   {
    "duration": 2122,
    "start_time": "2025-01-19T20:56:26.995Z"
   },
   {
    "duration": 12,
    "start_time": "2025-01-19T20:57:11.369Z"
   },
   {
    "duration": 2,
    "start_time": "2025-01-19T20:57:20.611Z"
   },
   {
    "duration": 2,
    "start_time": "2025-01-19T20:57:23.327Z"
   },
   {
    "duration": 4,
    "start_time": "2025-01-19T20:57:25.651Z"
   },
   {
    "duration": 9,
    "start_time": "2025-01-19T20:57:34.761Z"
   },
   {
    "duration": 8,
    "start_time": "2025-01-19T20:57:41.482Z"
   },
   {
    "duration": 8,
    "start_time": "2025-01-19T20:57:48.995Z"
   },
   {
    "duration": 9,
    "start_time": "2025-01-19T20:57:54.788Z"
   },
   {
    "duration": 7,
    "start_time": "2025-01-19T20:58:00.199Z"
   },
   {
    "duration": 8,
    "start_time": "2025-01-19T20:58:06.663Z"
   },
   {
    "duration": 219,
    "start_time": "2025-01-19T20:58:23.183Z"
   },
   {
    "duration": 9,
    "start_time": "2025-01-19T20:58:27.823Z"
   },
   {
    "duration": 7,
    "start_time": "2025-01-19T20:59:19.137Z"
   },
   {
    "duration": 41,
    "start_time": "2025-01-19T21:04:31.203Z"
   },
   {
    "duration": 8,
    "start_time": "2025-01-19T21:10:58.258Z"
   },
   {
    "duration": 184,
    "start_time": "2025-01-19T21:12:19.638Z"
   },
   {
    "duration": 16,
    "start_time": "2025-01-19T21:12:48.216Z"
   },
   {
    "duration": 19,
    "start_time": "2025-01-19T21:13:19.769Z"
   },
   {
    "duration": 9,
    "start_time": "2025-01-19T21:14:44.363Z"
   },
   {
    "duration": 8,
    "start_time": "2025-01-19T21:19:07.105Z"
   },
   {
    "duration": 26,
    "start_time": "2025-01-19T21:23:49.803Z"
   },
   {
    "duration": 22,
    "start_time": "2025-01-19T21:24:37.650Z"
   },
   {
    "duration": 1188,
    "start_time": "2025-01-19T21:25:52.340Z"
   },
   {
    "duration": 49,
    "start_time": "2025-01-19T21:25:55.362Z"
   },
   {
    "duration": 11,
    "start_time": "2025-01-19T21:25:59.058Z"
   },
   {
    "duration": 7,
    "start_time": "2025-01-19T21:26:01.964Z"
   },
   {
    "duration": 7,
    "start_time": "2025-01-19T21:26:04.557Z"
   },
   {
    "duration": 7,
    "start_time": "2025-01-19T21:26:07.545Z"
   },
   {
    "duration": 6,
    "start_time": "2025-01-19T21:26:09.785Z"
   },
   {
    "duration": 746,
    "start_time": "2025-01-19T21:26:12.428Z"
   },
   {
    "duration": 13,
    "start_time": "2025-01-19T21:26:25.469Z"
   },
   {
    "duration": 843,
    "start_time": "2025-01-19T21:26:28.873Z"
   },
   {
    "duration": 872,
    "start_time": "2025-01-19T21:26:32.599Z"
   },
   {
    "duration": 80,
    "start_time": "2025-01-19T21:26:36.699Z"
   },
   {
    "duration": 14,
    "start_time": "2025-01-19T21:26:39.979Z"
   },
   {
    "duration": 7,
    "start_time": "2025-01-19T21:26:43.562Z"
   },
   {
    "duration": 21,
    "start_time": "2025-01-19T21:28:02.545Z"
   },
   {
    "duration": 12,
    "start_time": "2025-01-19T21:28:27.389Z"
   },
   {
    "duration": 5,
    "start_time": "2025-01-19T21:28:52.854Z"
   },
   {
    "duration": 4,
    "start_time": "2025-01-19T21:28:56.614Z"
   },
   {
    "duration": 6,
    "start_time": "2025-01-19T21:29:02.115Z"
   },
   {
    "duration": 5,
    "start_time": "2025-01-19T21:29:05.248Z"
   },
   {
    "duration": 759,
    "start_time": "2025-01-19T21:29:16.174Z"
   },
   {
    "duration": 1999,
    "start_time": "2025-01-19T21:29:25.345Z"
   },
   {
    "duration": 14,
    "start_time": "2025-01-19T21:29:49.574Z"
   },
   {
    "duration": 2,
    "start_time": "2025-01-19T21:29:57.238Z"
   },
   {
    "duration": 2,
    "start_time": "2025-01-19T21:29:59.808Z"
   },
   {
    "duration": 2,
    "start_time": "2025-01-19T21:30:02.244Z"
   },
   {
    "duration": 19,
    "start_time": "2025-01-19T21:34:09.162Z"
   },
   {
    "duration": 282,
    "start_time": "2025-01-19T21:36:15.051Z"
   },
   {
    "duration": 9,
    "start_time": "2025-01-19T21:36:20.256Z"
   },
   {
    "duration": 8,
    "start_time": "2025-01-19T21:36:34.516Z"
   },
   {
    "duration": 47,
    "start_time": "2025-01-19T21:38:34.149Z"
   },
   {
    "duration": 8,
    "start_time": "2025-01-19T21:46:54.399Z"
   },
   {
    "duration": 9,
    "start_time": "2025-01-19T21:47:31.569Z"
   },
   {
    "duration": 53,
    "start_time": "2025-01-19T21:50:19.005Z"
   },
   {
    "duration": 7,
    "start_time": "2025-01-19T21:55:18.449Z"
   },
   {
    "duration": 14,
    "start_time": "2025-01-19T21:57:48.719Z"
   },
   {
    "duration": 10,
    "start_time": "2025-01-19T22:11:18.381Z"
   },
   {
    "duration": 4,
    "start_time": "2025-01-19T22:15:55.338Z"
   },
   {
    "duration": 16,
    "start_time": "2025-01-19T22:16:45.421Z"
   },
   {
    "duration": 3,
    "start_time": "2025-01-19T22:25:17.905Z"
   },
   {
    "duration": 298,
    "start_time": "2025-01-19T22:31:14.099Z"
   },
   {
    "duration": 18,
    "start_time": "2025-01-19T22:33:50.833Z"
   },
   {
    "duration": 1326,
    "start_time": "2025-01-19T23:34:22.562Z"
   },
   {
    "duration": 47,
    "start_time": "2025-01-19T23:34:25.931Z"
   },
   {
    "duration": 10,
    "start_time": "2025-01-19T23:34:29.962Z"
   },
   {
    "duration": 8,
    "start_time": "2025-01-19T23:34:32.424Z"
   },
   {
    "duration": 7,
    "start_time": "2025-01-19T23:34:35.156Z"
   },
   {
    "duration": 6,
    "start_time": "2025-01-19T23:34:38.399Z"
   },
   {
    "duration": 6,
    "start_time": "2025-01-19T23:34:41.714Z"
   },
   {
    "duration": 737,
    "start_time": "2025-01-19T23:34:48.631Z"
   },
   {
    "duration": 12,
    "start_time": "2025-01-19T23:34:52.633Z"
   },
   {
    "duration": 834,
    "start_time": "2025-01-19T23:35:00.460Z"
   },
   {
    "duration": 753,
    "start_time": "2025-01-19T23:35:06.075Z"
   },
   {
    "duration": 88,
    "start_time": "2025-01-19T23:35:18.284Z"
   },
   {
    "duration": 14,
    "start_time": "2025-01-19T23:35:24.633Z"
   },
   {
    "duration": 5,
    "start_time": "2025-01-19T23:35:29.439Z"
   },
   {
    "duration": 20,
    "start_time": "2025-01-19T23:35:40.796Z"
   },
   {
    "duration": 12,
    "start_time": "2025-01-19T23:35:51.836Z"
   },
   {
    "duration": 5,
    "start_time": "2025-01-19T23:36:00.080Z"
   },
   {
    "duration": 4,
    "start_time": "2025-01-19T23:36:12.075Z"
   },
   {
    "duration": 5,
    "start_time": "2025-01-19T23:36:18.733Z"
   },
   {
    "duration": 6,
    "start_time": "2025-01-19T23:36:22.042Z"
   },
   {
    "duration": 775,
    "start_time": "2025-01-19T23:36:28.662Z"
   },
   {
    "duration": 1942,
    "start_time": "2025-01-19T23:36:33.927Z"
   },
   {
    "duration": 12,
    "start_time": "2025-01-19T23:36:54.490Z"
   },
   {
    "duration": 18,
    "start_time": "2025-01-19T23:37:37.207Z"
   },
   {
    "duration": 232,
    "start_time": "2025-01-19T23:38:38.421Z"
   },
   {
    "duration": 8,
    "start_time": "2025-01-19T23:39:08.761Z"
   },
   {
    "duration": 7,
    "start_time": "2025-01-19T23:39:15.157Z"
   },
   {
    "duration": 32,
    "start_time": "2025-01-19T23:39:21.741Z"
   },
   {
    "duration": 8,
    "start_time": "2025-01-19T23:39:40.296Z"
   },
   {
    "duration": 9,
    "start_time": "2025-01-19T23:40:30.625Z"
   },
   {
    "duration": 52,
    "start_time": "2025-01-19T23:40:59.219Z"
   },
   {
    "duration": 6,
    "start_time": "2025-01-19T23:41:16.553Z"
   },
   {
    "duration": 15,
    "start_time": "2025-01-19T23:41:22.718Z"
   },
   {
    "duration": 18,
    "start_time": "2025-01-19T23:41:33.300Z"
   },
   {
    "duration": 20,
    "start_time": "2025-01-19T23:41:47.123Z"
   },
   {
    "duration": 179,
    "start_time": "2025-01-19T23:45:38.106Z"
   },
   {
    "duration": 7,
    "start_time": "2025-01-19T23:46:02.756Z"
   },
   {
    "duration": 3,
    "start_time": "2025-01-19T23:46:22.707Z"
   },
   {
    "duration": 102,
    "start_time": "2025-01-19T23:46:26.625Z"
   },
   {
    "duration": 1918,
    "start_time": "2025-01-20T00:11:29.653Z"
   },
   {
    "duration": 1354,
    "start_time": "2025-01-20T00:13:52.599Z"
   },
   {
    "duration": 47,
    "start_time": "2025-01-20T00:13:56.622Z"
   },
   {
    "duration": 11,
    "start_time": "2025-01-20T00:14:00.625Z"
   },
   {
    "duration": 6,
    "start_time": "2025-01-20T00:14:03.501Z"
   },
   {
    "duration": 6,
    "start_time": "2025-01-20T00:14:06.061Z"
   },
   {
    "duration": 5,
    "start_time": "2025-01-20T00:14:08.669Z"
   },
   {
    "duration": 7,
    "start_time": "2025-01-20T00:14:11.465Z"
   },
   {
    "duration": 773,
    "start_time": "2025-01-20T00:14:14.533Z"
   },
   {
    "duration": 16,
    "start_time": "2025-01-20T00:14:18.373Z"
   },
   {
    "duration": 890,
    "start_time": "2025-01-20T00:14:21.978Z"
   },
   {
    "duration": 819,
    "start_time": "2025-01-20T00:14:26.849Z"
   },
   {
    "duration": 111,
    "start_time": "2025-01-20T00:14:30.745Z"
   },
   {
    "duration": 20,
    "start_time": "2025-01-20T00:14:34.140Z"
   },
   {
    "duration": 6,
    "start_time": "2025-01-20T00:14:36.992Z"
   },
   {
    "duration": 23,
    "start_time": "2025-01-20T00:14:40.089Z"
   },
   {
    "duration": 13,
    "start_time": "2025-01-20T00:14:43.447Z"
   },
   {
    "duration": 5,
    "start_time": "2025-01-20T00:14:48.383Z"
   },
   {
    "duration": 5,
    "start_time": "2025-01-20T00:14:52.473Z"
   },
   {
    "duration": 5,
    "start_time": "2025-01-20T00:14:56.961Z"
   },
   {
    "duration": 5,
    "start_time": "2025-01-20T00:15:00.256Z"
   },
   {
    "duration": 846,
    "start_time": "2025-01-20T00:15:03.879Z"
   },
   {
    "duration": 2062,
    "start_time": "2025-01-20T00:15:07.383Z"
   },
   {
    "duration": 15,
    "start_time": "2025-01-20T00:15:13.124Z"
   },
   {
    "duration": 19,
    "start_time": "2025-01-20T00:15:18.294Z"
   },
   {
    "duration": 256,
    "start_time": "2025-01-20T00:15:27.748Z"
   },
   {
    "duration": 10,
    "start_time": "2025-01-20T00:15:39.363Z"
   },
   {
    "duration": 8,
    "start_time": "2025-01-20T00:15:44.149Z"
   },
   {
    "duration": 32,
    "start_time": "2025-01-20T00:15:50.166Z"
   },
   {
    "duration": 9,
    "start_time": "2025-01-20T00:15:56.025Z"
   },
   {
    "duration": 9,
    "start_time": "2025-01-20T00:16:00.972Z"
   },
   {
    "duration": 51,
    "start_time": "2025-01-20T00:16:05.331Z"
   },
   {
    "duration": 7,
    "start_time": "2025-01-20T00:16:17.037Z"
   },
   {
    "duration": 17,
    "start_time": "2025-01-20T00:16:27.870Z"
   },
   {
    "duration": 18,
    "start_time": "2025-01-20T00:16:39.311Z"
   },
   {
    "duration": 19,
    "start_time": "2025-01-20T00:16:45.885Z"
   },
   {
    "duration": 2,
    "start_time": "2025-01-20T00:16:55.412Z"
   },
   {
    "duration": 102,
    "start_time": "2025-01-20T00:16:59.206Z"
   },
   {
    "duration": 516,
    "start_time": "2025-01-20T00:18:57.780Z"
   },
   {
    "duration": 2,
    "start_time": "2025-01-20T00:36:42.455Z"
   },
   {
    "duration": 2,
    "start_time": "2025-01-20T00:36:46.696Z"
   },
   {
    "duration": 3,
    "start_time": "2025-01-20T00:36:49.894Z"
   },
   {
    "duration": 37,
    "start_time": "2025-01-20T00:40:43.671Z"
   },
   {
    "duration": 5,
    "start_time": "2025-01-20T00:41:08.323Z"
   },
   {
    "duration": 3,
    "start_time": "2025-01-20T00:42:46.481Z"
   },
   {
    "duration": 9,
    "start_time": "2025-01-20T00:44:31.257Z"
   },
   {
    "duration": 5,
    "start_time": "2025-01-20T00:45:24.908Z"
   },
   {
    "duration": 8,
    "start_time": "2025-01-20T00:46:09.807Z"
   },
   {
    "duration": 6,
    "start_time": "2025-01-20T00:47:16.306Z"
   },
   {
    "duration": 397,
    "start_time": "2025-01-20T01:20:06.523Z"
   },
   {
    "duration": 1202,
    "start_time": "2025-01-20T01:24:21.639Z"
   },
   {
    "duration": 50,
    "start_time": "2025-01-20T01:24:25.054Z"
   },
   {
    "duration": 11,
    "start_time": "2025-01-20T01:24:29.244Z"
   },
   {
    "duration": 7,
    "start_time": "2025-01-20T01:24:31.499Z"
   },
   {
    "duration": 6,
    "start_time": "2025-01-20T01:24:35.262Z"
   },
   {
    "duration": 8,
    "start_time": "2025-01-20T01:24:38.125Z"
   },
   {
    "duration": 7,
    "start_time": "2025-01-20T01:24:40.748Z"
   },
   {
    "duration": 783,
    "start_time": "2025-01-20T01:24:43.635Z"
   },
   {
    "duration": 12,
    "start_time": "2025-01-20T01:24:46.577Z"
   },
   {
    "duration": 856,
    "start_time": "2025-01-20T01:24:50.471Z"
   },
   {
    "duration": 750,
    "start_time": "2025-01-20T01:24:53.027Z"
   },
   {
    "duration": 80,
    "start_time": "2025-01-20T01:24:56.882Z"
   },
   {
    "duration": 14,
    "start_time": "2025-01-20T01:25:00.078Z"
   },
   {
    "duration": 6,
    "start_time": "2025-01-20T01:25:02.440Z"
   },
   {
    "duration": 25,
    "start_time": "2025-01-20T01:25:05.571Z"
   },
   {
    "duration": 13,
    "start_time": "2025-01-20T01:25:08.654Z"
   },
   {
    "duration": 5,
    "start_time": "2025-01-20T01:25:12.098Z"
   },
   {
    "duration": 4,
    "start_time": "2025-01-20T01:25:16.194Z"
   },
   {
    "duration": 5,
    "start_time": "2025-01-20T01:25:20.194Z"
   },
   {
    "duration": 4,
    "start_time": "2025-01-20T01:25:22.850Z"
   },
   {
    "duration": 766,
    "start_time": "2025-01-20T01:25:25.932Z"
   },
   {
    "duration": 2095,
    "start_time": "2025-01-20T01:25:31.130Z"
   },
   {
    "duration": 10,
    "start_time": "2025-01-20T01:25:37.186Z"
   },
   {
    "duration": 20,
    "start_time": "2025-01-20T01:25:42.048Z"
   },
   {
    "duration": 225,
    "start_time": "2025-01-20T01:25:46.940Z"
   },
   {
    "duration": 9,
    "start_time": "2025-01-20T01:25:49.964Z"
   },
   {
    "duration": 6,
    "start_time": "2025-01-20T01:25:54.149Z"
   },
   {
    "duration": 32,
    "start_time": "2025-01-20T01:25:58.882Z"
   },
   {
    "duration": 8,
    "start_time": "2025-01-20T01:26:06.385Z"
   },
   {
    "duration": 9,
    "start_time": "2025-01-20T01:26:10.384Z"
   },
   {
    "duration": 52,
    "start_time": "2025-01-20T01:26:22.643Z"
   },
   {
    "duration": 7,
    "start_time": "2025-01-20T01:26:27.582Z"
   },
   {
    "duration": 16,
    "start_time": "2025-01-20T01:26:32.620Z"
   },
   {
    "duration": 16,
    "start_time": "2025-01-20T01:26:47.277Z"
   },
   {
    "duration": 20,
    "start_time": "2025-01-20T01:26:55.628Z"
   },
   {
    "duration": 3,
    "start_time": "2025-01-20T01:27:00.990Z"
   },
   {
    "duration": 100,
    "start_time": "2025-01-20T01:27:07.346Z"
   },
   {
    "duration": 499,
    "start_time": "2025-01-20T01:27:15.360Z"
   },
   {
    "duration": 5,
    "start_time": "2025-01-20T01:27:26.875Z"
   },
   {
    "duration": 2,
    "start_time": "2025-01-20T01:27:33.043Z"
   },
   {
    "duration": 3,
    "start_time": "2025-01-20T01:27:38.783Z"
   },
   {
    "duration": 38,
    "start_time": "2025-01-20T01:27:53.404Z"
   },
   {
    "duration": 7,
    "start_time": "2025-01-20T01:28:00.835Z"
   },
   {
    "duration": 100,
    "start_time": "2025-01-20T01:34:28.764Z"
   },
   {
    "duration": 93,
    "start_time": "2025-01-20T01:36:29.703Z"
   },
   {
    "duration": 321,
    "start_time": "2025-01-20T01:38:12.950Z"
   },
   {
    "duration": 36,
    "start_time": "2025-01-20T01:42:20.829Z"
   },
   {
    "duration": 14,
    "start_time": "2025-01-20T01:50:38.650Z"
   },
   {
    "duration": 13,
    "start_time": "2025-01-20T01:52:59.793Z"
   },
   {
    "duration": 131,
    "start_time": "2025-01-20T02:00:11.611Z"
   },
   {
    "duration": 1365,
    "start_time": "2025-01-20T13:42:05.041Z"
   },
   {
    "duration": 48,
    "start_time": "2025-01-20T13:42:09.046Z"
   },
   {
    "duration": 12,
    "start_time": "2025-01-20T13:42:14.674Z"
   },
   {
    "duration": 7,
    "start_time": "2025-01-20T13:42:18.049Z"
   },
   {
    "duration": 5,
    "start_time": "2025-01-20T13:42:21.797Z"
   },
   {
    "duration": 6,
    "start_time": "2025-01-20T13:42:29.266Z"
   },
   {
    "duration": 8,
    "start_time": "2025-01-20T13:42:33.289Z"
   },
   {
    "duration": 830,
    "start_time": "2025-01-20T13:42:38.054Z"
   },
   {
    "duration": 15,
    "start_time": "2025-01-20T13:42:42.419Z"
   },
   {
    "duration": 1022,
    "start_time": "2025-01-20T13:42:47.259Z"
   },
   {
    "duration": 808,
    "start_time": "2025-01-20T13:42:50.618Z"
   },
   {
    "duration": 124,
    "start_time": "2025-01-20T13:42:54.733Z"
   },
   {
    "duration": 14,
    "start_time": "2025-01-20T13:42:59.239Z"
   },
   {
    "duration": 6,
    "start_time": "2025-01-20T13:43:02.872Z"
   },
   {
    "duration": 20,
    "start_time": "2025-01-20T13:43:13.252Z"
   },
   {
    "duration": 12,
    "start_time": "2025-01-20T13:43:22.117Z"
   },
   {
    "duration": 4,
    "start_time": "2025-01-20T13:43:27.990Z"
   },
   {
    "duration": 4,
    "start_time": "2025-01-20T13:43:33.398Z"
   },
   {
    "duration": 5,
    "start_time": "2025-01-20T13:43:39.876Z"
   },
   {
    "duration": 5,
    "start_time": "2025-01-20T13:43:45.376Z"
   },
   {
    "duration": 841,
    "start_time": "2025-01-20T13:43:50.476Z"
   },
   {
    "duration": 2366,
    "start_time": "2025-01-20T13:43:54.528Z"
   },
   {
    "duration": 11,
    "start_time": "2025-01-20T13:44:08.952Z"
   },
   {
    "duration": 3,
    "start_time": "2025-01-20T13:45:36.027Z"
   },
   {
    "duration": 2,
    "start_time": "2025-01-20T13:45:39.048Z"
   },
   {
    "duration": 2,
    "start_time": "2025-01-20T13:45:41.891Z"
   },
   {
    "duration": 21,
    "start_time": "2025-01-20T13:45:47.845Z"
   },
   {
    "duration": 123,
    "start_time": "2025-01-20T14:02:55.636Z"
   },
   {
    "duration": 5,
    "start_time": "2025-01-20T14:03:29.088Z"
   },
   {
    "duration": 7,
    "start_time": "2025-01-20T14:03:35.502Z"
   },
   {
    "duration": 35,
    "start_time": "2025-01-20T14:03:43.743Z"
   },
   {
    "duration": 8,
    "start_time": "2025-01-20T14:04:07.275Z"
   },
   {
    "duration": 9,
    "start_time": "2025-01-20T14:04:39.560Z"
   },
   {
    "duration": 109,
    "start_time": "2025-01-20T14:06:21.624Z"
   },
   {
    "duration": 7,
    "start_time": "2025-01-20T14:06:57.364Z"
   },
   {
    "duration": 15,
    "start_time": "2025-01-20T14:07:09.129Z"
   },
   {
    "duration": 20,
    "start_time": "2025-01-20T14:08:09.844Z"
   },
   {
    "duration": 20,
    "start_time": "2025-01-20T14:08:46.506Z"
   },
   {
    "duration": 3,
    "start_time": "2025-01-20T14:09:07.295Z"
   },
   {
    "duration": 99,
    "start_time": "2025-01-20T14:09:10.997Z"
   },
   {
    "duration": 140,
    "start_time": "2025-01-20T14:10:22.062Z"
   },
   {
    "duration": 44,
    "start_time": "2025-01-20T14:14:31.970Z"
   },
   {
    "duration": 1216,
    "start_time": "2025-01-20T14:17:35.055Z"
   },
   {
    "duration": 47,
    "start_time": "2025-01-20T14:17:38.529Z"
   },
   {
    "duration": 11,
    "start_time": "2025-01-20T14:17:42.297Z"
   },
   {
    "duration": 7,
    "start_time": "2025-01-20T14:17:44.714Z"
   },
   {
    "duration": 6,
    "start_time": "2025-01-20T14:17:47.843Z"
   },
   {
    "duration": 7,
    "start_time": "2025-01-20T14:17:50.593Z"
   },
   {
    "duration": 7,
    "start_time": "2025-01-20T14:17:53.458Z"
   },
   {
    "duration": 832,
    "start_time": "2025-01-20T14:17:56.634Z"
   },
   {
    "duration": 20,
    "start_time": "2025-01-20T14:18:01.013Z"
   },
   {
    "duration": 873,
    "start_time": "2025-01-20T14:18:04.864Z"
   },
   {
    "duration": 808,
    "start_time": "2025-01-20T14:18:08.009Z"
   },
   {
    "duration": 92,
    "start_time": "2025-01-20T14:18:13.686Z"
   },
   {
    "duration": 15,
    "start_time": "2025-01-20T14:18:17.390Z"
   },
   {
    "duration": 6,
    "start_time": "2025-01-20T14:18:19.766Z"
   },
   {
    "duration": 21,
    "start_time": "2025-01-20T14:18:22.870Z"
   },
   {
    "duration": 13,
    "start_time": "2025-01-20T14:18:26.681Z"
   },
   {
    "duration": 5,
    "start_time": "2025-01-20T14:18:53.122Z"
   },
   {
    "duration": 5,
    "start_time": "2025-01-20T14:18:58.638Z"
   },
   {
    "duration": 6,
    "start_time": "2025-01-20T14:19:02.572Z"
   },
   {
    "duration": 5,
    "start_time": "2025-01-20T14:19:05.754Z"
   },
   {
    "duration": 826,
    "start_time": "2025-01-20T14:19:08.833Z"
   },
   {
    "duration": 2054,
    "start_time": "2025-01-20T14:19:13.004Z"
   },
   {
    "duration": 12,
    "start_time": "2025-01-20T14:19:20.304Z"
   },
   {
    "duration": 3,
    "start_time": "2025-01-20T14:19:23.869Z"
   },
   {
    "duration": 2,
    "start_time": "2025-01-20T14:19:26.019Z"
   },
   {
    "duration": 2,
    "start_time": "2025-01-20T14:19:28.286Z"
   },
   {
    "duration": 21,
    "start_time": "2025-01-20T14:19:31.604Z"
   },
   {
    "duration": 125,
    "start_time": "2025-01-20T14:19:37.733Z"
   },
   {
    "duration": 5,
    "start_time": "2025-01-20T14:19:46.499Z"
   },
   {
    "duration": 6,
    "start_time": "2025-01-20T14:19:50.190Z"
   },
   {
    "duration": 32,
    "start_time": "2025-01-20T14:19:56.368Z"
   },
   {
    "duration": 8,
    "start_time": "2025-01-20T14:20:02.976Z"
   },
   {
    "duration": 9,
    "start_time": "2025-01-20T14:20:08.673Z"
   },
   {
    "duration": 144,
    "start_time": "2025-01-20T14:20:31.396Z"
   },
   {
    "duration": 7,
    "start_time": "2025-01-20T14:20:41.549Z"
   },
   {
    "duration": 17,
    "start_time": "2025-01-20T14:20:44.754Z"
   },
   {
    "duration": 20,
    "start_time": "2025-01-20T14:20:50.355Z"
   },
   {
    "duration": 23,
    "start_time": "2025-01-20T14:20:54.935Z"
   },
   {
    "duration": 3,
    "start_time": "2025-01-20T14:21:03.418Z"
   },
   {
    "duration": 1172,
    "start_time": "2025-01-20T14:23:39.082Z"
   },
   {
    "duration": 47,
    "start_time": "2025-01-20T14:23:41.746Z"
   },
   {
    "duration": 10,
    "start_time": "2025-01-20T14:23:45.814Z"
   },
   {
    "duration": 7,
    "start_time": "2025-01-20T14:23:48.141Z"
   },
   {
    "duration": 6,
    "start_time": "2025-01-20T14:23:51.344Z"
   },
   {
    "duration": 6,
    "start_time": "2025-01-20T14:23:53.916Z"
   },
   {
    "duration": 7,
    "start_time": "2025-01-20T14:23:56.238Z"
   },
   {
    "duration": 815,
    "start_time": "2025-01-20T14:23:59.677Z"
   },
   {
    "duration": 11,
    "start_time": "2025-01-20T14:24:04.112Z"
   },
   {
    "duration": 870,
    "start_time": "2025-01-20T14:24:18.725Z"
   },
   {
    "duration": 774,
    "start_time": "2025-01-20T14:24:21.113Z"
   },
   {
    "duration": 89,
    "start_time": "2025-01-20T14:24:24.689Z"
   },
   {
    "duration": 13,
    "start_time": "2025-01-20T14:24:28.006Z"
   },
   {
    "duration": 5,
    "start_time": "2025-01-20T14:24:30.118Z"
   },
   {
    "duration": 21,
    "start_time": "2025-01-20T14:24:33.175Z"
   },
   {
    "duration": 13,
    "start_time": "2025-01-20T14:24:36.233Z"
   },
   {
    "duration": 5,
    "start_time": "2025-01-20T14:24:39.562Z"
   },
   {
    "duration": 5,
    "start_time": "2025-01-20T14:24:42.491Z"
   },
   {
    "duration": 5,
    "start_time": "2025-01-20T14:24:46.327Z"
   },
   {
    "duration": 5,
    "start_time": "2025-01-20T14:24:49.313Z"
   },
   {
    "duration": 829,
    "start_time": "2025-01-20T14:24:52.560Z"
   },
   {
    "duration": 2050,
    "start_time": "2025-01-20T14:24:55.677Z"
   },
   {
    "duration": 12,
    "start_time": "2025-01-20T14:25:01.221Z"
   },
   {
    "duration": 2,
    "start_time": "2025-01-20T14:25:06.218Z"
   },
   {
    "duration": 2,
    "start_time": "2025-01-20T14:25:08.662Z"
   },
   {
    "duration": 3,
    "start_time": "2025-01-20T14:25:10.943Z"
   },
   {
    "duration": 20,
    "start_time": "2025-01-20T14:25:16.567Z"
   },
   {
    "duration": 130,
    "start_time": "2025-01-20T14:25:27.943Z"
   },
   {
    "duration": 5,
    "start_time": "2025-01-20T14:25:32.123Z"
   },
   {
    "duration": 7,
    "start_time": "2025-01-20T14:25:36.033Z"
   },
   {
    "duration": 33,
    "start_time": "2025-01-20T14:25:41.598Z"
   },
   {
    "duration": 9,
    "start_time": "2025-01-20T14:25:46.315Z"
   },
   {
    "duration": 9,
    "start_time": "2025-01-20T14:25:49.868Z"
   },
   {
    "duration": 126,
    "start_time": "2025-01-20T14:26:00.104Z"
   },
   {
    "duration": 7,
    "start_time": "2025-01-20T14:26:06.766Z"
   },
   {
    "duration": 16,
    "start_time": "2025-01-20T14:26:09.863Z"
   },
   {
    "duration": 22,
    "start_time": "2025-01-20T14:26:18.115Z"
   },
   {
    "duration": 20,
    "start_time": "2025-01-20T14:26:22.804Z"
   },
   {
    "duration": 98,
    "start_time": "2025-01-20T14:27:01.354Z"
   },
   {
    "duration": 6,
    "start_time": "2025-01-20T14:30:11.436Z"
   },
   {
    "duration": 2252,
    "start_time": "2025-01-20T14:30:52.319Z"
   },
   {
    "duration": 3,
    "start_time": "2025-01-20T14:31:01.452Z"
   },
   {
    "duration": 3,
    "start_time": "2025-01-20T14:31:05.457Z"
   },
   {
    "duration": 3,
    "start_time": "2025-01-20T14:31:11.170Z"
   },
   {
    "duration": 42,
    "start_time": "2025-01-20T14:31:20.298Z"
   },
   {
    "duration": 8,
    "start_time": "2025-01-20T14:31:37.171Z"
   },
   {
    "duration": 740,
    "start_time": "2025-01-20T14:49:03.587Z"
   },
   {
    "duration": 147,
    "start_time": "2025-01-20T14:52:08.269Z"
   },
   {
    "duration": 18,
    "start_time": "2025-01-20T14:55:19.873Z"
   },
   {
    "duration": 8,
    "start_time": "2025-01-20T14:57:22.418Z"
   },
   {
    "duration": 13,
    "start_time": "2025-01-20T14:58:01.902Z"
   },
   {
    "duration": 715,
    "start_time": "2025-01-20T15:08:46.260Z"
   },
   {
    "duration": 259,
    "start_time": "2025-01-20T15:11:24.030Z"
   },
   {
    "duration": 13,
    "start_time": "2025-01-20T15:13:22.490Z"
   },
   {
    "duration": 166,
    "start_time": "2025-01-20T15:14:47.604Z"
   },
   {
    "duration": 118,
    "start_time": "2025-01-20T15:25:08.852Z"
   },
   {
    "duration": 58,
    "start_time": "2025-01-20T15:26:41.356Z"
   },
   {
    "duration": 16,
    "start_time": "2025-01-20T15:28:49.030Z"
   },
   {
    "duration": 7,
    "start_time": "2025-01-20T15:30:00.248Z"
   },
   {
    "duration": 8,
    "start_time": "2025-01-20T15:31:23.746Z"
   },
   {
    "duration": 1394,
    "start_time": "2025-01-20T16:18:37.230Z"
   },
   {
    "duration": 45,
    "start_time": "2025-01-20T16:18:40.468Z"
   },
   {
    "duration": 12,
    "start_time": "2025-01-20T16:18:45.371Z"
   },
   {
    "duration": 7,
    "start_time": "2025-01-20T16:18:48.251Z"
   },
   {
    "duration": 6,
    "start_time": "2025-01-20T16:18:51.961Z"
   },
   {
    "duration": 6,
    "start_time": "2025-01-20T16:18:54.662Z"
   },
   {
    "duration": 7,
    "start_time": "2025-01-20T16:18:57.539Z"
   },
   {
    "duration": 812,
    "start_time": "2025-01-20T16:19:00.741Z"
   },
   {
    "duration": 18,
    "start_time": "2025-01-20T16:19:04.117Z"
   },
   {
    "duration": 881,
    "start_time": "2025-01-20T16:19:08.383Z"
   },
   {
    "duration": 840,
    "start_time": "2025-01-20T16:19:11.884Z"
   },
   {
    "duration": 80,
    "start_time": "2025-01-20T16:19:15.664Z"
   },
   {
    "duration": 14,
    "start_time": "2025-01-20T16:19:18.886Z"
   },
   {
    "duration": 20,
    "start_time": "2025-01-20T16:19:21.992Z"
   },
   {
    "duration": 1174,
    "start_time": "2025-01-20T16:19:32.951Z"
   },
   {
    "duration": 49,
    "start_time": "2025-01-20T16:19:34.127Z"
   },
   {
    "duration": 10,
    "start_time": "2025-01-20T16:19:34.178Z"
   },
   {
    "duration": 22,
    "start_time": "2025-01-20T16:19:34.190Z"
   },
   {
    "duration": 6,
    "start_time": "2025-01-20T16:19:34.214Z"
   },
   {
    "duration": 5,
    "start_time": "2025-01-20T16:19:34.222Z"
   },
   {
    "duration": 5,
    "start_time": "2025-01-20T16:19:34.229Z"
   },
   {
    "duration": 804,
    "start_time": "2025-01-20T16:19:34.235Z"
   },
   {
    "duration": 12,
    "start_time": "2025-01-20T16:19:35.041Z"
   },
   {
    "duration": 886,
    "start_time": "2025-01-20T16:19:35.056Z"
   },
   {
    "duration": 746,
    "start_time": "2025-01-20T16:19:35.943Z"
   },
   {
    "duration": 103,
    "start_time": "2025-01-20T16:19:36.691Z"
   },
   {
    "duration": 22,
    "start_time": "2025-01-20T16:19:36.796Z"
   },
   {
    "duration": 5,
    "start_time": "2025-01-20T16:19:36.819Z"
   },
   {
    "duration": 20,
    "start_time": "2025-01-20T16:19:36.826Z"
   },
   {
    "duration": 11,
    "start_time": "2025-01-20T16:19:36.848Z"
   },
   {
    "duration": 6,
    "start_time": "2025-01-20T16:19:36.861Z"
   },
   {
    "duration": 4,
    "start_time": "2025-01-20T16:19:36.869Z"
   },
   {
    "duration": 38,
    "start_time": "2025-01-20T16:19:36.875Z"
   },
   {
    "duration": 5,
    "start_time": "2025-01-20T16:19:36.914Z"
   },
   {
    "duration": 836,
    "start_time": "2025-01-20T16:19:36.921Z"
   },
   {
    "duration": 2038,
    "start_time": "2025-01-20T16:19:37.759Z"
   },
   {
    "duration": 16,
    "start_time": "2025-01-20T16:19:39.799Z"
   },
   {
    "duration": 2,
    "start_time": "2025-01-20T16:19:39.817Z"
   },
   {
    "duration": 3,
    "start_time": "2025-01-20T16:19:39.821Z"
   },
   {
    "duration": 3,
    "start_time": "2025-01-20T16:19:39.825Z"
   },
   {
    "duration": 18,
    "start_time": "2025-01-20T16:19:39.830Z"
   },
   {
    "duration": 137,
    "start_time": "2025-01-20T16:19:39.853Z"
   },
   {
    "duration": 4,
    "start_time": "2025-01-20T16:19:39.992Z"
   },
   {
    "duration": 15,
    "start_time": "2025-01-20T16:19:39.997Z"
   },
   {
    "duration": 31,
    "start_time": "2025-01-20T16:19:40.013Z"
   },
   {
    "duration": 7,
    "start_time": "2025-01-20T16:19:40.046Z"
   },
   {
    "duration": 8,
    "start_time": "2025-01-20T16:19:40.054Z"
   },
   {
    "duration": 145,
    "start_time": "2025-01-20T16:19:40.063Z"
   },
   {
    "duration": 8,
    "start_time": "2025-01-20T16:19:40.210Z"
   },
   {
    "duration": 15,
    "start_time": "2025-01-20T16:19:40.220Z"
   },
   {
    "duration": 18,
    "start_time": "2025-01-20T16:19:40.237Z"
   },
   {
    "duration": 20,
    "start_time": "2025-01-20T16:19:40.257Z"
   },
   {
    "duration": 125,
    "start_time": "2025-01-20T16:19:40.278Z"
   },
   {
    "duration": 6,
    "start_time": "2025-01-20T16:19:40.409Z"
   },
   {
    "duration": 2217,
    "start_time": "2025-01-20T16:19:40.417Z"
   },
   {
    "duration": 3,
    "start_time": "2025-01-20T16:19:42.635Z"
   },
   {
    "duration": 4,
    "start_time": "2025-01-20T16:19:42.639Z"
   },
   {
    "duration": 3,
    "start_time": "2025-01-20T16:19:42.644Z"
   },
   {
    "duration": 36,
    "start_time": "2025-01-20T16:19:42.648Z"
   },
   {
    "duration": 24,
    "start_time": "2025-01-20T16:19:42.686Z"
   },
   {
    "duration": 715,
    "start_time": "2025-01-20T16:19:42.711Z"
   },
   {
    "duration": 104,
    "start_time": "2025-01-20T16:19:43.428Z"
   },
   {
    "duration": 17,
    "start_time": "2025-01-20T16:19:43.534Z"
   },
   {
    "duration": 11,
    "start_time": "2025-01-20T16:19:43.553Z"
   },
   {
    "duration": 726,
    "start_time": "2025-01-20T16:19:43.566Z"
   },
   {
    "duration": 269,
    "start_time": "2025-01-20T16:19:44.294Z"
   },
   {
    "duration": 11,
    "start_time": "2025-01-20T16:19:44.565Z"
   },
   {
    "duration": 176,
    "start_time": "2025-01-20T16:19:44.578Z"
   },
   {
    "duration": 148,
    "start_time": "2025-01-20T16:19:44.757Z"
   },
   {
    "duration": 64,
    "start_time": "2025-01-20T16:19:44.908Z"
   },
   {
    "duration": 16,
    "start_time": "2025-01-20T16:19:44.974Z"
   },
   {
    "duration": 22,
    "start_time": "2025-01-20T16:19:44.991Z"
   },
   {
    "duration": 7,
    "start_time": "2025-01-20T16:19:45.014Z"
   },
   {
    "duration": 101,
    "start_time": "2025-01-20T16:22:15.431Z"
   },
   {
    "duration": 137,
    "start_time": "2025-01-20T16:25:05.501Z"
   },
   {
    "duration": 12,
    "start_time": "2025-01-20T16:29:52.323Z"
   },
   {
    "duration": 609,
    "start_time": "2025-01-20T16:32:13.454Z"
   },
   {
    "duration": 1221,
    "start_time": "2025-01-20T16:35:07.051Z"
   },
   {
    "duration": 62,
    "start_time": "2025-01-20T16:35:08.274Z"
   },
   {
    "duration": 10,
    "start_time": "2025-01-20T16:35:08.339Z"
   },
   {
    "duration": 5,
    "start_time": "2025-01-20T16:35:08.352Z"
   },
   {
    "duration": 6,
    "start_time": "2025-01-20T16:35:08.359Z"
   },
   {
    "duration": 6,
    "start_time": "2025-01-20T16:35:08.366Z"
   },
   {
    "duration": 35,
    "start_time": "2025-01-20T16:35:08.374Z"
   },
   {
    "duration": 777,
    "start_time": "2025-01-20T16:35:08.411Z"
   },
   {
    "duration": 21,
    "start_time": "2025-01-20T16:35:09.189Z"
   },
   {
    "duration": 888,
    "start_time": "2025-01-20T16:35:09.213Z"
   },
   {
    "duration": 772,
    "start_time": "2025-01-20T16:35:10.102Z"
   },
   {
    "duration": 92,
    "start_time": "2025-01-20T16:35:10.875Z"
   },
   {
    "duration": 16,
    "start_time": "2025-01-20T16:35:10.970Z"
   },
   {
    "duration": 6,
    "start_time": "2025-01-20T16:35:10.987Z"
   },
   {
    "duration": 21,
    "start_time": "2025-01-20T16:35:11.009Z"
   },
   {
    "duration": 10,
    "start_time": "2025-01-20T16:35:11.032Z"
   },
   {
    "duration": 4,
    "start_time": "2025-01-20T16:35:11.044Z"
   },
   {
    "duration": 4,
    "start_time": "2025-01-20T16:35:11.050Z"
   },
   {
    "duration": 5,
    "start_time": "2025-01-20T16:35:11.055Z"
   },
   {
    "duration": 5,
    "start_time": "2025-01-20T16:35:11.061Z"
   },
   {
    "duration": 829,
    "start_time": "2025-01-20T16:35:11.067Z"
   },
   {
    "duration": 2041,
    "start_time": "2025-01-20T16:35:11.898Z"
   },
   {
    "duration": 12,
    "start_time": "2025-01-20T16:35:13.942Z"
   },
   {
    "duration": 2,
    "start_time": "2025-01-20T16:35:13.956Z"
   },
   {
    "duration": 2,
    "start_time": "2025-01-20T16:35:13.960Z"
   },
   {
    "duration": 3,
    "start_time": "2025-01-20T16:35:13.963Z"
   },
   {
    "duration": 44,
    "start_time": "2025-01-20T16:35:13.968Z"
   },
   {
    "duration": 120,
    "start_time": "2025-01-20T16:35:14.016Z"
   },
   {
    "duration": 5,
    "start_time": "2025-01-20T16:35:14.137Z"
   },
   {
    "duration": 7,
    "start_time": "2025-01-20T16:35:14.144Z"
   },
   {
    "duration": 31,
    "start_time": "2025-01-20T16:35:14.153Z"
   },
   {
    "duration": 28,
    "start_time": "2025-01-20T16:35:14.186Z"
   },
   {
    "duration": 8,
    "start_time": "2025-01-20T16:35:14.216Z"
   },
   {
    "duration": 133,
    "start_time": "2025-01-20T16:35:14.225Z"
   },
   {
    "duration": 7,
    "start_time": "2025-01-20T16:35:14.360Z"
   },
   {
    "duration": 17,
    "start_time": "2025-01-20T16:35:14.368Z"
   },
   {
    "duration": 40,
    "start_time": "2025-01-20T16:35:14.387Z"
   },
   {
    "duration": 20,
    "start_time": "2025-01-20T16:35:14.428Z"
   },
   {
    "duration": 110,
    "start_time": "2025-01-20T16:35:14.449Z"
   },
   {
    "duration": 7,
    "start_time": "2025-01-20T16:35:14.560Z"
   },
   {
    "duration": 543,
    "start_time": "2025-01-20T16:35:14.568Z"
   },
   {
    "duration": 2,
    "start_time": "2025-01-20T16:35:15.113Z"
   },
   {
    "duration": 3,
    "start_time": "2025-01-20T16:35:15.117Z"
   },
   {
    "duration": 3,
    "start_time": "2025-01-20T16:35:15.122Z"
   },
   {
    "duration": 41,
    "start_time": "2025-01-20T16:35:15.126Z"
   },
   {
    "duration": 7,
    "start_time": "2025-01-20T16:35:15.169Z"
   },
   {
    "duration": 782,
    "start_time": "2025-01-20T16:35:15.177Z"
   },
   {
    "duration": 107,
    "start_time": "2025-01-20T16:35:15.962Z"
   },
   {
    "duration": 16,
    "start_time": "2025-01-20T16:35:16.072Z"
   },
   {
    "duration": 23,
    "start_time": "2025-01-20T16:35:16.089Z"
   },
   {
    "duration": 696,
    "start_time": "2025-01-20T16:35:16.114Z"
   },
   {
    "duration": 266,
    "start_time": "2025-01-20T16:35:16.812Z"
   },
   {
    "duration": 11,
    "start_time": "2025-01-20T16:35:17.080Z"
   },
   {
    "duration": 207,
    "start_time": "2025-01-20T16:35:17.092Z"
   },
   {
    "duration": 132,
    "start_time": "2025-01-20T16:35:17.301Z"
   },
   {
    "duration": 74,
    "start_time": "2025-01-20T16:35:17.435Z"
   },
   {
    "duration": 17,
    "start_time": "2025-01-20T16:35:17.513Z"
   },
   {
    "duration": 6,
    "start_time": "2025-01-20T16:35:17.532Z"
   },
   {
    "duration": 6,
    "start_time": "2025-01-20T16:35:17.540Z"
   },
   {
    "duration": 127,
    "start_time": "2025-01-20T16:35:17.548Z"
   },
   {
    "duration": 144,
    "start_time": "2025-01-20T16:35:17.677Z"
   },
   {
    "duration": 12,
    "start_time": "2025-01-20T16:35:17.825Z"
   },
   {
    "duration": 3,
    "start_time": "2025-01-20T16:35:17.839Z"
   },
   {
    "duration": 10,
    "start_time": "2025-01-20T16:36:34.317Z"
   },
   {
    "duration": 981,
    "start_time": "2025-01-20T16:44:03.317Z"
   },
   {
    "duration": 125,
    "start_time": "2025-01-20T16:45:53.873Z"
   },
   {
    "duration": 167,
    "start_time": "2025-01-20T16:47:24.242Z"
   },
   {
    "duration": 28,
    "start_time": "2025-01-20T16:48:44.417Z"
   },
   {
    "duration": 4,
    "start_time": "2025-01-20T16:49:41.588Z"
   },
   {
    "duration": 11,
    "start_time": "2025-01-20T16:50:32.657Z"
   },
   {
    "duration": 119,
    "start_time": "2025-01-20T16:55:24.721Z"
   },
   {
    "duration": 40,
    "start_time": "2025-01-20T16:55:51.351Z"
   },
   {
    "duration": 18,
    "start_time": "2025-01-20T16:57:19.383Z"
   },
   {
    "duration": 15,
    "start_time": "2025-01-20T16:58:50.258Z"
   },
   {
    "duration": 7,
    "start_time": "2025-01-20T16:59:46.128Z"
   },
   {
    "duration": 8,
    "start_time": "2025-01-20T17:00:37.772Z"
   },
   {
    "duration": 1177,
    "start_time": "2025-01-20T17:05:31.619Z"
   },
   {
    "duration": 50,
    "start_time": "2025-01-20T17:05:32.798Z"
   },
   {
    "duration": 11,
    "start_time": "2025-01-20T17:05:32.851Z"
   },
   {
    "duration": 6,
    "start_time": "2025-01-20T17:05:32.863Z"
   },
   {
    "duration": 5,
    "start_time": "2025-01-20T17:05:32.871Z"
   },
   {
    "duration": 31,
    "start_time": "2025-01-20T17:05:32.878Z"
   },
   {
    "duration": 6,
    "start_time": "2025-01-20T17:05:32.911Z"
   },
   {
    "duration": 801,
    "start_time": "2025-01-20T17:05:32.920Z"
   },
   {
    "duration": 14,
    "start_time": "2025-01-20T17:05:33.723Z"
   },
   {
    "duration": 895,
    "start_time": "2025-01-20T17:05:33.740Z"
   },
   {
    "duration": 780,
    "start_time": "2025-01-20T17:05:34.636Z"
   },
   {
    "duration": 91,
    "start_time": "2025-01-20T17:05:35.418Z"
   },
   {
    "duration": 15,
    "start_time": "2025-01-20T17:05:35.511Z"
   },
   {
    "duration": 4,
    "start_time": "2025-01-20T17:05:35.528Z"
   },
   {
    "duration": 20,
    "start_time": "2025-01-20T17:05:35.534Z"
   },
   {
    "duration": 11,
    "start_time": "2025-01-20T17:05:35.556Z"
   },
   {
    "duration": 4,
    "start_time": "2025-01-20T17:05:35.570Z"
   },
   {
    "duration": 3,
    "start_time": "2025-01-20T17:05:35.576Z"
   },
   {
    "duration": 5,
    "start_time": "2025-01-20T17:05:35.609Z"
   },
   {
    "duration": 5,
    "start_time": "2025-01-20T17:05:35.615Z"
   },
   {
    "duration": 841,
    "start_time": "2025-01-20T17:05:35.621Z"
   },
   {
    "duration": 2063,
    "start_time": "2025-01-20T17:05:36.464Z"
   },
   {
    "duration": 12,
    "start_time": "2025-01-20T17:05:38.532Z"
   },
   {
    "duration": 2,
    "start_time": "2025-01-20T17:05:38.545Z"
   },
   {
    "duration": 2,
    "start_time": "2025-01-20T17:05:38.549Z"
   },
   {
    "duration": 3,
    "start_time": "2025-01-20T17:05:38.553Z"
   },
   {
    "duration": 20,
    "start_time": "2025-01-20T17:05:38.557Z"
   },
   {
    "duration": 149,
    "start_time": "2025-01-20T17:05:38.579Z"
   },
   {
    "duration": 4,
    "start_time": "2025-01-20T17:05:38.730Z"
   },
   {
    "duration": 7,
    "start_time": "2025-01-20T17:05:38.735Z"
   },
   {
    "duration": 31,
    "start_time": "2025-01-20T17:05:38.745Z"
   },
   {
    "duration": 31,
    "start_time": "2025-01-20T17:05:38.778Z"
   },
   {
    "duration": 8,
    "start_time": "2025-01-20T17:05:38.811Z"
   },
   {
    "duration": 125,
    "start_time": "2025-01-20T17:05:38.821Z"
   },
   {
    "duration": 8,
    "start_time": "2025-01-20T17:05:38.947Z"
   },
   {
    "duration": 18,
    "start_time": "2025-01-20T17:05:38.957Z"
   },
   {
    "duration": 42,
    "start_time": "2025-01-20T17:05:38.976Z"
   },
   {
    "duration": 21,
    "start_time": "2025-01-20T17:05:39.020Z"
   },
   {
    "duration": 112,
    "start_time": "2025-01-20T17:05:39.044Z"
   },
   {
    "duration": 6,
    "start_time": "2025-01-20T17:05:39.158Z"
   },
   {
    "duration": 516,
    "start_time": "2025-01-20T17:05:39.167Z"
   },
   {
    "duration": 2,
    "start_time": "2025-01-20T17:05:39.686Z"
   },
   {
    "duration": 3,
    "start_time": "2025-01-20T17:05:39.690Z"
   },
   {
    "duration": 16,
    "start_time": "2025-01-20T17:05:39.694Z"
   },
   {
    "duration": 36,
    "start_time": "2025-01-20T17:05:39.711Z"
   },
   {
    "duration": 8,
    "start_time": "2025-01-20T17:05:39.749Z"
   },
   {
    "duration": 752,
    "start_time": "2025-01-20T17:05:39.758Z"
   },
   {
    "duration": 107,
    "start_time": "2025-01-20T17:05:40.512Z"
   },
   {
    "duration": 17,
    "start_time": "2025-01-20T17:05:40.621Z"
   },
   {
    "duration": 11,
    "start_time": "2025-01-20T17:05:40.640Z"
   },
   {
    "duration": 697,
    "start_time": "2025-01-20T17:05:40.654Z"
   },
   {
    "duration": 284,
    "start_time": "2025-01-20T17:05:41.353Z"
   },
   {
    "duration": 10,
    "start_time": "2025-01-20T17:05:41.639Z"
   },
   {
    "duration": 168,
    "start_time": "2025-01-20T17:05:41.651Z"
   },
   {
    "duration": 131,
    "start_time": "2025-01-20T17:05:41.822Z"
   },
   {
    "duration": 67,
    "start_time": "2025-01-20T17:05:41.955Z"
   },
   {
    "duration": 15,
    "start_time": "2025-01-20T17:05:42.024Z"
   },
   {
    "duration": 5,
    "start_time": "2025-01-20T17:05:42.040Z"
   },
   {
    "duration": 7,
    "start_time": "2025-01-20T17:05:42.047Z"
   },
   {
    "duration": 128,
    "start_time": "2025-01-20T17:05:42.056Z"
   },
   {
    "duration": 140,
    "start_time": "2025-01-20T17:05:42.186Z"
   },
   {
    "duration": 12,
    "start_time": "2025-01-20T17:05:42.327Z"
   },
   {
    "duration": 4,
    "start_time": "2025-01-20T17:05:42.340Z"
   },
   {
    "duration": 10,
    "start_time": "2025-01-20T17:05:42.345Z"
   },
   {
    "duration": 992,
    "start_time": "2025-01-20T17:05:42.356Z"
   },
   {
    "duration": 133,
    "start_time": "2025-01-20T17:05:43.350Z"
   },
   {
    "duration": 161,
    "start_time": "2025-01-20T17:05:43.487Z"
   },
   {
    "duration": 24,
    "start_time": "2025-01-20T17:05:43.656Z"
   },
   {
    "duration": 3,
    "start_time": "2025-01-20T17:05:43.682Z"
   },
   {
    "duration": 29,
    "start_time": "2025-01-20T17:05:43.687Z"
   },
   {
    "duration": 41,
    "start_time": "2025-01-20T17:05:43.718Z"
   },
   {
    "duration": 18,
    "start_time": "2025-01-20T17:05:43.761Z"
   },
   {
    "duration": 35,
    "start_time": "2025-01-20T17:05:43.780Z"
   },
   {
    "duration": 4,
    "start_time": "2025-01-20T17:05:43.817Z"
   },
   {
    "duration": 6,
    "start_time": "2025-01-20T17:05:43.823Z"
   },
   {
    "duration": 1278,
    "start_time": "2025-01-20T17:06:53.883Z"
   },
   {
    "duration": 50,
    "start_time": "2025-01-20T17:06:55.164Z"
   },
   {
    "duration": 10,
    "start_time": "2025-01-20T17:06:55.216Z"
   },
   {
    "duration": 6,
    "start_time": "2025-01-20T17:06:55.228Z"
   },
   {
    "duration": 5,
    "start_time": "2025-01-20T17:06:55.237Z"
   },
   {
    "duration": 6,
    "start_time": "2025-01-20T17:06:55.243Z"
   },
   {
    "duration": 6,
    "start_time": "2025-01-20T17:06:55.250Z"
   },
   {
    "duration": 803,
    "start_time": "2025-01-20T17:06:55.258Z"
   },
   {
    "duration": 13,
    "start_time": "2025-01-20T17:06:56.062Z"
   },
   {
    "duration": 881,
    "start_time": "2025-01-20T17:06:56.077Z"
   },
   {
    "duration": 777,
    "start_time": "2025-01-20T17:06:56.960Z"
   },
   {
    "duration": 92,
    "start_time": "2025-01-20T17:06:57.739Z"
   },
   {
    "duration": 14,
    "start_time": "2025-01-20T17:06:57.833Z"
   },
   {
    "duration": 4,
    "start_time": "2025-01-20T17:06:57.851Z"
   },
   {
    "duration": 20,
    "start_time": "2025-01-20T17:06:57.857Z"
   },
   {
    "duration": 38,
    "start_time": "2025-01-20T17:06:57.879Z"
   },
   {
    "duration": 4,
    "start_time": "2025-01-20T17:06:57.919Z"
   },
   {
    "duration": 4,
    "start_time": "2025-01-20T17:06:57.925Z"
   },
   {
    "duration": 5,
    "start_time": "2025-01-20T17:06:57.931Z"
   },
   {
    "duration": 4,
    "start_time": "2025-01-20T17:06:57.938Z"
   },
   {
    "duration": 794,
    "start_time": "2025-01-20T17:06:57.944Z"
   },
   {
    "duration": 1995,
    "start_time": "2025-01-20T17:06:58.740Z"
   },
   {
    "duration": 12,
    "start_time": "2025-01-20T17:07:00.737Z"
   },
   {
    "duration": 3,
    "start_time": "2025-01-20T17:07:00.751Z"
   },
   {
    "duration": 2,
    "start_time": "2025-01-20T17:07:00.756Z"
   },
   {
    "duration": 3,
    "start_time": "2025-01-20T17:07:00.760Z"
   },
   {
    "duration": 45,
    "start_time": "2025-01-20T17:07:00.765Z"
   },
   {
    "duration": 118,
    "start_time": "2025-01-20T17:07:00.812Z"
   },
   {
    "duration": 4,
    "start_time": "2025-01-20T17:07:00.931Z"
   },
   {
    "duration": 6,
    "start_time": "2025-01-20T17:07:00.937Z"
   },
   {
    "duration": 33,
    "start_time": "2025-01-20T17:07:00.944Z"
   },
   {
    "duration": 32,
    "start_time": "2025-01-20T17:07:00.978Z"
   },
   {
    "duration": 8,
    "start_time": "2025-01-20T17:07:01.011Z"
   },
   {
    "duration": 126,
    "start_time": "2025-01-20T17:07:01.021Z"
   },
   {
    "duration": 7,
    "start_time": "2025-01-20T17:07:01.149Z"
   },
   {
    "duration": 17,
    "start_time": "2025-01-20T17:07:01.158Z"
   },
   {
    "duration": 35,
    "start_time": "2025-01-20T17:07:01.177Z"
   },
   {
    "duration": 18,
    "start_time": "2025-01-20T17:07:01.214Z"
   },
   {
    "duration": 113,
    "start_time": "2025-01-20T17:07:01.234Z"
   },
   {
    "duration": 7,
    "start_time": "2025-01-20T17:07:01.349Z"
   },
   {
    "duration": 504,
    "start_time": "2025-01-20T17:07:01.360Z"
   },
   {
    "duration": 3,
    "start_time": "2025-01-20T17:07:01.866Z"
   },
   {
    "duration": 4,
    "start_time": "2025-01-20T17:07:01.870Z"
   },
   {
    "duration": 3,
    "start_time": "2025-01-20T17:07:01.875Z"
   },
   {
    "duration": 52,
    "start_time": "2025-01-20T17:07:01.880Z"
   },
   {
    "duration": 7,
    "start_time": "2025-01-20T17:07:01.933Z"
   },
   {
    "duration": 727,
    "start_time": "2025-01-20T17:07:01.942Z"
   },
   {
    "duration": 100,
    "start_time": "2025-01-20T17:07:02.671Z"
   },
   {
    "duration": 16,
    "start_time": "2025-01-20T17:07:02.773Z"
   },
   {
    "duration": 24,
    "start_time": "2025-01-20T17:07:02.790Z"
   },
   {
    "duration": 716,
    "start_time": "2025-01-20T17:07:02.816Z"
   },
   {
    "duration": 269,
    "start_time": "2025-01-20T17:07:03.534Z"
   },
   {
    "duration": 14,
    "start_time": "2025-01-20T17:07:03.804Z"
   },
   {
    "duration": 169,
    "start_time": "2025-01-20T17:07:03.820Z"
   },
   {
    "duration": 131,
    "start_time": "2025-01-20T17:07:03.991Z"
   },
   {
    "duration": 60,
    "start_time": "2025-01-20T17:07:04.124Z"
   },
   {
    "duration": 32,
    "start_time": "2025-01-20T17:07:04.186Z"
   },
   {
    "duration": 6,
    "start_time": "2025-01-20T17:07:04.219Z"
   },
   {
    "duration": 7,
    "start_time": "2025-01-20T17:07:04.227Z"
   },
   {
    "duration": 115,
    "start_time": "2025-01-20T17:07:04.235Z"
   },
   {
    "duration": 145,
    "start_time": "2025-01-20T17:07:04.353Z"
   },
   {
    "duration": 18,
    "start_time": "2025-01-20T17:07:04.499Z"
   },
   {
    "duration": 4,
    "start_time": "2025-01-20T17:07:04.518Z"
   },
   {
    "duration": 11,
    "start_time": "2025-01-20T17:07:04.523Z"
   },
   {
    "duration": 956,
    "start_time": "2025-01-20T17:07:04.536Z"
   },
   {
    "duration": 132,
    "start_time": "2025-01-20T17:07:05.493Z"
   },
   {
    "duration": 167,
    "start_time": "2025-01-20T17:07:05.627Z"
   },
   {
    "duration": 29,
    "start_time": "2025-01-20T17:07:05.796Z"
   },
   {
    "duration": 3,
    "start_time": "2025-01-20T17:07:05.827Z"
   },
   {
    "duration": 9,
    "start_time": "2025-01-20T17:07:05.833Z"
   },
   {
    "duration": 40,
    "start_time": "2025-01-20T17:07:05.843Z"
   },
   {
    "duration": 40,
    "start_time": "2025-01-20T17:07:05.885Z"
   },
   {
    "duration": 15,
    "start_time": "2025-01-20T17:07:05.926Z"
   },
   {
    "duration": 5,
    "start_time": "2025-01-20T17:07:05.942Z"
   },
   {
    "duration": 6,
    "start_time": "2025-01-20T17:07:05.949Z"
   },
   {
    "duration": 1371,
    "start_time": "2025-01-20T19:56:57.643Z"
   },
   {
    "duration": 58,
    "start_time": "2025-01-20T19:56:59.016Z"
   },
   {
    "duration": 11,
    "start_time": "2025-01-20T19:56:59.077Z"
   },
   {
    "duration": 6,
    "start_time": "2025-01-20T19:56:59.092Z"
   },
   {
    "duration": 6,
    "start_time": "2025-01-20T19:56:59.102Z"
   },
   {
    "duration": 6,
    "start_time": "2025-01-20T19:56:59.131Z"
   },
   {
    "duration": 7,
    "start_time": "2025-01-20T19:56:59.140Z"
   },
   {
    "duration": 872,
    "start_time": "2025-01-20T19:56:59.148Z"
   },
   {
    "duration": 19,
    "start_time": "2025-01-20T19:57:00.022Z"
   },
   {
    "duration": 955,
    "start_time": "2025-01-20T19:57:00.044Z"
   },
   {
    "duration": 802,
    "start_time": "2025-01-20T19:57:01.001Z"
   },
   {
    "duration": 93,
    "start_time": "2025-01-20T19:57:01.804Z"
   },
   {
    "duration": 13,
    "start_time": "2025-01-20T19:57:01.899Z"
   },
   {
    "duration": 19,
    "start_time": "2025-01-20T19:57:01.913Z"
   },
   {
    "duration": 22,
    "start_time": "2025-01-20T19:57:01.934Z"
   },
   {
    "duration": 15,
    "start_time": "2025-01-20T19:57:01.958Z"
   },
   {
    "duration": 6,
    "start_time": "2025-01-20T19:57:01.974Z"
   },
   {
    "duration": 5,
    "start_time": "2025-01-20T19:57:01.982Z"
   },
   {
    "duration": 5,
    "start_time": "2025-01-20T19:57:01.989Z"
   },
   {
    "duration": 38,
    "start_time": "2025-01-20T19:57:01.995Z"
   },
   {
    "duration": 886,
    "start_time": "2025-01-20T19:57:02.034Z"
   },
   {
    "duration": 2074,
    "start_time": "2025-01-20T19:57:02.922Z"
   },
   {
    "duration": 11,
    "start_time": "2025-01-20T19:57:04.998Z"
   },
   {
    "duration": 2,
    "start_time": "2025-01-20T19:57:05.010Z"
   },
   {
    "duration": 17,
    "start_time": "2025-01-20T19:57:05.014Z"
   },
   {
    "duration": 3,
    "start_time": "2025-01-20T19:57:05.032Z"
   },
   {
    "duration": 20,
    "start_time": "2025-01-20T19:57:05.037Z"
   },
   {
    "duration": 140,
    "start_time": "2025-01-20T19:57:05.061Z"
   },
   {
    "duration": 4,
    "start_time": "2025-01-20T19:57:05.203Z"
   },
   {
    "duration": 22,
    "start_time": "2025-01-20T19:57:05.209Z"
   },
   {
    "duration": 31,
    "start_time": "2025-01-20T19:57:05.233Z"
   },
   {
    "duration": 8,
    "start_time": "2025-01-20T19:57:05.266Z"
   },
   {
    "duration": 8,
    "start_time": "2025-01-20T19:57:05.275Z"
   },
   {
    "duration": 157,
    "start_time": "2025-01-20T19:57:05.284Z"
   },
   {
    "duration": 7,
    "start_time": "2025-01-20T19:57:05.443Z"
   },
   {
    "duration": 14,
    "start_time": "2025-01-20T19:57:05.452Z"
   },
   {
    "duration": 20,
    "start_time": "2025-01-20T19:57:05.468Z"
   },
   {
    "duration": 45,
    "start_time": "2025-01-20T19:57:05.489Z"
   },
   {
    "duration": 108,
    "start_time": "2025-01-20T19:57:05.535Z"
   },
   {
    "duration": 7,
    "start_time": "2025-01-20T19:57:05.645Z"
   },
   {
    "duration": 554,
    "start_time": "2025-01-20T19:57:05.653Z"
   },
   {
    "duration": 2,
    "start_time": "2025-01-20T19:57:06.209Z"
   },
   {
    "duration": 20,
    "start_time": "2025-01-20T19:57:06.213Z"
   },
   {
    "duration": 3,
    "start_time": "2025-01-20T19:57:06.235Z"
   },
   {
    "duration": 37,
    "start_time": "2025-01-20T19:57:06.240Z"
   },
   {
    "duration": 7,
    "start_time": "2025-01-20T19:57:06.279Z"
   },
   {
    "duration": 795,
    "start_time": "2025-01-20T19:57:06.288Z"
   },
   {
    "duration": 100,
    "start_time": "2025-01-20T19:57:07.085Z"
   },
   {
    "duration": 16,
    "start_time": "2025-01-20T19:57:07.187Z"
   },
   {
    "duration": 26,
    "start_time": "2025-01-20T19:57:07.205Z"
   },
   {
    "duration": 724,
    "start_time": "2025-01-20T19:57:07.233Z"
   },
   {
    "duration": 313,
    "start_time": "2025-01-20T19:57:07.959Z"
   },
   {
    "duration": 11,
    "start_time": "2025-01-20T19:57:08.274Z"
   },
   {
    "duration": 178,
    "start_time": "2025-01-20T19:57:08.287Z"
   },
   {
    "duration": 140,
    "start_time": "2025-01-20T19:57:08.466Z"
   },
   {
    "duration": 64,
    "start_time": "2025-01-20T19:57:08.608Z"
   },
   {
    "duration": 17,
    "start_time": "2025-01-20T19:57:08.674Z"
   },
   {
    "duration": 7,
    "start_time": "2025-01-20T19:57:08.692Z"
   },
   {
    "duration": 7,
    "start_time": "2025-01-20T19:57:08.700Z"
   },
   {
    "duration": 122,
    "start_time": "2025-01-20T19:57:08.709Z"
   },
   {
    "duration": 133,
    "start_time": "2025-01-20T19:57:08.832Z"
   },
   {
    "duration": 14,
    "start_time": "2025-01-20T19:57:08.966Z"
   },
   {
    "duration": 3,
    "start_time": "2025-01-20T19:57:08.983Z"
   },
   {
    "duration": 15,
    "start_time": "2025-01-20T19:57:08.987Z"
   },
   {
    "duration": 1012,
    "start_time": "2025-01-20T19:57:09.004Z"
   },
   {
    "duration": 135,
    "start_time": "2025-01-20T19:57:10.018Z"
   },
   {
    "duration": 177,
    "start_time": "2025-01-20T19:57:10.155Z"
   },
   {
    "duration": 22,
    "start_time": "2025-01-20T19:57:10.334Z"
   },
   {
    "duration": 3,
    "start_time": "2025-01-20T19:57:10.358Z"
   },
   {
    "duration": 10,
    "start_time": "2025-01-20T19:57:10.363Z"
   },
   {
    "duration": 66,
    "start_time": "2025-01-20T19:57:10.374Z"
   },
   {
    "duration": 17,
    "start_time": "2025-01-20T19:57:10.442Z"
   },
   {
    "duration": 15,
    "start_time": "2025-01-20T19:57:10.461Z"
   },
   {
    "duration": 5,
    "start_time": "2025-01-20T19:57:10.478Z"
   },
   {
    "duration": 7,
    "start_time": "2025-01-20T19:57:10.484Z"
   },
   {
    "duration": 61,
    "start_time": "2025-01-20T20:04:06.779Z"
   },
   {
    "duration": 12,
    "start_time": "2025-01-20T20:04:07.692Z"
   },
   {
    "duration": 12,
    "start_time": "2025-01-20T20:04:08.238Z"
   },
   {
    "duration": 157,
    "start_time": "2025-01-20T20:04:09.342Z"
   },
   {
    "duration": 198,
    "start_time": "2025-01-20T20:05:23.985Z"
   },
   {
    "duration": 14,
    "start_time": "2025-01-20T20:05:28.480Z"
   },
   {
    "duration": 3228,
    "start_time": "2025-01-21T17:16:36.963Z"
   },
   {
    "duration": 47,
    "start_time": "2025-01-21T17:16:45.529Z"
   },
   {
    "duration": 10,
    "start_time": "2025-01-21T17:16:50.303Z"
   },
   {
    "duration": 7,
    "start_time": "2025-01-21T17:16:53.368Z"
   },
   {
    "duration": 6,
    "start_time": "2025-01-21T17:16:56.773Z"
   },
   {
    "duration": 6,
    "start_time": "2025-01-21T17:16:59.568Z"
   },
   {
    "duration": 6,
    "start_time": "2025-01-21T17:17:02.754Z"
   },
   {
    "duration": 802,
    "start_time": "2025-01-21T17:17:06.701Z"
   },
   {
    "duration": 13,
    "start_time": "2025-01-21T17:17:13.568Z"
   },
   {
    "duration": 895,
    "start_time": "2025-01-21T17:17:29.170Z"
   },
   {
    "duration": 734,
    "start_time": "2025-01-21T17:17:36.104Z"
   },
   {
    "duration": 103,
    "start_time": "2025-01-21T17:17:41.435Z"
   },
   {
    "duration": 13,
    "start_time": "2025-01-21T17:17:46.779Z"
   },
   {
    "duration": 6,
    "start_time": "2025-01-21T17:17:49.630Z"
   },
   {
    "duration": 20,
    "start_time": "2025-01-21T17:17:56.031Z"
   },
   {
    "duration": 12,
    "start_time": "2025-01-21T17:18:01.186Z"
   },
   {
    "duration": 4,
    "start_time": "2025-01-21T17:18:08.850Z"
   },
   {
    "duration": 4,
    "start_time": "2025-01-21T17:18:12.638Z"
   },
   {
    "duration": 6,
    "start_time": "2025-01-21T17:18:17.166Z"
   },
   {
    "duration": 5,
    "start_time": "2025-01-21T17:18:20.988Z"
   },
   {
    "duration": 819,
    "start_time": "2025-01-21T17:18:24.567Z"
   },
   {
    "duration": 2029,
    "start_time": "2025-01-21T17:18:29.217Z"
   },
   {
    "duration": 11,
    "start_time": "2025-01-21T17:18:39.757Z"
   },
   {
    "duration": 20,
    "start_time": "2025-01-21T17:20:55.843Z"
   },
   {
    "duration": 130,
    "start_time": "2025-01-21T17:21:12.386Z"
   },
   {
    "duration": 5,
    "start_time": "2025-01-21T17:21:19.145Z"
   },
   {
    "duration": 6,
    "start_time": "2025-01-21T17:21:25.851Z"
   },
   {
    "duration": 32,
    "start_time": "2025-01-21T17:21:32.668Z"
   },
   {
    "duration": 7,
    "start_time": "2025-01-21T17:21:39.759Z"
   },
   {
    "duration": 9,
    "start_time": "2025-01-21T17:21:45.634Z"
   },
   {
    "duration": 160,
    "start_time": "2025-01-21T17:21:57.630Z"
   },
   {
    "duration": 7,
    "start_time": "2025-01-21T17:22:13.981Z"
   },
   {
    "duration": 12,
    "start_time": "2025-01-21T17:22:18.676Z"
   },
   {
    "duration": 51,
    "start_time": "2025-01-21T17:23:48.259Z"
   },
   {
    "duration": 34,
    "start_time": "2025-01-21T17:25:43.215Z"
   },
   {
    "duration": 234,
    "start_time": "2025-01-21T17:26:13.799Z"
   },
   {
    "duration": 1747,
    "start_time": "2025-01-21T17:30:21.314Z"
   },
   {
    "duration": 52,
    "start_time": "2025-01-21T17:30:26.332Z"
   },
   {
    "duration": 17,
    "start_time": "2025-01-21T17:30:31.080Z"
   },
   {
    "duration": 7,
    "start_time": "2025-01-21T17:30:34.028Z"
   },
   {
    "duration": 6,
    "start_time": "2025-01-21T17:30:36.776Z"
   },
   {
    "duration": 6,
    "start_time": "2025-01-21T17:30:39.703Z"
   },
   {
    "duration": 6,
    "start_time": "2025-01-21T17:30:42.542Z"
   },
   {
    "duration": 788,
    "start_time": "2025-01-21T17:30:45.816Z"
   },
   {
    "duration": 13,
    "start_time": "2025-01-21T17:30:49.110Z"
   },
   {
    "duration": 894,
    "start_time": "2025-01-21T17:30:52.572Z"
   },
   {
    "duration": 796,
    "start_time": "2025-01-21T17:30:56.044Z"
   },
   {
    "duration": 101,
    "start_time": "2025-01-21T17:30:59.015Z"
   },
   {
    "duration": 13,
    "start_time": "2025-01-21T17:31:03.278Z"
   },
   {
    "duration": 6,
    "start_time": "2025-01-21T17:31:06.127Z"
   },
   {
    "duration": 20,
    "start_time": "2025-01-21T17:31:11.236Z"
   },
   {
    "duration": 11,
    "start_time": "2025-01-21T17:31:14.287Z"
   },
   {
    "duration": 5,
    "start_time": "2025-01-21T17:31:17.769Z"
   },
   {
    "duration": 5,
    "start_time": "2025-01-21T17:31:21.619Z"
   },
   {
    "duration": 6,
    "start_time": "2025-01-21T17:31:24.922Z"
   },
   {
    "duration": 6,
    "start_time": "2025-01-21T17:31:28.780Z"
   },
   {
    "duration": 927,
    "start_time": "2025-01-21T17:31:31.727Z"
   },
   {
    "duration": 2027,
    "start_time": "2025-01-21T17:31:35.408Z"
   },
   {
    "duration": 12,
    "start_time": "2025-01-21T17:31:41.869Z"
   },
   {
    "duration": 21,
    "start_time": "2025-01-21T17:31:47.698Z"
   },
   {
    "duration": 123,
    "start_time": "2025-01-21T17:31:51.946Z"
   },
   {
    "duration": 5,
    "start_time": "2025-01-21T17:31:56.625Z"
   },
   {
    "duration": 6,
    "start_time": "2025-01-21T17:32:03.211Z"
   },
   {
    "duration": 33,
    "start_time": "2025-01-21T17:32:06.169Z"
   },
   {
    "duration": 8,
    "start_time": "2025-01-21T17:32:09.052Z"
   },
   {
    "duration": 9,
    "start_time": "2025-01-21T17:32:13.001Z"
   },
   {
    "duration": 145,
    "start_time": "2025-01-21T17:32:19.955Z"
   },
   {
    "duration": 7,
    "start_time": "2025-01-21T17:32:31.564Z"
   },
   {
    "duration": 12,
    "start_time": "2025-01-21T17:32:34.689Z"
   },
   {
    "duration": 41,
    "start_time": "2025-01-21T17:32:40.525Z"
   },
   {
    "duration": 240,
    "start_time": "2025-01-21T17:33:18.127Z"
   },
   {
    "duration": 1783,
    "start_time": "2025-01-21T18:00:31.743Z"
   },
   {
    "duration": 112,
    "start_time": "2025-01-21T18:02:55.613Z"
   },
   {
    "duration": 31,
    "start_time": "2025-01-21T18:03:53.801Z"
   },
   {
    "duration": 13,
    "start_time": "2025-01-21T18:04:27.508Z"
   },
   {
    "duration": 10,
    "start_time": "2025-01-21T18:05:01.152Z"
   },
   {
    "duration": 941,
    "start_time": "2025-01-21T18:05:23.860Z"
   },
   {
    "duration": 19,
    "start_time": "2025-01-21T18:07:13.910Z"
   },
   {
    "duration": 984,
    "start_time": "2025-01-21T18:07:19.938Z"
   },
   {
    "duration": 828,
    "start_time": "2025-01-21T18:07:33.151Z"
   },
   {
    "duration": 162,
    "start_time": "2025-01-21T18:07:42.778Z"
   },
   {
    "duration": 16,
    "start_time": "2025-01-21T18:08:04.243Z"
   },
   {
    "duration": 7,
    "start_time": "2025-01-21T18:08:06.873Z"
   },
   {
    "duration": 30,
    "start_time": "2025-01-21T18:08:13.279Z"
   },
   {
    "duration": 14,
    "start_time": "2025-01-21T18:08:16.383Z"
   },
   {
    "duration": 4,
    "start_time": "2025-01-21T18:09:25.902Z"
   },
   {
    "duration": 5,
    "start_time": "2025-01-21T18:10:25.610Z"
   },
   {
    "duration": 2198,
    "start_time": "2025-01-21T18:15:19.800Z"
   },
   {
    "duration": 16,
    "start_time": "2025-01-21T18:15:31.529Z"
   },
   {
    "duration": 20,
    "start_time": "2025-01-21T18:15:40.258Z"
   },
   {
    "duration": 173,
    "start_time": "2025-01-21T18:15:46.223Z"
   },
   {
    "duration": 5,
    "start_time": "2025-01-21T18:15:51.270Z"
   },
   {
    "duration": 10,
    "start_time": "2025-01-21T18:16:52.772Z"
   },
   {
    "duration": 45,
    "start_time": "2025-01-21T18:17:09.038Z"
   },
   {
    "duration": 10,
    "start_time": "2025-01-21T18:17:13.078Z"
   },
   {
    "duration": 9,
    "start_time": "2025-01-21T18:17:16.716Z"
   },
   {
    "duration": 179,
    "start_time": "2025-01-21T18:17:23.095Z"
   },
   {
    "duration": 8,
    "start_time": "2025-01-21T18:17:41.032Z"
   },
   {
    "duration": 14,
    "start_time": "2025-01-21T18:17:50.257Z"
   },
   {
    "duration": 44,
    "start_time": "2025-01-21T18:18:15.759Z"
   },
   {
    "duration": 258,
    "start_time": "2025-01-21T18:18:35.231Z"
   },
   {
    "duration": 323,
    "start_time": "2025-01-21T18:19:33.610Z"
   },
   {
    "duration": 35,
    "start_time": "2025-01-21T18:19:59.056Z"
   },
   {
    "duration": 159,
    "start_time": "2025-01-21T18:27:57.072Z"
   },
   {
    "duration": 103,
    "start_time": "2025-01-21T18:34:33.027Z"
   },
   {
    "duration": 6,
    "start_time": "2025-01-21T18:34:40.240Z"
   },
   {
    "duration": 160,
    "start_time": "2025-01-21T18:38:37.039Z"
   },
   {
    "duration": 222,
    "start_time": "2025-01-21T18:49:34.679Z"
   },
   {
    "duration": 42,
    "start_time": "2025-01-21T18:59:59.125Z"
   },
   {
    "duration": 7,
    "start_time": "2025-01-21T19:00:18.779Z"
   },
   {
    "duration": 207,
    "start_time": "2025-01-21T19:04:13.811Z"
   },
   {
    "duration": 196,
    "start_time": "2025-01-21T19:06:38.795Z"
   },
   {
    "duration": 227,
    "start_time": "2025-01-21T19:07:59.808Z"
   },
   {
    "duration": 705,
    "start_time": "2025-01-21T19:19:52.613Z"
   },
   {
    "duration": 97,
    "start_time": "2025-01-21T19:19:57.165Z"
   },
   {
    "duration": 17,
    "start_time": "2025-01-21T19:20:00.954Z"
   },
   {
    "duration": 16,
    "start_time": "2025-01-21T19:20:05.323Z"
   },
   {
    "duration": 20,
    "start_time": "2025-01-21T19:22:25.854Z"
   },
   {
    "duration": 521,
    "start_time": "2025-01-21T19:23:38.791Z"
   },
   {
    "duration": 290,
    "start_time": "2025-01-21T19:28:28.552Z"
   },
   {
    "duration": 11,
    "start_time": "2025-01-21T19:28:33.232Z"
   },
   {
    "duration": 158,
    "start_time": "2025-01-21T19:28:45.752Z"
   },
   {
    "duration": 155,
    "start_time": "2025-01-21T19:42:36.160Z"
   },
   {
    "duration": 215,
    "start_time": "2025-01-21T19:45:34.078Z"
   },
   {
    "duration": 288,
    "start_time": "2025-01-21T19:48:49.429Z"
   },
   {
    "duration": 173,
    "start_time": "2025-01-21T19:50:05.300Z"
   },
   {
    "duration": 49,
    "start_time": "2025-01-21T20:02:26.715Z"
   },
   {
    "duration": 18,
    "start_time": "2025-01-21T20:04:28.400Z"
   },
   {
    "duration": 8,
    "start_time": "2025-01-21T20:04:35.151Z"
   },
   {
    "duration": 7,
    "start_time": "2025-01-21T20:04:40.675Z"
   },
   {
    "duration": 895,
    "start_time": "2025-01-21T20:11:46.158Z"
   },
   {
    "duration": 234,
    "start_time": "2025-01-21T20:15:58.724Z"
   },
   {
    "duration": 97,
    "start_time": "2025-01-21T20:16:27.506Z"
   },
   {
    "duration": 118,
    "start_time": "2025-01-21T20:16:31.406Z"
   },
   {
    "duration": 12,
    "start_time": "2025-01-21T20:16:34.981Z"
   },
   {
    "duration": 4,
    "start_time": "2025-01-21T20:16:39.764Z"
   },
   {
    "duration": 15,
    "start_time": "2025-01-21T20:16:42.465Z"
   },
   {
    "duration": 1017,
    "start_time": "2025-01-21T20:16:47.505Z"
   },
   {
    "duration": 127,
    "start_time": "2025-01-21T20:16:52.629Z"
   },
   {
    "duration": 155,
    "start_time": "2025-01-21T20:16:56.005Z"
   },
   {
    "duration": 25,
    "start_time": "2025-01-21T20:17:03.585Z"
   },
   {
    "duration": 4,
    "start_time": "2025-01-21T20:17:06.276Z"
   },
   {
    "duration": 11,
    "start_time": "2025-01-21T20:17:09.817Z"
   },
   {
    "duration": 36,
    "start_time": "2025-01-21T20:17:15.766Z"
   },
   {
    "duration": 17,
    "start_time": "2025-01-21T20:17:21.097Z"
   },
   {
    "duration": 17,
    "start_time": "2025-01-21T20:17:24.217Z"
   },
   {
    "duration": 6,
    "start_time": "2025-01-21T20:17:28.025Z"
   },
   {
    "duration": 8,
    "start_time": "2025-01-21T20:17:30.686Z"
   },
   {
    "duration": 236,
    "start_time": "2025-01-21T20:23:03.705Z"
   },
   {
    "duration": 1705,
    "start_time": "2025-01-21T20:27:14.842Z"
   },
   {
    "duration": 115,
    "start_time": "2025-01-21T20:27:16.549Z"
   },
   {
    "duration": 21,
    "start_time": "2025-01-21T20:27:16.667Z"
   },
   {
    "duration": 9,
    "start_time": "2025-01-21T20:27:16.691Z"
   },
   {
    "duration": 32,
    "start_time": "2025-01-21T20:27:16.702Z"
   },
   {
    "duration": 871,
    "start_time": "2025-01-21T20:27:16.736Z"
   },
   {
    "duration": 22,
    "start_time": "2025-01-21T20:27:17.609Z"
   },
   {
    "duration": 971,
    "start_time": "2025-01-21T20:27:17.633Z"
   },
   {
    "duration": 758,
    "start_time": "2025-01-21T20:27:18.606Z"
   },
   {
    "duration": 109,
    "start_time": "2025-01-21T20:27:19.367Z"
   },
   {
    "duration": 12,
    "start_time": "2025-01-21T20:27:19.478Z"
   },
   {
    "duration": 5,
    "start_time": "2025-01-21T20:27:19.492Z"
   },
   {
    "duration": 38,
    "start_time": "2025-01-21T20:27:19.499Z"
   },
   {
    "duration": 10,
    "start_time": "2025-01-21T20:27:19.539Z"
   },
   {
    "duration": 5,
    "start_time": "2025-01-21T20:27:19.550Z"
   },
   {
    "duration": 5,
    "start_time": "2025-01-21T20:27:19.556Z"
   },
   {
    "duration": 2141,
    "start_time": "2025-01-21T20:27:19.562Z"
   },
   {
    "duration": 11,
    "start_time": "2025-01-21T20:27:21.704Z"
   },
   {
    "duration": 29,
    "start_time": "2025-01-21T20:27:21.717Z"
   },
   {
    "duration": 133,
    "start_time": "2025-01-21T20:27:21.748Z"
   },
   {
    "duration": 4,
    "start_time": "2025-01-21T20:27:21.883Z"
   },
   {
    "duration": 6,
    "start_time": "2025-01-21T20:27:21.889Z"
   },
   {
    "duration": 43,
    "start_time": "2025-01-21T20:27:21.896Z"
   },
   {
    "duration": 9,
    "start_time": "2025-01-21T20:27:21.941Z"
   },
   {
    "duration": 9,
    "start_time": "2025-01-21T20:27:21.953Z"
   },
   {
    "duration": 162,
    "start_time": "2025-01-21T20:27:21.963Z"
   },
   {
    "duration": 6,
    "start_time": "2025-01-21T20:27:22.127Z"
   },
   {
    "duration": 11,
    "start_time": "2025-01-21T20:27:22.139Z"
   },
   {
    "duration": 43,
    "start_time": "2025-01-21T20:27:22.151Z"
   },
   {
    "duration": 257,
    "start_time": "2025-01-21T20:27:22.196Z"
   },
   {
    "duration": 40,
    "start_time": "2025-01-21T20:27:22.454Z"
   },
   {
    "duration": 159,
    "start_time": "2025-01-21T20:27:22.496Z"
   },
   {
    "duration": 106,
    "start_time": "2025-01-21T20:27:22.657Z"
   },
   {
    "duration": 7,
    "start_time": "2025-01-21T20:27:22.765Z"
   },
   {
    "duration": 223,
    "start_time": "2025-01-21T20:27:22.773Z"
   },
   {
    "duration": 233,
    "start_time": "2025-01-21T20:27:22.998Z"
   },
   {
    "duration": 38,
    "start_time": "2025-01-21T20:27:23.233Z"
   },
   {
    "duration": 7,
    "start_time": "2025-01-21T20:27:23.273Z"
   },
   {
    "duration": 220,
    "start_time": "2025-01-21T20:27:23.283Z"
   },
   {
    "duration": 778,
    "start_time": "2025-01-21T20:27:23.505Z"
   },
   {
    "duration": 116,
    "start_time": "2025-01-21T20:27:24.285Z"
   },
   {
    "duration": 20,
    "start_time": "2025-01-21T20:27:24.403Z"
   },
   {
    "duration": 16,
    "start_time": "2025-01-21T20:27:24.432Z"
   },
   {
    "duration": 317,
    "start_time": "2025-01-21T20:27:24.450Z"
   },
   {
    "duration": 301,
    "start_time": "2025-01-21T20:27:24.769Z"
   },
   {
    "duration": 11,
    "start_time": "2025-01-21T20:27:25.072Z"
   },
   {
    "duration": 267,
    "start_time": "2025-01-21T20:27:25.085Z"
   },
   {
    "duration": 212,
    "start_time": "2025-01-21T20:27:25.353Z"
   },
   {
    "duration": 71,
    "start_time": "2025-01-21T20:27:25.566Z"
   },
   {
    "duration": 16,
    "start_time": "2025-01-21T20:27:25.638Z"
   },
   {
    "duration": 6,
    "start_time": "2025-01-21T20:27:25.656Z"
   },
   {
    "duration": 6,
    "start_time": "2025-01-21T20:27:25.663Z"
   },
   {
    "duration": 248,
    "start_time": "2025-01-21T20:27:25.671Z"
   },
   {
    "duration": 111,
    "start_time": "2025-01-21T20:27:25.921Z"
   },
   {
    "duration": 135,
    "start_time": "2025-01-21T20:27:26.033Z"
   },
   {
    "duration": 12,
    "start_time": "2025-01-21T20:27:26.170Z"
   },
   {
    "duration": 4,
    "start_time": "2025-01-21T20:27:26.184Z"
   },
   {
    "duration": 9,
    "start_time": "2025-01-21T20:27:26.190Z"
   },
   {
    "duration": 1020,
    "start_time": "2025-01-21T20:27:26.201Z"
   },
   {
    "duration": 143,
    "start_time": "2025-01-21T20:27:27.223Z"
   },
   {
    "duration": 159,
    "start_time": "2025-01-21T20:27:27.368Z"
   },
   {
    "duration": 29,
    "start_time": "2025-01-21T20:27:27.531Z"
   },
   {
    "duration": 3,
    "start_time": "2025-01-21T20:27:27.562Z"
   },
   {
    "duration": 11,
    "start_time": "2025-01-21T20:27:27.566Z"
   },
   {
    "duration": 58,
    "start_time": "2025-01-21T20:27:27.579Z"
   },
   {
    "duration": 25,
    "start_time": "2025-01-21T20:27:27.639Z"
   },
   {
    "duration": 21,
    "start_time": "2025-01-21T20:27:27.666Z"
   },
   {
    "duration": 7,
    "start_time": "2025-01-21T20:27:27.689Z"
   },
   {
    "duration": 8,
    "start_time": "2025-01-21T20:27:27.697Z"
   },
   {
    "duration": 242,
    "start_time": "2025-01-21T20:27:27.734Z"
   },
   {
    "duration": 1789,
    "start_time": "2025-01-21T20:42:02.368Z"
   },
   {
    "duration": 114,
    "start_time": "2025-01-21T20:42:04.160Z"
   },
   {
    "duration": 21,
    "start_time": "2025-01-21T20:42:04.276Z"
   },
   {
    "duration": 19,
    "start_time": "2025-01-21T20:42:04.298Z"
   },
   {
    "duration": 9,
    "start_time": "2025-01-21T20:42:04.319Z"
   },
   {
    "duration": 864,
    "start_time": "2025-01-21T20:42:04.329Z"
   },
   {
    "duration": 17,
    "start_time": "2025-01-21T20:42:05.196Z"
   },
   {
    "duration": 918,
    "start_time": "2025-01-21T20:42:05.215Z"
   },
   {
    "duration": 763,
    "start_time": "2025-01-21T20:42:06.136Z"
   },
   {
    "duration": 83,
    "start_time": "2025-01-21T20:42:06.902Z"
   },
   {
    "duration": 23,
    "start_time": "2025-01-21T20:42:06.987Z"
   },
   {
    "duration": 5,
    "start_time": "2025-01-21T20:42:07.011Z"
   },
   {
    "duration": 20,
    "start_time": "2025-01-21T20:42:07.018Z"
   },
   {
    "duration": 11,
    "start_time": "2025-01-21T20:42:07.042Z"
   },
   {
    "duration": 4,
    "start_time": "2025-01-21T20:42:07.054Z"
   },
   {
    "duration": 4,
    "start_time": "2025-01-21T20:42:07.060Z"
   },
   {
    "duration": 2159,
    "start_time": "2025-01-21T20:42:07.065Z"
   },
   {
    "duration": 12,
    "start_time": "2025-01-21T20:42:09.226Z"
   },
   {
    "duration": 20,
    "start_time": "2025-01-21T20:42:09.239Z"
   },
   {
    "duration": 156,
    "start_time": "2025-01-21T20:42:09.260Z"
   },
   {
    "duration": 5,
    "start_time": "2025-01-21T20:42:09.417Z"
   },
   {
    "duration": 7,
    "start_time": "2025-01-21T20:42:09.424Z"
   },
   {
    "duration": 37,
    "start_time": "2025-01-21T20:42:09.433Z"
   },
   {
    "duration": 8,
    "start_time": "2025-01-21T20:42:09.471Z"
   },
   {
    "duration": 9,
    "start_time": "2025-01-21T20:42:09.509Z"
   },
   {
    "duration": 133,
    "start_time": "2025-01-21T20:42:09.519Z"
   },
   {
    "duration": 7,
    "start_time": "2025-01-21T20:42:09.655Z"
   },
   {
    "duration": 13,
    "start_time": "2025-01-21T20:42:09.664Z"
   },
   {
    "duration": 61,
    "start_time": "2025-01-21T20:42:09.678Z"
   },
   {
    "duration": 241,
    "start_time": "2025-01-21T20:42:09.741Z"
   },
   {
    "duration": 49,
    "start_time": "2025-01-21T20:42:09.984Z"
   },
   {
    "duration": 149,
    "start_time": "2025-01-21T20:42:10.034Z"
   },
   {
    "duration": 110,
    "start_time": "2025-01-21T20:42:10.186Z"
   },
   {
    "duration": 12,
    "start_time": "2025-01-21T20:42:10.298Z"
   },
   {
    "duration": 221,
    "start_time": "2025-01-21T20:42:10.311Z"
   },
   {
    "duration": 226,
    "start_time": "2025-01-21T20:42:10.534Z"
   },
   {
    "duration": 47,
    "start_time": "2025-01-21T20:42:10.762Z"
   },
   {
    "duration": 8,
    "start_time": "2025-01-21T20:42:10.811Z"
   },
   {
    "duration": 213,
    "start_time": "2025-01-21T20:42:10.821Z"
   },
   {
    "duration": 743,
    "start_time": "2025-01-21T20:42:11.036Z"
   },
   {
    "duration": 104,
    "start_time": "2025-01-21T20:42:11.784Z"
   },
   {
    "duration": 21,
    "start_time": "2025-01-21T20:42:11.890Z"
   },
   {
    "duration": 11,
    "start_time": "2025-01-21T20:42:11.914Z"
   },
   {
    "duration": 296,
    "start_time": "2025-01-21T20:42:11.926Z"
   },
   {
    "duration": 272,
    "start_time": "2025-01-21T20:42:12.224Z"
   },
   {
    "duration": 15,
    "start_time": "2025-01-21T20:42:12.497Z"
   },
   {
    "duration": 272,
    "start_time": "2025-01-21T20:42:12.515Z"
   },
   {
    "duration": 182,
    "start_time": "2025-01-21T20:42:12.789Z"
   },
   {
    "duration": 70,
    "start_time": "2025-01-21T20:42:12.973Z"
   },
   {
    "duration": 15,
    "start_time": "2025-01-21T20:42:13.045Z"
   },
   {
    "duration": 6,
    "start_time": "2025-01-21T20:42:13.062Z"
   },
   {
    "duration": 6,
    "start_time": "2025-01-21T20:42:13.069Z"
   },
   {
    "duration": 236,
    "start_time": "2025-01-21T20:42:13.077Z"
   },
   {
    "duration": 108,
    "start_time": "2025-01-21T20:42:13.315Z"
   },
   {
    "duration": 133,
    "start_time": "2025-01-21T20:42:13.425Z"
   },
   {
    "duration": 14,
    "start_time": "2025-01-21T20:42:13.560Z"
   },
   {
    "duration": 4,
    "start_time": "2025-01-21T20:42:13.575Z"
   },
   {
    "duration": 28,
    "start_time": "2025-01-21T20:42:13.581Z"
   },
   {
    "duration": 950,
    "start_time": "2025-01-21T20:42:13.611Z"
   },
   {
    "duration": 138,
    "start_time": "2025-01-21T20:42:14.563Z"
   },
   {
    "duration": 198,
    "start_time": "2025-01-21T20:42:14.703Z"
   },
   {
    "duration": 24,
    "start_time": "2025-01-21T20:42:14.903Z"
   },
   {
    "duration": 3,
    "start_time": "2025-01-21T20:42:14.931Z"
   },
   {
    "duration": 10,
    "start_time": "2025-01-21T20:42:14.935Z"
   },
   {
    "duration": 39,
    "start_time": "2025-01-21T20:42:14.947Z"
   },
   {
    "duration": 17,
    "start_time": "2025-01-21T20:42:15.008Z"
   },
   {
    "duration": 15,
    "start_time": "2025-01-21T20:42:15.026Z"
   },
   {
    "duration": 5,
    "start_time": "2025-01-21T20:42:15.043Z"
   },
   {
    "duration": 6,
    "start_time": "2025-01-21T20:42:15.050Z"
   },
   {
    "duration": 246,
    "start_time": "2025-01-21T20:42:15.058Z"
   }
  ],
  "kernelspec": {
   "display_name": "base",
   "language": "python",
   "name": "python3"
  },
  "language_info": {
   "codemirror_mode": {
    "name": "ipython",
    "version": 3
   },
   "file_extension": ".py",
   "mimetype": "text/x-python",
   "name": "python",
   "nbconvert_exporter": "python",
   "pygments_lexer": "ipython3",
   "version": "3.12.7"
  },
  "toc": {
   "base_numbering": 1,
   "nav_menu": {},
   "number_sections": true,
   "sideBar": true,
   "skip_h1_title": true,
   "title_cell": "Table of Contents",
   "title_sidebar": "Contents",
   "toc_cell": false,
   "toc_position": {},
   "toc_section_display": true,
   "toc_window_display": false
  }
 },
 "nbformat": 4,
 "nbformat_minor": 5
}
